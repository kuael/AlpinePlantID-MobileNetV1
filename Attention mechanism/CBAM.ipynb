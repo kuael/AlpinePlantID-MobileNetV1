{
 "cells": [
  {
   "cell_type": "code",
   "execution_count": 1,
   "metadata": {
    "tags": []
   },
   "outputs": [],
   "source": [
    "import tensorflow as tf  \n",
    "import numpy as np       \n",
    "import pandas as pd       \n",
    "from matplotlib import pyplot as plt   \n",
    "import seaborn as sns  \n",
    "%matplotlib inline    \n",
    "import time          \n",
    "from tensorflow.keras.callbacks import History       \n",
    "from tensorflow.keras.callbacks import ReduceLROnPlateau, TensorBoard       \n",
    "from tensorflow.keras import metrics          \n",
    "from sklearn.metrics import confusion_matrix          \n",
    "from keras.callbacks import TensorBoard    \n",
    "import pickle\n",
    "from tensorflow.keras.applications import MobileNet\n",
    "from tensorflow.keras.layers import GlobalAveragePooling2D, GlobalMaxPooling2D, Reshape, Multiply, Dense, Conv1D\n",
    "from tensorflow.keras import backend as K\n",
    "from tensorflow.keras.layers import add\n",
    "import platform\n",
    "import os"
   ]
  },
  {
   "cell_type": "code",
   "execution_count": 2,
   "metadata": {
    "tags": []
   },
   "outputs": [],
   "source": [
    "# Display Settings\n",
    "pd.options.display.max_columns = None\n",
    "pd.options.display.max_rows = None\n",
    "sns.set()"
   ]
  },
  {
   "cell_type": "code",
   "execution_count": 3,
   "metadata": {
    "tags": []
   },
   "outputs": [
    {
     "name": "stdout",
     "output_type": "stream",
     "text": [
      "Python version:  3.11.7\n",
      "TensorFlow version:  2.15.0\n",
      "Current working directory:  /root/.jupyter/张彤/注意力机制\n",
      "Linux w3q2ulc9.vm 5.15.0-60-generic #66-Ubuntu SMP Fri Jan 20 14:29:49 UTC 2023 x86_64 x86_64 x86_64 GNU/Linux\n",
      "Sat Oct 26 20:30:06 2024       \n",
      "+---------------------------------------------------------------------------------------+\n",
      "| NVIDIA-SMI 545.23.08              Driver Version: 545.23.08    CUDA Version: 12.3     |\n",
      "|-----------------------------------------+----------------------+----------------------+\n",
      "| GPU  Name                 Persistence-M | Bus-Id        Disp.A | Volatile Uncorr. ECC |\n",
      "| Fan  Temp   Perf          Pwr:Usage/Cap |         Memory-Usage | GPU-Util  Compute M. |\n",
      "|                                         |                      |               MIG M. |\n",
      "|=========================================+======================+======================|\n",
      "|   0  NVIDIA GeForce RTX 4090        On  | 00000000:09:00.0 Off |                  Off |\n",
      "|  0%   24C    P8               8W / 450W |      3MiB / 24564MiB |      0%      Default |\n",
      "|                                         |                      |                  N/A |\n",
      "+-----------------------------------------+----------------------+----------------------+\n",
      "|   1  NVIDIA GeForce RTX 4090        On  | 00000000:0B:00.0 Off |                  Off |\n",
      "|  0%   25C    P8               9W / 450W |      3MiB / 24564MiB |      0%      Default |\n",
      "|                                         |                      |                  N/A |\n",
      "+-----------------------------------------+----------------------+----------------------+\n",
      "                                                                                         \n",
      "+---------------------------------------------------------------------------------------+\n",
      "| Processes:                                                                            |\n",
      "|  GPU   GI   CI        PID   Type   Process name                            GPU Memory |\n",
      "|        ID   ID                                                             Usage      |\n",
      "|=======================================================================================|\n",
      "|  No running processes found                                                           |\n",
      "+---------------------------------------------------------------------------------------+\n"
     ]
    }
   ],
   "source": [
    "# System Information Print the Python version\n",
    "print(\"Python version: \", platform.python_version())\n",
    "print(\"TensorFlow version: \", tf.__version__)\n",
    "print(\"Current working directory: \", os.getcwd())\n",
    "!uname -a\n",
    "!nvidia-smi"
   ]
  },
  {
   "cell_type": "code",
   "execution_count": 4,
   "metadata": {
    "tags": []
   },
   "outputs": [],
   "source": [
    "# Hyperparameter Settings\n",
    "EPOCHS = 50\n",
    "IMAGE_SIZE = (224, 224)\n",
    "IMAGE_PATH = \"../data\"\n",
    "LEARNING_RATE = 1e-4\n",
    "BATCH_SIZE = 64"
   ]
  },
  {
   "cell_type": "code",
   "execution_count": 5,
   "metadata": {
    "tags": []
   },
   "outputs": [
    {
     "name": "stdout",
     "output_type": "stream",
     "text": [
      "Found 14080 files belonging to 100 classes.\n",
      "Using 11264 files for training.\n"
     ]
    },
    {
     "name": "stderr",
     "output_type": "stream",
     "text": [
      "2024-10-26 20:30:10.691769: I external/local_xla/xla/stream_executor/cuda/cuda_executor.cc:901] successful NUMA node read from SysFS had negative value (-1), but there must be at least one NUMA node, so returning NUMA node zero. See more at https://github.com/torvalds/linux/blob/v6.0/Documentation/ABI/testing/sysfs-bus-pci#L344-L355\n",
      "2024-10-26 20:30:10.692250: I external/local_xla/xla/stream_executor/cuda/cuda_executor.cc:901] successful NUMA node read from SysFS had negative value (-1), but there must be at least one NUMA node, so returning NUMA node zero. See more at https://github.com/torvalds/linux/blob/v6.0/Documentation/ABI/testing/sysfs-bus-pci#L344-L355\n",
      "2024-10-26 20:30:11.011449: I external/local_xla/xla/stream_executor/cuda/cuda_executor.cc:901] successful NUMA node read from SysFS had negative value (-1), but there must be at least one NUMA node, so returning NUMA node zero. See more at https://github.com/torvalds/linux/blob/v6.0/Documentation/ABI/testing/sysfs-bus-pci#L344-L355\n",
      "2024-10-26 20:30:11.012161: I external/local_xla/xla/stream_executor/cuda/cuda_executor.cc:901] successful NUMA node read from SysFS had negative value (-1), but there must be at least one NUMA node, so returning NUMA node zero. See more at https://github.com/torvalds/linux/blob/v6.0/Documentation/ABI/testing/sysfs-bus-pci#L344-L355\n",
      "2024-10-26 20:30:11.012591: I external/local_xla/xla/stream_executor/cuda/cuda_executor.cc:901] successful NUMA node read from SysFS had negative value (-1), but there must be at least one NUMA node, so returning NUMA node zero. See more at https://github.com/torvalds/linux/blob/v6.0/Documentation/ABI/testing/sysfs-bus-pci#L344-L355\n",
      "2024-10-26 20:30:11.012986: I external/local_xla/xla/stream_executor/cuda/cuda_executor.cc:901] successful NUMA node read from SysFS had negative value (-1), but there must be at least one NUMA node, so returning NUMA node zero. See more at https://github.com/torvalds/linux/blob/v6.0/Documentation/ABI/testing/sysfs-bus-pci#L344-L355\n",
      "2024-10-26 20:30:11.295042: I external/local_xla/xla/stream_executor/cuda/cuda_executor.cc:901] successful NUMA node read from SysFS had negative value (-1), but there must be at least one NUMA node, so returning NUMA node zero. See more at https://github.com/torvalds/linux/blob/v6.0/Documentation/ABI/testing/sysfs-bus-pci#L344-L355\n",
      "2024-10-26 20:30:11.295518: I external/local_xla/xla/stream_executor/cuda/cuda_executor.cc:901] successful NUMA node read from SysFS had negative value (-1), but there must be at least one NUMA node, so returning NUMA node zero. See more at https://github.com/torvalds/linux/blob/v6.0/Documentation/ABI/testing/sysfs-bus-pci#L344-L355\n",
      "2024-10-26 20:30:11.295834: I external/local_xla/xla/stream_executor/cuda/cuda_executor.cc:901] successful NUMA node read from SysFS had negative value (-1), but there must be at least one NUMA node, so returning NUMA node zero. See more at https://github.com/torvalds/linux/blob/v6.0/Documentation/ABI/testing/sysfs-bus-pci#L344-L355\n",
      "2024-10-26 20:30:11.296115: I external/local_xla/xla/stream_executor/cuda/cuda_executor.cc:901] successful NUMA node read from SysFS had negative value (-1), but there must be at least one NUMA node, so returning NUMA node zero. See more at https://github.com/torvalds/linux/blob/v6.0/Documentation/ABI/testing/sysfs-bus-pci#L344-L355\n",
      "2024-10-26 20:30:11.296387: I external/local_xla/xla/stream_executor/cuda/cuda_executor.cc:901] successful NUMA node read from SysFS had negative value (-1), but there must be at least one NUMA node, so returning NUMA node zero. See more at https://github.com/torvalds/linux/blob/v6.0/Documentation/ABI/testing/sysfs-bus-pci#L344-L355\n",
      "2024-10-26 20:30:11.296663: I external/local_xla/xla/stream_executor/cuda/cuda_executor.cc:901] successful NUMA node read from SysFS had negative value (-1), but there must be at least one NUMA node, so returning NUMA node zero. See more at https://github.com/torvalds/linux/blob/v6.0/Documentation/ABI/testing/sysfs-bus-pci#L344-L355\n",
      "2024-10-26 20:30:11.323883: I external/local_xla/xla/stream_executor/cuda/cuda_executor.cc:901] successful NUMA node read from SysFS had negative value (-1), but there must be at least one NUMA node, so returning NUMA node zero. See more at https://github.com/torvalds/linux/blob/v6.0/Documentation/ABI/testing/sysfs-bus-pci#L344-L355\n",
      "2024-10-26 20:30:11.324252: I external/local_xla/xla/stream_executor/cuda/cuda_executor.cc:901] successful NUMA node read from SysFS had negative value (-1), but there must be at least one NUMA node, so returning NUMA node zero. See more at https://github.com/torvalds/linux/blob/v6.0/Documentation/ABI/testing/sysfs-bus-pci#L344-L355\n",
      "2024-10-26 20:30:11.324520: I external/local_xla/xla/stream_executor/cuda/cuda_executor.cc:901] successful NUMA node read from SysFS had negative value (-1), but there must be at least one NUMA node, so returning NUMA node zero. See more at https://github.com/torvalds/linux/blob/v6.0/Documentation/ABI/testing/sysfs-bus-pci#L344-L355\n",
      "2024-10-26 20:30:11.324778: I external/local_xla/xla/stream_executor/cuda/cuda_executor.cc:901] successful NUMA node read from SysFS had negative value (-1), but there must be at least one NUMA node, so returning NUMA node zero. See more at https://github.com/torvalds/linux/blob/v6.0/Documentation/ABI/testing/sysfs-bus-pci#L344-L355\n",
      "2024-10-26 20:30:11.325036: I external/local_xla/xla/stream_executor/cuda/cuda_executor.cc:901] successful NUMA node read from SysFS had negative value (-1), but there must be at least one NUMA node, so returning NUMA node zero. See more at https://github.com/torvalds/linux/blob/v6.0/Documentation/ABI/testing/sysfs-bus-pci#L344-L355\n",
      "2024-10-26 20:30:11.325245: I tensorflow/core/common_runtime/gpu/gpu_device.cc:1929] Created device /job:localhost/replica:0/task:0/device:GPU:0 with 22287 MB memory:  -> device: 0, name: NVIDIA GeForce RTX 4090, pci bus id: 0000:09:00.0, compute capability: 8.9\n",
      "2024-10-26 20:30:11.326118: I external/local_xla/xla/stream_executor/cuda/cuda_executor.cc:901] successful NUMA node read from SysFS had negative value (-1), but there must be at least one NUMA node, so returning NUMA node zero. See more at https://github.com/torvalds/linux/blob/v6.0/Documentation/ABI/testing/sysfs-bus-pci#L344-L355\n",
      "2024-10-26 20:30:11.326367: I tensorflow/core/common_runtime/gpu/gpu_device.cc:1929] Created device /job:localhost/replica:0/task:0/device:GPU:1 with 22287 MB memory:  -> device: 1, name: NVIDIA GeForce RTX 4090, pci bus id: 0000:0b:00.0, compute capability: 8.9\n",
      "2024-10-26 20:30:12.273238: I external/local_tsl/tsl/platform/default/subprocess.cc:304] Start cannot spawn child process: No such file or directory\n"
     ]
    },
    {
     "name": "stdout",
     "output_type": "stream",
     "text": [
      "Found 14080 files belonging to 100 classes.\n",
      "Using 2816 files for validation.\n"
     ]
    }
   ],
   "source": [
    "# Load Dataset\n",
    "train_ds = tf.keras.utils.image_dataset_from_directory(\n",
    "    IMAGE_PATH,\n",
    "    validation_split=0.2,\n",
    "    subset=\"training\",    \n",
    "    seed=123,               \n",
    "    image_size=IMAGE_SIZE,   \n",
    "    batch_size=BATCH_SIZE    \n",
    ")\n",
    "\n",
    "vaild_ds = tf.keras.utils.image_dataset_from_directory(\n",
    "    IMAGE_PATH,\n",
    "    validation_split=0.2,\n",
    "    subset=\"validation\",\n",
    "    seed=123,\n",
    "    image_size=IMAGE_SIZE,\n",
    "    batch_size=BATCH_SIZE\n",
    ")"
   ]
  },
  {
   "cell_type": "code",
   "execution_count": 6,
   "metadata": {
    "tags": []
   },
   "outputs": [],
   "source": [
    "# Image Normalization\n",
    "mean = [0.485, 0.456, 0.406]\n",
    "std = [0.229, 0.224, 0.225]\n",
    "mean_tensor = tf.constant(mean, dtype=tf.float32)\n",
    "std_tensor = tf.constant(std, dtype=tf.float32)"
   ]
  },
  {
   "cell_type": "code",
   "execution_count": 7,
   "metadata": {
    "tags": []
   },
   "outputs": [],
   "source": [
    "# Data Augmentation\n",
    "train_image_augment = tf.keras.Sequential([\n",
    "    tf.keras.layers.Rescaling(1 / 255.0),\n",
    "    tf.keras.layers.RandomRotation(factor=0.2),\n",
    "    tf.keras.layers.RandomFlip(),\n",
    "])\n",
    "\n",
    "valid_image_augment = tf.keras.Sequential([\n",
    "    tf.keras.layers.Rescaling(1 / 255.0),\n",
    "])"
   ]
  },
  {
   "cell_type": "code",
   "execution_count": 8,
   "metadata": {
    "tags": []
   },
   "outputs": [],
   "source": [
    "# Input Processing\n",
    "def process_train_input(images, labels):\n",
    "    return train_image_augment(images), labels\n",
    "\n",
    "def process_valid_input(images, labels):\n",
    "    return valid_image_augment(images), labels\n"
   ]
  },
  {
   "cell_type": "code",
   "execution_count": 9,
   "metadata": {
    "tags": []
   },
   "outputs": [],
   "source": [
    "# Data Preprocessing\n",
    "def convert_types_and_encode(x, y):\n",
    "    y = tf.cast(y, tf.int32)  \n",
    "    y_one_hot = tf.one_hot(y, 100)  \n",
    "    return x, y_one_hot"
   ]
  },
  {
   "cell_type": "code",
   "execution_count": 10,
   "metadata": {
    "tags": []
   },
   "outputs": [],
   "source": [
    "# Apply Data Preprocessing\n",
    "train_ds = train_ds.map(convert_types_and_encode)\n",
    "train_ds = train_ds.map(process_train_input, num_parallel_calls=tf.data.AUTOTUNE)\n",
    "train_ds = train_ds.prefetch(tf.data.AUTOTUNE)\n",
    "\n",
    "vaild_ds = vaild_ds.map(convert_types_and_encode)\n",
    "vaild_ds = vaild_ds.map(process_valid_input, num_parallel_calls=tf.data.AUTOTUNE)\n",
    "vaild_ds = vaild_ds.prefetch(tf.data.AUTOTUNE)"
   ]
  },
  {
   "cell_type": "code",
   "execution_count": 11,
   "metadata": {
    "tags": []
   },
   "outputs": [],
   "source": [
    "# Define CBAM block and MobileNet model\n",
    "import tensorflow as tf\n",
    "from tensorflow.keras.layers import GlobalAveragePooling2D, GlobalMaxPooling2D, Reshape, Multiply, Dense, Conv1D, Add\n",
    "from tensorflow.keras.applications import MobileNet\n",
    "from tensorflow.keras import backend as K\n",
    "\n",
    "def cbam_block(input_tensor, reduction_ratio=16):\n",
    "    channel = input_tensor.shape[-1]\n",
    "\n",
    "    # Channel Attention\n",
    "    avg_pool = GlobalAveragePooling2D()(input_tensor)\n",
    "    avg_pool = Reshape((1, 1, channel))(avg_pool)\n",
    "    avg_fc = Dense(channel // reduction_ratio, activation='relu')(avg_pool)\n",
    "    avg_fc = Dense(channel, activation='sigmoid')(avg_fc)\n",
    "\n",
    "    max_pool = GlobalMaxPooling2D()(input_tensor)\n",
    "    max_pool = Reshape((1, 1, channel))(max_pool)\n",
    "    max_fc = Dense(channel // reduction_ratio, activation='relu')(max_pool)\n",
    "    max_fc = Dense(channel, activation='sigmoid')(max_fc)\n",
    "\n",
    "    # Channel Attention: Add the outputs of avg_pool and max_pool, then apply sigmoid activation\n",
    "    channel_attention = Add()([avg_fc, max_fc])  # Use Add() for element-wise addition\n",
    "    channel_attention = tf.keras.activations.sigmoid(channel_attention)\n",
    "\n",
    "    # Refine the input tensor with channel attention\n",
    "    channel_refined = Multiply()([input_tensor, channel_attention])\n",
    "\n",
    "    # Spatial Attention\n",
    "    spatial_avg_pool = K.mean(input_tensor, axis=-1, keepdims=True)\n",
    "    spatial_max_pool = K.max(input_tensor, axis=-1, keepdims=True)\n",
    "    spatial_concat = K.concatenate([spatial_avg_pool, spatial_max_pool], axis=-1)\n",
    "    spatial_conv = Conv1D(1, kernel_size=7, padding='same', activation='sigmoid')(spatial_concat)\n",
    "\n",
    "    # Refine the input tensor with spatial attention\n",
    "    spatial_attention = Multiply()([channel_refined, spatial_conv])\n",
    "\n",
    "    return spatial_attention\n",
    "\n",
    "# Create MobileNet base model\n",
    "base_model = MobileNet(input_shape=(224, 224, 3), include_top=False, weights='imagenet')\n",
    "\n",
    "# Apply CBAM block\n",
    "feature_maps = base_model.output\n",
    "cbam_feature_maps = cbam_block(feature_maps)\n",
    "\n",
    "# Add global average pooling and dense layers\n",
    "x = GlobalAveragePooling2D()(cbam_feature_maps)\n",
    "x = Dense(1024, activation='relu')(x)\n",
    "outputs = Dense(100, activation='softmax')(x)\n",
    "\n",
    "# Create the final model\n",
    "model = tf.keras.Model(inputs=base_model.input, outputs=outputs)\n"
   ]
  },
  {
   "cell_type": "code",
   "execution_count": 12,
   "metadata": {
    "tags": []
   },
   "outputs": [],
   "source": [
    "# Compile Model\n",
    "optimizer = tf.keras.optimizers.Adam(learning_rate=LEARNING_RATE)\n",
    "loss_fn = tf.keras.losses.CategoricalCrossentropy()\n",
    "metrics = [\n",
    "    tf.keras.metrics.CategoricalAccuracy(),\n",
    "    tf.keras.metrics.Precision(),\n",
    "    tf.keras.metrics.Recall(),\n",
    "]\n",
    "\n",
    "model.compile(optimizer=optimizer, loss=loss_fn, metrics=metrics)"
   ]
  },
  {
   "cell_type": "code",
   "execution_count": 14,
   "metadata": {
    "tags": []
   },
   "outputs": [
    {
     "name": "stdout",
     "output_type": "stream",
     "text": [
      "Epoch 1/50\n",
      "176/176 [==============================] - 16s 86ms/step - loss: 0.0202 - categorical_accuracy: 0.9948 - precision: 0.9949 - recall: 0.9944 - val_loss: 0.3245 - val_categorical_accuracy: 0.9119 - val_precision: 0.9271 - val_recall: 0.9031 - lr: 6.2500e-06\n",
      "Epoch 2/50\n",
      "176/176 [==============================] - 15s 84ms/step - loss: 0.0206 - categorical_accuracy: 0.9948 - precision: 0.9949 - recall: 0.9945 - val_loss: 0.3248 - val_categorical_accuracy: 0.9119 - val_precision: 0.9271 - val_recall: 0.9031 - lr: 6.2500e-06\n",
      "Epoch 3/50\n",
      "176/176 [==============================] - 16s 86ms/step - loss: 0.0206 - categorical_accuracy: 0.9942 - precision: 0.9947 - recall: 0.9936 - val_loss: 0.3286 - val_categorical_accuracy: 0.9098 - val_precision: 0.9256 - val_recall: 0.9016 - lr: 6.2500e-06\n",
      "Epoch 4/50\n",
      "176/176 [==============================] - 15s 84ms/step - loss: 0.0187 - categorical_accuracy: 0.9950 - precision: 0.9956 - recall: 0.9949 - val_loss: 0.3262 - val_categorical_accuracy: 0.9105 - val_precision: 0.9264 - val_recall: 0.9023 - lr: 3.1250e-06\n",
      "Epoch 5/50\n",
      "176/176 [==============================] - 16s 86ms/step - loss: 0.0192 - categorical_accuracy: 0.9949 - precision: 0.9953 - recall: 0.9947 - val_loss: 0.3257 - val_categorical_accuracy: 0.9102 - val_precision: 0.9267 - val_recall: 0.9031 - lr: 3.1250e-06\n",
      "Epoch 6/50\n",
      "176/176 [==============================] - 16s 85ms/step - loss: 0.0184 - categorical_accuracy: 0.9950 - precision: 0.9953 - recall: 0.9947 - val_loss: 0.3255 - val_categorical_accuracy: 0.9116 - val_precision: 0.9275 - val_recall: 0.9034 - lr: 1.5625e-06\n",
      "Epoch 7/50\n",
      "176/176 [==============================] - 15s 85ms/step - loss: 0.0184 - categorical_accuracy: 0.9949 - precision: 0.9950 - recall: 0.9945 - val_loss: 0.3239 - val_categorical_accuracy: 0.9112 - val_precision: 0.9281 - val_recall: 0.9031 - lr: 1.5625e-06\n",
      "Epoch 8/50\n",
      "176/176 [==============================] - 15s 82ms/step - loss: 0.0169 - categorical_accuracy: 0.9961 - precision: 0.9961 - recall: 0.9955 - val_loss: 0.3242 - val_categorical_accuracy: 0.9102 - val_precision: 0.9284 - val_recall: 0.9027 - lr: 7.8125e-07\n",
      "Epoch 9/50\n",
      "176/176 [==============================] - 15s 83ms/step - loss: 0.0179 - categorical_accuracy: 0.9959 - precision: 0.9961 - recall: 0.9957 - val_loss: 0.3249 - val_categorical_accuracy: 0.9105 - val_precision: 0.9281 - val_recall: 0.9027 - lr: 7.8125e-07\n",
      "Epoch 10/50\n",
      "176/176 [==============================] - 15s 85ms/step - loss: 0.0180 - categorical_accuracy: 0.9952 - precision: 0.9956 - recall: 0.9949 - val_loss: 0.3243 - val_categorical_accuracy: 0.9109 - val_precision: 0.9281 - val_recall: 0.9034 - lr: 3.9062e-07\n",
      "Epoch 11/50\n",
      "176/176 [==============================] - 16s 86ms/step - loss: 0.0181 - categorical_accuracy: 0.9954 - precision: 0.9956 - recall: 0.9952 - val_loss: 0.3241 - val_categorical_accuracy: 0.9105 - val_precision: 0.9284 - val_recall: 0.9031 - lr: 3.9062e-07\n",
      "Epoch 12/50\n",
      "176/176 [==============================] - 16s 85ms/step - loss: 0.0181 - categorical_accuracy: 0.9955 - precision: 0.9956 - recall: 0.9949 - val_loss: 0.3247 - val_categorical_accuracy: 0.9109 - val_precision: 0.9274 - val_recall: 0.9023 - lr: 1.9531e-07\n",
      "Epoch 13/50\n",
      "176/176 [==============================] - 15s 83ms/step - loss: 0.0179 - categorical_accuracy: 0.9950 - precision: 0.9953 - recall: 0.9946 - val_loss: 0.3239 - val_categorical_accuracy: 0.9105 - val_precision: 0.9274 - val_recall: 0.9031 - lr: 1.9531e-07\n",
      "Epoch 14/50\n",
      "176/176 [==============================] - 15s 84ms/step - loss: 0.0167 - categorical_accuracy: 0.9964 - precision: 0.9965 - recall: 0.9961 - val_loss: 0.3239 - val_categorical_accuracy: 0.9105 - val_precision: 0.9284 - val_recall: 0.9031 - lr: 9.7656e-08\n",
      "Epoch 15/50\n",
      "176/176 [==============================] - 16s 85ms/step - loss: 0.0187 - categorical_accuracy: 0.9947 - precision: 0.9950 - recall: 0.9941 - val_loss: 0.3242 - val_categorical_accuracy: 0.9112 - val_precision: 0.9281 - val_recall: 0.9031 - lr: 9.7656e-08\n",
      "Epoch 16/50\n",
      "176/176 [==============================] - 15s 84ms/step - loss: 0.0181 - categorical_accuracy: 0.9950 - precision: 0.9956 - recall: 0.9946 - val_loss: 0.3242 - val_categorical_accuracy: 0.9112 - val_precision: 0.9278 - val_recall: 0.9031 - lr: 4.8828e-08\n",
      "Epoch 17/50\n",
      "176/176 [==============================] - 15s 85ms/step - loss: 0.0183 - categorical_accuracy: 0.9946 - precision: 0.9948 - recall: 0.9942 - val_loss: 0.3239 - val_categorical_accuracy: 0.9109 - val_precision: 0.9274 - val_recall: 0.9031 - lr: 4.8828e-08\n",
      "Epoch 18/50\n",
      "176/176 [==============================] - 16s 85ms/step - loss: 0.0175 - categorical_accuracy: 0.9953 - precision: 0.9954 - recall: 0.9951 - val_loss: 0.3239 - val_categorical_accuracy: 0.9102 - val_precision: 0.9275 - val_recall: 0.9038 - lr: 2.4414e-08\n",
      "Epoch 19/50\n",
      "176/176 [==============================] - 16s 86ms/step - loss: 0.0182 - categorical_accuracy: 0.9952 - precision: 0.9956 - recall: 0.9949 - val_loss: 0.3244 - val_categorical_accuracy: 0.9105 - val_precision: 0.9281 - val_recall: 0.9034 - lr: 2.4414e-08\n",
      "Epoch 20/50\n",
      "176/176 [==============================] - 16s 86ms/step - loss: 0.0193 - categorical_accuracy: 0.9948 - precision: 0.9953 - recall: 0.9943 - val_loss: 0.3243 - val_categorical_accuracy: 0.9105 - val_precision: 0.9278 - val_recall: 0.9031 - lr: 1.2207e-08\n",
      "Epoch 21/50\n",
      "176/176 [==============================] - 15s 83ms/step - loss: 0.0186 - categorical_accuracy: 0.9953 - precision: 0.9954 - recall: 0.9948 - val_loss: 0.3241 - val_categorical_accuracy: 0.9105 - val_precision: 0.9281 - val_recall: 0.9031 - lr: 1.2207e-08\n",
      "Epoch 22/50\n",
      "176/176 [==============================] - 14s 77ms/step - loss: 0.0188 - categorical_accuracy: 0.9951 - precision: 0.9953 - recall: 0.9945 - val_loss: 0.3241 - val_categorical_accuracy: 0.9109 - val_precision: 0.9274 - val_recall: 0.9031 - lr: 1.0000e-08\n",
      "Epoch 23/50\n",
      "176/176 [==============================] - 14s 79ms/step - loss: 0.0191 - categorical_accuracy: 0.9949 - precision: 0.9953 - recall: 0.9947 - val_loss: 0.3242 - val_categorical_accuracy: 0.9102 - val_precision: 0.9275 - val_recall: 0.9034 - lr: 1.0000e-08\n",
      "Epoch 24/50\n",
      "176/176 [==============================] - 14s 79ms/step - loss: 0.0177 - categorical_accuracy: 0.9956 - precision: 0.9960 - recall: 0.9951 - val_loss: 0.3238 - val_categorical_accuracy: 0.9109 - val_precision: 0.9285 - val_recall: 0.9034 - lr: 1.0000e-08\n",
      "Epoch 25/50\n",
      "176/176 [==============================] - 14s 78ms/step - loss: 0.0183 - categorical_accuracy: 0.9956 - precision: 0.9960 - recall: 0.9951 - val_loss: 0.3236 - val_categorical_accuracy: 0.9109 - val_precision: 0.9285 - val_recall: 0.9034 - lr: 1.0000e-08\n",
      "Epoch 26/50\n",
      "176/176 [==============================] - 15s 80ms/step - loss: 0.0185 - categorical_accuracy: 0.9955 - precision: 0.9957 - recall: 0.9945 - val_loss: 0.3237 - val_categorical_accuracy: 0.9105 - val_precision: 0.9278 - val_recall: 0.9038 - lr: 1.0000e-08\n",
      "Epoch 27/50\n",
      "176/176 [==============================] - 15s 84ms/step - loss: 0.0174 - categorical_accuracy: 0.9953 - precision: 0.9957 - recall: 0.9949 - val_loss: 0.3240 - val_categorical_accuracy: 0.9109 - val_precision: 0.9281 - val_recall: 0.9034 - lr: 1.0000e-08\n",
      "Epoch 28/50\n",
      "176/176 [==============================] - 16s 85ms/step - loss: 0.0175 - categorical_accuracy: 0.9955 - precision: 0.9956 - recall: 0.9953 - val_loss: 0.3239 - val_categorical_accuracy: 0.9109 - val_precision: 0.9278 - val_recall: 0.9038 - lr: 1.0000e-08\n",
      "Epoch 29/50\n",
      "176/176 [==============================] - 16s 85ms/step - loss: 0.0183 - categorical_accuracy: 0.9949 - precision: 0.9953 - recall: 0.9944 - val_loss: 0.3239 - val_categorical_accuracy: 0.9109 - val_precision: 0.9275 - val_recall: 0.9034 - lr: 1.0000e-08\n",
      "Epoch 30/50\n",
      "176/176 [==============================] - 15s 79ms/step - loss: 0.0179 - categorical_accuracy: 0.9949 - precision: 0.9952 - recall: 0.9947 - val_loss: 0.3239 - val_categorical_accuracy: 0.9105 - val_precision: 0.9284 - val_recall: 0.9031 - lr: 1.0000e-08\n",
      "Epoch 31/50\n",
      "176/176 [==============================] - 15s 85ms/step - loss: 0.0183 - categorical_accuracy: 0.9946 - precision: 0.9948 - recall: 0.9941 - val_loss: 0.3239 - val_categorical_accuracy: 0.9105 - val_precision: 0.9281 - val_recall: 0.9031 - lr: 1.0000e-08\n",
      "Epoch 32/50\n",
      "176/176 [==============================] - 16s 86ms/step - loss: 0.0176 - categorical_accuracy: 0.9951 - precision: 0.9955 - recall: 0.9949 - val_loss: 0.3242 - val_categorical_accuracy: 0.9105 - val_precision: 0.9271 - val_recall: 0.9031 - lr: 1.0000e-08\n",
      "Epoch 33/50\n",
      "176/176 [==============================] - 15s 84ms/step - loss: 0.0189 - categorical_accuracy: 0.9946 - precision: 0.9951 - recall: 0.9940 - val_loss: 0.3238 - val_categorical_accuracy: 0.9109 - val_precision: 0.9281 - val_recall: 0.9034 - lr: 1.0000e-08\n",
      "Epoch 34/50\n",
      "176/176 [==============================] - 15s 83ms/step - loss: 0.0191 - categorical_accuracy: 0.9946 - precision: 0.9947 - recall: 0.9942 - val_loss: 0.3233 - val_categorical_accuracy: 0.9105 - val_precision: 0.9285 - val_recall: 0.9038 - lr: 1.0000e-08\n",
      "Epoch 35/50\n",
      "176/176 [==============================] - 15s 83ms/step - loss: 0.0175 - categorical_accuracy: 0.9956 - precision: 0.9958 - recall: 0.9953 - val_loss: 0.3237 - val_categorical_accuracy: 0.9109 - val_precision: 0.9282 - val_recall: 0.9038 - lr: 1.0000e-08\n",
      "Epoch 36/50\n",
      "176/176 [==============================] - 15s 79ms/step - loss: 0.0184 - categorical_accuracy: 0.9951 - precision: 0.9955 - recall: 0.9946 - val_loss: 0.3240 - val_categorical_accuracy: 0.9109 - val_precision: 0.9278 - val_recall: 0.9031 - lr: 1.0000e-08\n",
      "Epoch 37/50\n",
      "176/176 [==============================] - 15s 80ms/step - loss: 0.0173 - categorical_accuracy: 0.9963 - precision: 0.9963 - recall: 0.9961 - val_loss: 0.3239 - val_categorical_accuracy: 0.9109 - val_precision: 0.9281 - val_recall: 0.9034 - lr: 1.0000e-08\n",
      "Epoch 38/50\n",
      "176/176 [==============================] - 14s 76ms/step - loss: 0.0179 - categorical_accuracy: 0.9953 - precision: 0.9956 - recall: 0.9949 - val_loss: 0.3242 - val_categorical_accuracy: 0.9109 - val_precision: 0.9281 - val_recall: 0.9034 - lr: 1.0000e-08\n",
      "Epoch 39/50\n",
      "176/176 [==============================] - 14s 77ms/step - loss: 0.0184 - categorical_accuracy: 0.9951 - precision: 0.9954 - recall: 0.9949 - val_loss: 0.3238 - val_categorical_accuracy: 0.9109 - val_precision: 0.9282 - val_recall: 0.9038 - lr: 1.0000e-08\n",
      "Epoch 40/50\n",
      "176/176 [==============================] - 15s 79ms/step - loss: 0.0179 - categorical_accuracy: 0.9953 - precision: 0.9955 - recall: 0.9952 - val_loss: 0.3238 - val_categorical_accuracy: 0.9105 - val_precision: 0.9278 - val_recall: 0.9038 - lr: 1.0000e-08\n",
      "Epoch 41/50\n",
      "176/176 [==============================] - 16s 85ms/step - loss: 0.0179 - categorical_accuracy: 0.9953 - precision: 0.9956 - recall: 0.9949 - val_loss: 0.3242 - val_categorical_accuracy: 0.9105 - val_precision: 0.9275 - val_recall: 0.9038 - lr: 1.0000e-08\n",
      "Epoch 42/50\n",
      "176/176 [==============================] - 15s 85ms/step - loss: 0.0178 - categorical_accuracy: 0.9951 - precision: 0.9954 - recall: 0.9948 - val_loss: 0.3242 - val_categorical_accuracy: 0.9109 - val_precision: 0.9278 - val_recall: 0.9034 - lr: 1.0000e-08\n",
      "Epoch 43/50\n",
      "176/176 [==============================] - 14s 77ms/step - loss: 0.0176 - categorical_accuracy: 0.9953 - precision: 0.9955 - recall: 0.9949 - val_loss: 0.3239 - val_categorical_accuracy: 0.9109 - val_precision: 0.9278 - val_recall: 0.9034 - lr: 1.0000e-08\n",
      "Epoch 44/50\n",
      "176/176 [==============================] - 15s 80ms/step - loss: 0.0189 - categorical_accuracy: 0.9958 - precision: 0.9962 - recall: 0.9948 - val_loss: 0.3243 - val_categorical_accuracy: 0.9109 - val_precision: 0.9278 - val_recall: 0.9034 - lr: 1.0000e-08\n",
      "Epoch 45/50\n",
      "176/176 [==============================] - 15s 83ms/step - loss: 0.0178 - categorical_accuracy: 0.9953 - precision: 0.9956 - recall: 0.9949 - val_loss: 0.3238 - val_categorical_accuracy: 0.9105 - val_precision: 0.9285 - val_recall: 0.9041 - lr: 1.0000e-08\n",
      "Epoch 46/50\n",
      "176/176 [==============================] - 15s 84ms/step - loss: 0.0181 - categorical_accuracy: 0.9954 - precision: 0.9956 - recall: 0.9950 - val_loss: 0.3237 - val_categorical_accuracy: 0.9105 - val_precision: 0.9275 - val_recall: 0.9038 - lr: 1.0000e-08\n",
      "Epoch 47/50\n",
      "176/176 [==============================] - 15s 83ms/step - loss: 0.0186 - categorical_accuracy: 0.9954 - precision: 0.9956 - recall: 0.9951 - val_loss: 0.3240 - val_categorical_accuracy: 0.9109 - val_precision: 0.9278 - val_recall: 0.9031 - lr: 1.0000e-08\n",
      "Epoch 48/50\n",
      "176/176 [==============================] - 15s 83ms/step - loss: 0.0182 - categorical_accuracy: 0.9957 - precision: 0.9958 - recall: 0.9950 - val_loss: 0.3239 - val_categorical_accuracy: 0.9109 - val_precision: 0.9282 - val_recall: 0.9038 - lr: 1.0000e-08\n",
      "Epoch 49/50\n",
      "176/176 [==============================] - 16s 86ms/step - loss: 0.0176 - categorical_accuracy: 0.9949 - precision: 0.9949 - recall: 0.9944 - val_loss: 0.3239 - val_categorical_accuracy: 0.9105 - val_precision: 0.9278 - val_recall: 0.9031 - lr: 1.0000e-08\n",
      "Epoch 50/50\n",
      "176/176 [==============================] - 15s 84ms/step - loss: 0.0179 - categorical_accuracy: 0.9955 - precision: 0.9955 - recall: 0.9949 - val_loss: 0.3239 - val_categorical_accuracy: 0.9105 - val_precision: 0.9278 - val_recall: 0.9034 - lr: 1.0000e-08\n"
     ]
    }
   ],
   "source": [
    "# Train Model\n",
    "log_dir = \"../Running result/CBAM/CBAM\"\n",
    "tensorboard_callback = tf.keras.callbacks.TensorBoard(log_dir=log_dir, histogram_freq=1)\n",
    "lr_scheduler = tf.keras.callbacks.ReduceLROnPlateau(monitor='val_categorical_accuracy', factor=0.5, patience=2, min_lr=1e-8)\n",
    "\n",
    "history = model.fit(train_ds, epochs=EPOCHS, validation_data=vaild_ds, callbacks=[lr_scheduler, tensorboard_callback])"
   ]
  },
  {
   "cell_type": "code",
   "execution_count": 15,
   "metadata": {},
   "outputs": [
    {
     "name": "stdout",
     "output_type": "stream",
     "text": [
      "Training history saved to: ../Running result/CBAM/CBAM/CBAM.xlsx\n"
     ]
    },
    {
     "name": "stderr",
     "output_type": "stream",
     "text": [
      "/root/anaconda3/lib/python3.11/site-packages/keras/src/engine/training.py:3103: UserWarning: You are saving your model as an HDF5 file via `model.save()`. This file format is considered legacy. We recommend using instead the native Keras format, e.g. `model.save('my_model.keras')`.\n",
      "  saving_api.save_model(\n"
     ]
    },
    {
     "name": "stdout",
     "output_type": "stream",
     "text": [
      "Model saved to: ../Running result/CBAM/CBAM/CBAM.h5\n"
     ]
    }
   ],
   "source": [
    "import pandas as pd  # Import Pandas library\n",
    "import os\n",
    "\n",
    "# Define save path\n",
    "model_dir = \"../Running result/CBAM/CBAM\"\n",
    "excel_file_path = os.path.join(model_dir, \"CBAM.xlsx\")  # Path to save the Excel file\n",
    "model_file_path = os.path.join(model_dir, \"CBAM.h5\")  # Path to save the model\n",
    "\n",
    "# Check if the save directory exists; create it if it does not\n",
    "if not os.path.exists(model_dir):\n",
    "    os.makedirs(model_dir)\n",
    "\n",
    "# Save training history to an Excel file\n",
    "history_df = pd.DataFrame(history.history)  \n",
    "history_df.to_excel(excel_file_path, index=False)\n",
    "print(f\"Training history saved to: {excel_file_path}\")\n",
    "\n",
    "# Save the model to the specified path\n",
    "model.save(model_file_path)\n",
    "print(f\"Model saved to: {model_file_path}\")\n"
   ]
  },
  {
   "cell_type": "code",
   "execution_count": null,
   "metadata": {},
   "outputs": [],
   "source": []
  }
 ],
 "metadata": {
  "accelerator": "GPU",
  "colab": {
   "provenance": []
  },
  "kernelspec": {
   "display_name": "Python 3 (ipykernel)",
   "language": "python",
   "name": "python3"
  },
  "language_info": {
   "codemirror_mode": {
    "name": "ipython",
    "version": 3
   },
   "file_extension": ".py",
   "mimetype": "text/x-python",
   "name": "python",
   "nbconvert_exporter": "python",
   "pygments_lexer": "ipython3",
   "version": "3.11.7"
  }
 },
 "nbformat": 4,
 "nbformat_minor": 4
}
