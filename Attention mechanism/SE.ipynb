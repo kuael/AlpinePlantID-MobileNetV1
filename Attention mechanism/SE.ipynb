{
 "cells": [
  {
   "cell_type": "code",
   "execution_count": 1,
   "metadata": {
    "tags": []
   },
   "outputs": [],
   "source": [
    "import tensorflow as tf  \n",
    "import numpy as np       \n",
    "import pandas as pd       \n",
    "from matplotlib import pyplot as plt   \n",
    "import seaborn as sns  \n",
    "import time          \n",
    "from tensorflow.keras.callbacks import History, ReduceLROnPlateau, TensorBoard       \n",
    "from tensorflow.keras import metrics          \n",
    "from sklearn.metrics import confusion_matrix          \n",
    "import pickle\n",
    "from tensorflow.keras.applications import MobileNet\n",
    "from tensorflow.keras.layers import GlobalAveragePooling2D, Reshape, multiply, add, Dense, Conv2D, GlobalMaxPooling2D, Activation\n",
    "from tensorflow.keras import backend as K\n",
    "import platform\n",
    "import os\n",
    "from tensorflow.keras.layers import GlobalAveragePooling2D, Multiply, Dense\n",
    "from keras.layers import GlobalAveragePooling2D, Dense, Multiply\n",
    "import platform\n",
    "import os"
   ]
  },
  {
   "cell_type": "code",
   "execution_count": 2,
   "metadata": {
    "tags": []
   },
   "outputs": [],
   "source": [
    "# Display Settings\n",
    "pd.options.display.max_columns = None\n",
    "pd.options.display.max_rows = None\n",
    "sns.set()"
   ]
  },
  {
   "cell_type": "code",
   "execution_count": 3,
   "metadata": {
    "tags": []
   },
   "outputs": [
    {
     "name": "stdout",
     "output_type": "stream",
     "text": [
      "Python version:  3.11.7\n",
      "TensorFlow version:  2.15.0\n",
      "Current working directory:  /root/.jupyter/张彤/注意力机制\n",
      "Linux w3q2ulc9.vm 5.15.0-60-generic #66-Ubuntu SMP Fri Jan 20 14:29:49 UTC 2023 x86_64 x86_64 x86_64 GNU/Linux\n",
      "Sat Oct 26 21:08:59 2024       \n",
      "+---------------------------------------------------------------------------------------+\n",
      "| NVIDIA-SMI 545.23.08              Driver Version: 545.23.08    CUDA Version: 12.3     |\n",
      "|-----------------------------------------+----------------------+----------------------+\n",
      "| GPU  Name                 Persistence-M | Bus-Id        Disp.A | Volatile Uncorr. ECC |\n",
      "| Fan  Temp   Perf          Pwr:Usage/Cap |         Memory-Usage | GPU-Util  Compute M. |\n",
      "|                                         |                      |               MIG M. |\n",
      "|=========================================+======================+======================|\n",
      "|   0  NVIDIA GeForce RTX 4090        On  | 00000000:09:00.0 Off |                  Off |\n",
      "|  0%   24C    P8               9W / 450W |      3MiB / 24564MiB |      0%      Default |\n",
      "|                                         |                      |                  N/A |\n",
      "+-----------------------------------------+----------------------+----------------------+\n",
      "|   1  NVIDIA GeForce RTX 4090        On  | 00000000:0B:00.0 Off |                  Off |\n",
      "|  0%   25C    P8               4W / 450W |      3MiB / 24564MiB |      0%      Default |\n",
      "|                                         |                      |                  N/A |\n",
      "+-----------------------------------------+----------------------+----------------------+\n",
      "                                                                                         \n",
      "+---------------------------------------------------------------------------------------+\n",
      "| Processes:                                                                            |\n",
      "|  GPU   GI   CI        PID   Type   Process name                            GPU Memory |\n",
      "|        ID   ID                                                             Usage      |\n",
      "|=======================================================================================|\n",
      "|  No running processes found                                                           |\n",
      "+---------------------------------------------------------------------------------------+\n"
     ]
    }
   ],
   "source": [
    "# System Information Print the Python version\n",
    "print(\"Python version: \", platform.python_version())\n",
    "print(\"TensorFlow version: \", tf.__version__)\n",
    "print(\"Current working directory: \", os.getcwd())\n",
    "!uname -a\n",
    "!nvidia-smi"
   ]
  },
  {
   "cell_type": "code",
   "execution_count": 4,
   "metadata": {
    "tags": []
   },
   "outputs": [],
   "source": [
    "# Hyperparameter Settings\n",
    "EPOCHS = 50\n",
    "IMAGE_SIZE = (224, 224)\n",
    "IMAGE_PATH = \"../data\"\n",
    "LEARNING_RATE = 1e-4\n",
    "BATCH_SIZE = 64"
   ]
  },
  {
   "cell_type": "code",
   "execution_count": 5,
   "metadata": {
    "tags": []
   },
   "outputs": [
    {
     "name": "stdout",
     "output_type": "stream",
     "text": [
      "Found 14080 files belonging to 100 classes.\n",
      "Using 11264 files for training.\n"
     ]
    },
    {
     "name": "stderr",
     "output_type": "stream",
     "text": [
      "2024-10-26 21:09:13.848903: I external/local_xla/xla/stream_executor/cuda/cuda_executor.cc:901] successful NUMA node read from SysFS had negative value (-1), but there must be at least one NUMA node, so returning NUMA node zero. See more at https://github.com/torvalds/linux/blob/v6.0/Documentation/ABI/testing/sysfs-bus-pci#L344-L355\n",
      "2024-10-26 21:09:13.849398: I external/local_xla/xla/stream_executor/cuda/cuda_executor.cc:901] successful NUMA node read from SysFS had negative value (-1), but there must be at least one NUMA node, so returning NUMA node zero. See more at https://github.com/torvalds/linux/blob/v6.0/Documentation/ABI/testing/sysfs-bus-pci#L344-L355\n",
      "2024-10-26 21:09:14.168137: I external/local_xla/xla/stream_executor/cuda/cuda_executor.cc:901] successful NUMA node read from SysFS had negative value (-1), but there must be at least one NUMA node, so returning NUMA node zero. See more at https://github.com/torvalds/linux/blob/v6.0/Documentation/ABI/testing/sysfs-bus-pci#L344-L355\n",
      "2024-10-26 21:09:14.168824: I external/local_xla/xla/stream_executor/cuda/cuda_executor.cc:901] successful NUMA node read from SysFS had negative value (-1), but there must be at least one NUMA node, so returning NUMA node zero. See more at https://github.com/torvalds/linux/blob/v6.0/Documentation/ABI/testing/sysfs-bus-pci#L344-L355\n",
      "2024-10-26 21:09:14.169256: I external/local_xla/xla/stream_executor/cuda/cuda_executor.cc:901] successful NUMA node read from SysFS had negative value (-1), but there must be at least one NUMA node, so returning NUMA node zero. See more at https://github.com/torvalds/linux/blob/v6.0/Documentation/ABI/testing/sysfs-bus-pci#L344-L355\n",
      "2024-10-26 21:09:14.169658: I external/local_xla/xla/stream_executor/cuda/cuda_executor.cc:901] successful NUMA node read from SysFS had negative value (-1), but there must be at least one NUMA node, so returning NUMA node zero. See more at https://github.com/torvalds/linux/blob/v6.0/Documentation/ABI/testing/sysfs-bus-pci#L344-L355\n",
      "2024-10-26 21:09:14.435851: I external/local_xla/xla/stream_executor/cuda/cuda_executor.cc:901] successful NUMA node read from SysFS had negative value (-1), but there must be at least one NUMA node, so returning NUMA node zero. See more at https://github.com/torvalds/linux/blob/v6.0/Documentation/ABI/testing/sysfs-bus-pci#L344-L355\n",
      "2024-10-26 21:09:14.436238: I external/local_xla/xla/stream_executor/cuda/cuda_executor.cc:901] successful NUMA node read from SysFS had negative value (-1), but there must be at least one NUMA node, so returning NUMA node zero. See more at https://github.com/torvalds/linux/blob/v6.0/Documentation/ABI/testing/sysfs-bus-pci#L344-L355\n",
      "2024-10-26 21:09:14.436449: I external/local_xla/xla/stream_executor/cuda/cuda_executor.cc:901] successful NUMA node read from SysFS had negative value (-1), but there must be at least one NUMA node, so returning NUMA node zero. See more at https://github.com/torvalds/linux/blob/v6.0/Documentation/ABI/testing/sysfs-bus-pci#L344-L355\n",
      "2024-10-26 21:09:14.436635: I external/local_xla/xla/stream_executor/cuda/cuda_executor.cc:901] successful NUMA node read from SysFS had negative value (-1), but there must be at least one NUMA node, so returning NUMA node zero. See more at https://github.com/torvalds/linux/blob/v6.0/Documentation/ABI/testing/sysfs-bus-pci#L344-L355\n",
      "2024-10-26 21:09:14.436817: I external/local_xla/xla/stream_executor/cuda/cuda_executor.cc:901] successful NUMA node read from SysFS had negative value (-1), but there must be at least one NUMA node, so returning NUMA node zero. See more at https://github.com/torvalds/linux/blob/v6.0/Documentation/ABI/testing/sysfs-bus-pci#L344-L355\n",
      "2024-10-26 21:09:14.437002: I external/local_xla/xla/stream_executor/cuda/cuda_executor.cc:901] successful NUMA node read from SysFS had negative value (-1), but there must be at least one NUMA node, so returning NUMA node zero. See more at https://github.com/torvalds/linux/blob/v6.0/Documentation/ABI/testing/sysfs-bus-pci#L344-L355\n",
      "2024-10-26 21:09:14.456400: I external/local_xla/xla/stream_executor/cuda/cuda_executor.cc:901] successful NUMA node read from SysFS had negative value (-1), but there must be at least one NUMA node, so returning NUMA node zero. See more at https://github.com/torvalds/linux/blob/v6.0/Documentation/ABI/testing/sysfs-bus-pci#L344-L355\n",
      "2024-10-26 21:09:14.456699: I external/local_xla/xla/stream_executor/cuda/cuda_executor.cc:901] successful NUMA node read from SysFS had negative value (-1), but there must be at least one NUMA node, so returning NUMA node zero. See more at https://github.com/torvalds/linux/blob/v6.0/Documentation/ABI/testing/sysfs-bus-pci#L344-L355\n",
      "2024-10-26 21:09:14.456918: I external/local_xla/xla/stream_executor/cuda/cuda_executor.cc:901] successful NUMA node read from SysFS had negative value (-1), but there must be at least one NUMA node, so returning NUMA node zero. See more at https://github.com/torvalds/linux/blob/v6.0/Documentation/ABI/testing/sysfs-bus-pci#L344-L355\n",
      "2024-10-26 21:09:14.457128: I external/local_xla/xla/stream_executor/cuda/cuda_executor.cc:901] successful NUMA node read from SysFS had negative value (-1), but there must be at least one NUMA node, so returning NUMA node zero. See more at https://github.com/torvalds/linux/blob/v6.0/Documentation/ABI/testing/sysfs-bus-pci#L344-L355\n",
      "2024-10-26 21:09:14.457336: I external/local_xla/xla/stream_executor/cuda/cuda_executor.cc:901] successful NUMA node read from SysFS had negative value (-1), but there must be at least one NUMA node, so returning NUMA node zero. See more at https://github.com/torvalds/linux/blob/v6.0/Documentation/ABI/testing/sysfs-bus-pci#L344-L355\n",
      "2024-10-26 21:09:14.457513: I tensorflow/core/common_runtime/gpu/gpu_device.cc:1929] Created device /job:localhost/replica:0/task:0/device:GPU:0 with 22287 MB memory:  -> device: 0, name: NVIDIA GeForce RTX 4090, pci bus id: 0000:09:00.0, compute capability: 8.9\n",
      "2024-10-26 21:09:14.458460: I external/local_xla/xla/stream_executor/cuda/cuda_executor.cc:901] successful NUMA node read from SysFS had negative value (-1), but there must be at least one NUMA node, so returning NUMA node zero. See more at https://github.com/torvalds/linux/blob/v6.0/Documentation/ABI/testing/sysfs-bus-pci#L344-L355\n",
      "2024-10-26 21:09:14.458678: I tensorflow/core/common_runtime/gpu/gpu_device.cc:1929] Created device /job:localhost/replica:0/task:0/device:GPU:1 with 22287 MB memory:  -> device: 1, name: NVIDIA GeForce RTX 4090, pci bus id: 0000:0b:00.0, compute capability: 8.9\n",
      "2024-10-26 21:09:15.403821: I external/local_tsl/tsl/platform/default/subprocess.cc:304] Start cannot spawn child process: No such file or directory\n"
     ]
    },
    {
     "name": "stdout",
     "output_type": "stream",
     "text": [
      "Found 14080 files belonging to 100 classes.\n",
      "Using 2816 files for validation.\n"
     ]
    }
   ],
   "source": [
    "# Load Dataset\n",
    "train_ds = tf.keras.utils.image_dataset_from_directory(\n",
    "    IMAGE_PATH,\n",
    "    validation_split=0.2,\n",
    "    subset=\"training\",    \n",
    "    seed=123,\n",
    "    image_size=IMAGE_SIZE,\n",
    "    batch_size=BATCH_SIZE\n",
    ")\n",
    "\n",
    "vaild_ds = tf.keras.utils.image_dataset_from_directory(\n",
    "    IMAGE_PATH,\n",
    "    validation_split=0.2,\n",
    "    subset=\"validation\",\n",
    "    seed=123,\n",
    "    image_size=IMAGE_SIZE,\n",
    "    batch_size=BATCH_SIZE\n",
    ")"
   ]
  },
  {
   "cell_type": "code",
   "execution_count": 6,
   "metadata": {
    "tags": []
   },
   "outputs": [],
   "source": [
    "# Image Normalization\n",
    "mean = [0.485, 0.456, 0.406]\n",
    "std = [0.229, 0.224, 0.225]\n",
    "\n",
    "def normalize_image(image):\n",
    "    return (image - mean_tensor) / std_tensor\n"
   ]
  },
  {
   "cell_type": "code",
   "execution_count": 7,
   "metadata": {
    "tags": []
   },
   "outputs": [],
   "source": [
    "# Data Augmentation\n",
    "train_image_augment = tf.keras.Sequential([\n",
    "    tf.keras.layers.Rescaling(1 / 255.0),\n",
    "    tf.keras.layers.RandomRotation(factor=0.2),\n",
    "    tf.keras.layers.RandomFlip(),\n",
    "])\n",
    "\n",
    "valid_image_augment = tf.keras.Sequential([\n",
    "    tf.keras.layers.Rescaling(1 / 255.0),\n",
    "])"
   ]
  },
  {
   "cell_type": "code",
   "execution_count": 8,
   "metadata": {
    "tags": []
   },
   "outputs": [],
   "source": [
    "# Input Processing\n",
    "def process_train_input(images, labels):\n",
    "    return train_image_augment(images), labels\n",
    "\n",
    "def process_valid_input(images, labels):\n",
    "    return valid_image_augment(images), labels\n"
   ]
  },
  {
   "cell_type": "code",
   "execution_count": 9,
   "metadata": {
    "tags": []
   },
   "outputs": [],
   "source": [
    "# Data Preprocessing\n",
    "def convert_types_and_encode(x, y):\n",
    "    y = tf.cast(y, tf.int32)  \n",
    "    y_one_hot = tf.one_hot(y, 100)  \n",
    "    return x, y_one_hot"
   ]
  },
  {
   "cell_type": "code",
   "execution_count": 10,
   "metadata": {
    "tags": []
   },
   "outputs": [],
   "source": [
    "# Apply Data Preprocessing\n",
    "train_ds = train_ds.map(convert_types_and_encode)\n",
    "train_ds = train_ds.map(process_train_input, num_parallel_calls=tf.data.AUTOTUNE)\n",
    "train_ds = train_ds.prefetch(tf.data.AUTOTUNE)\n",
    "\n",
    "vaild_ds = vaild_ds.map(convert_types_and_encode)\n",
    "vaild_ds = vaild_ds.map(process_valid_input, num_parallel_calls=tf.data.AUTOTUNE)\n",
    "vaild_ds = vaild_ds.prefetch(tf.data.AUTOTUNE)"
   ]
  },
  {
   "cell_type": "code",
   "execution_count": 11,
   "metadata": {
    "tags": []
   },
   "outputs": [],
   "source": [
    "from keras.layers import GlobalAveragePooling2D, Dense, Multiply\n",
    "\n",
    "# Define the SE layer\n",
    "def se_layer(input_tensor, reduction_ratio=16):\n",
    "    channel = input_tensor.shape[-1]\n",
    "    # Squeeze operation\n",
    "    se = GlobalAveragePooling2D()(input_tensor)\n",
    "    se = Dense(channel // reduction_ratio, activation='relu')(se)\n",
    "    se = Dense(channel, activation='sigmoid')(se)\n",
    "    # Reshape and scale the input\n",
    "    se = tf.reshape(se, [-1, 1, 1, channel])\n",
    "    return Multiply()([input_tensor, se])\n",
    "\n",
    "# Create MobileNet base model\n",
    "base_model = MobileNet(input_shape=(224, 224, 3), include_top=False, weights='imagenet')\n",
    "feature_maps = base_model.output\n",
    "\n",
    "# Add SE layer\n",
    "se_feature_maps = se_layer(feature_maps)\n",
    "\n",
    "# Add global average pooling\n",
    "x = GlobalAveragePooling2D()(se_feature_maps)\n",
    "\n",
    "# Add fully connected layers\n",
    "x = Dense(1024, activation='relu')(x)\n",
    "outputs = Dense(100, activation='softmax')(x)\n",
    "\n",
    "# Create the final model\n",
    "model = tf.keras.Model(inputs=base_model.input, outputs=outputs)\n",
    "\n",
    "# Compile the model\n",
    "model.compile(optimizer='adam', loss='categorical_crossentropy', metrics=['accuracy'])\n"
   ]
  },
  {
   "cell_type": "code",
   "execution_count": 12,
   "metadata": {},
   "outputs": [],
   "source": [
    "# Compile Model\n",
    "optimizer = tf.keras.optimizers.Adam(learning_rate=LEARNING_RATE)\n",
    "loss_fn = tf.keras.losses.CategoricalCrossentropy()\n",
    "metrics = [\n",
    "    tf.keras.metrics.CategoricalAccuracy(),\n",
    "    tf.keras.metrics.Precision(),\n",
    "    tf.keras.metrics.Recall(),\n",
    "]\n",
    "\n",
    "model.compile(optimizer=optimizer, loss=loss_fn, metrics=metrics)"
   ]
  },
  {
   "cell_type": "code",
   "execution_count": 13,
   "metadata": {
    "tags": []
   },
   "outputs": [
    {
     "name": "stdout",
     "output_type": "stream",
     "text": [
      "Epoch 1/50\n"
     ]
    },
    {
     "name": "stderr",
     "output_type": "stream",
     "text": [
      "2024-10-26 21:09:30.026446: I external/local_xla/xla/stream_executor/cuda/cuda_dnn.cc:454] Loaded cuDNN version 8904\n",
      "2024-10-26 21:09:30.411625: I external/local_tsl/tsl/platform/default/subprocess.cc:304] Start cannot spawn child process: No such file or directory\n",
      "2024-10-26 21:09:31.692746: I external/local_xla/xla/service/service.cc:168] XLA service 0x7f2b1da4c870 initialized for platform CUDA (this does not guarantee that XLA will be used). Devices:\n",
      "2024-10-26 21:09:31.692837: I external/local_xla/xla/service/service.cc:176]   StreamExecutor device (0): NVIDIA GeForce RTX 4090, Compute Capability 8.9\n",
      "2024-10-26 21:09:31.692852: I external/local_xla/xla/service/service.cc:176]   StreamExecutor device (1): NVIDIA GeForce RTX 4090, Compute Capability 8.9\n",
      "2024-10-26 21:09:31.729631: I tensorflow/compiler/mlir/tensorflow/utils/dump_mlir_util.cc:269] disabling MLIR crash reproducer, set env var `MLIR_CRASH_REPRODUCER_DIRECTORY` to enable.\n",
      "WARNING: All log messages before absl::InitializeLog() is called are written to STDERR\n",
      "I0000 00:00:1729948172.011184    1664 device_compiler.h:186] Compiled cluster using XLA!  This line is logged at most once for the lifetime of the process.\n"
     ]
    },
    {
     "name": "stdout",
     "output_type": "stream",
     "text": [
      "176/176 [==============================] - 37s 88ms/step - loss: 2.7326 - categorical_accuracy: 0.4195 - precision: 0.8827 - recall: 0.1537 - val_loss: 1.6132 - val_categorical_accuracy: 0.5774 - val_precision: 0.8250 - val_recall: 0.3533 - lr: 1.0000e-04\n",
      "Epoch 2/50\n",
      "176/176 [==============================] - 14s 76ms/step - loss: 0.9005 - categorical_accuracy: 0.7550 - precision: 0.9023 - recall: 0.6251 - val_loss: 0.8698 - val_categorical_accuracy: 0.7500 - val_precision: 0.8691 - val_recall: 0.6438 - lr: 1.0000e-04\n",
      "Epoch 3/50\n",
      "176/176 [==============================] - 14s 77ms/step - loss: 0.5441 - categorical_accuracy: 0.8467 - precision: 0.9227 - recall: 0.7757 - val_loss: 0.7235 - val_categorical_accuracy: 0.7802 - val_precision: 0.8520 - val_recall: 0.7177 - lr: 1.0000e-04\n",
      "Epoch 4/50\n",
      "176/176 [==============================] - 14s 78ms/step - loss: 0.3815 - categorical_accuracy: 0.8924 - precision: 0.9430 - recall: 0.8413 - val_loss: 0.5233 - val_categorical_accuracy: 0.8462 - val_precision: 0.9030 - val_recall: 0.7969 - lr: 1.0000e-04\n",
      "Epoch 5/50\n",
      "176/176 [==============================] - 14s 78ms/step - loss: 0.2926 - categorical_accuracy: 0.9138 - precision: 0.9486 - recall: 0.8797 - val_loss: 0.5064 - val_categorical_accuracy: 0.8540 - val_precision: 0.9025 - val_recall: 0.8153 - lr: 1.0000e-04\n",
      "Epoch 6/50\n",
      "176/176 [==============================] - 14s 76ms/step - loss: 0.2285 - categorical_accuracy: 0.9353 - precision: 0.9620 - recall: 0.9079 - val_loss: 0.4823 - val_categorical_accuracy: 0.8590 - val_precision: 0.9044 - val_recall: 0.8235 - lr: 1.0000e-04\n",
      "Epoch 7/50\n",
      "176/176 [==============================] - 14s 77ms/step - loss: 0.1695 - categorical_accuracy: 0.9537 - precision: 0.9713 - recall: 0.9343 - val_loss: 0.4384 - val_categorical_accuracy: 0.8704 - val_precision: 0.9092 - val_recall: 0.8459 - lr: 1.0000e-04\n",
      "Epoch 8/50\n",
      "176/176 [==============================] - 14s 77ms/step - loss: 0.1378 - categorical_accuracy: 0.9616 - precision: 0.9727 - recall: 0.9481 - val_loss: 0.4339 - val_categorical_accuracy: 0.8775 - val_precision: 0.9104 - val_recall: 0.8516 - lr: 1.0000e-04\n",
      "Epoch 9/50\n",
      "176/176 [==============================] - 14s 77ms/step - loss: 0.1102 - categorical_accuracy: 0.9713 - precision: 0.9789 - recall: 0.9619 - val_loss: 0.3989 - val_categorical_accuracy: 0.8846 - val_precision: 0.9114 - val_recall: 0.8626 - lr: 1.0000e-04\n",
      "Epoch 10/50\n",
      "176/176 [==============================] - 14s 76ms/step - loss: 0.0977 - categorical_accuracy: 0.9726 - precision: 0.9804 - recall: 0.9635 - val_loss: 0.4456 - val_categorical_accuracy: 0.8803 - val_precision: 0.9085 - val_recall: 0.8604 - lr: 1.0000e-04\n",
      "Epoch 11/50\n",
      "176/176 [==============================] - 14s 77ms/step - loss: 0.0879 - categorical_accuracy: 0.9755 - precision: 0.9806 - recall: 0.9673 - val_loss: 0.4052 - val_categorical_accuracy: 0.8832 - val_precision: 0.9108 - val_recall: 0.8668 - lr: 1.0000e-04\n",
      "Epoch 12/50\n",
      "176/176 [==============================] - 14s 78ms/step - loss: 0.0549 - categorical_accuracy: 0.9865 - precision: 0.9898 - recall: 0.9830 - val_loss: 0.3648 - val_categorical_accuracy: 0.8949 - val_precision: 0.9190 - val_recall: 0.8789 - lr: 5.0000e-05\n",
      "Epoch 13/50\n",
      "176/176 [==============================] - 13s 72ms/step - loss: 0.0467 - categorical_accuracy: 0.9885 - precision: 0.9900 - recall: 0.9861 - val_loss: 0.3501 - val_categorical_accuracy: 0.9013 - val_precision: 0.9226 - val_recall: 0.8842 - lr: 5.0000e-05\n",
      "Epoch 14/50\n",
      "176/176 [==============================] - 13s 74ms/step - loss: 0.0437 - categorical_accuracy: 0.9894 - precision: 0.9905 - recall: 0.9877 - val_loss: 0.3510 - val_categorical_accuracy: 0.9023 - val_precision: 0.9238 - val_recall: 0.8913 - lr: 5.0000e-05\n",
      "Epoch 15/50\n",
      "176/176 [==============================] - 14s 77ms/step - loss: 0.0411 - categorical_accuracy: 0.9903 - precision: 0.9917 - recall: 0.9881 - val_loss: 0.3691 - val_categorical_accuracy: 0.9073 - val_precision: 0.9250 - val_recall: 0.8896 - lr: 5.0000e-05\n",
      "Epoch 16/50\n",
      "176/176 [==============================] - 13s 73ms/step - loss: 0.0363 - categorical_accuracy: 0.9922 - precision: 0.9932 - recall: 0.9906 - val_loss: 0.3530 - val_categorical_accuracy: 0.9052 - val_precision: 0.9223 - val_recall: 0.8888 - lr: 5.0000e-05\n",
      "Epoch 17/50\n",
      "176/176 [==============================] - 13s 71ms/step - loss: 0.0333 - categorical_accuracy: 0.9918 - precision: 0.9928 - recall: 0.9904 - val_loss: 0.3383 - val_categorical_accuracy: 0.9066 - val_precision: 0.9260 - val_recall: 0.8935 - lr: 5.0000e-05\n",
      "Epoch 18/50\n",
      "176/176 [==============================] - 13s 71ms/step - loss: 0.0292 - categorical_accuracy: 0.9927 - precision: 0.9934 - recall: 0.9918 - val_loss: 0.3424 - val_categorical_accuracy: 0.9045 - val_precision: 0.9246 - val_recall: 0.8924 - lr: 2.5000e-05\n",
      "Epoch 19/50\n",
      "176/176 [==============================] - 13s 70ms/step - loss: 0.0251 - categorical_accuracy: 0.9948 - precision: 0.9954 - recall: 0.9941 - val_loss: 0.3436 - val_categorical_accuracy: 0.9059 - val_precision: 0.9217 - val_recall: 0.8942 - lr: 2.5000e-05\n",
      "Epoch 20/50\n",
      "176/176 [==============================] - 13s 71ms/step - loss: 0.0229 - categorical_accuracy: 0.9953 - precision: 0.9954 - recall: 0.9947 - val_loss: 0.3378 - val_categorical_accuracy: 0.9084 - val_precision: 0.9249 - val_recall: 0.8960 - lr: 1.2500e-05\n",
      "Epoch 21/50\n",
      "176/176 [==============================] - 13s 72ms/step - loss: 0.0228 - categorical_accuracy: 0.9945 - precision: 0.9949 - recall: 0.9936 - val_loss: 0.3363 - val_categorical_accuracy: 0.9080 - val_precision: 0.9240 - val_recall: 0.8942 - lr: 1.2500e-05\n",
      "Epoch 22/50\n",
      "176/176 [==============================] - 13s 72ms/step - loss: 0.0226 - categorical_accuracy: 0.9946 - precision: 0.9948 - recall: 0.9937 - val_loss: 0.3350 - val_categorical_accuracy: 0.9084 - val_precision: 0.9236 - val_recall: 0.8970 - lr: 1.2500e-05\n",
      "Epoch 23/50\n",
      "176/176 [==============================] - 13s 72ms/step - loss: 0.0218 - categorical_accuracy: 0.9951 - precision: 0.9954 - recall: 0.9942 - val_loss: 0.3272 - val_categorical_accuracy: 0.9094 - val_precision: 0.9257 - val_recall: 0.8977 - lr: 6.2500e-06\n",
      "Epoch 24/50\n",
      "176/176 [==============================] - 13s 72ms/step - loss: 0.0212 - categorical_accuracy: 0.9949 - precision: 0.9950 - recall: 0.9945 - val_loss: 0.3307 - val_categorical_accuracy: 0.9084 - val_precision: 0.9265 - val_recall: 0.9002 - lr: 6.2500e-06\n",
      "Epoch 25/50\n",
      "176/176 [==============================] - 13s 73ms/step - loss: 0.0210 - categorical_accuracy: 0.9940 - precision: 0.9942 - recall: 0.9934 - val_loss: 0.3273 - val_categorical_accuracy: 0.9102 - val_precision: 0.9293 - val_recall: 0.9013 - lr: 6.2500e-06\n",
      "Epoch 26/50\n",
      "176/176 [==============================] - 13s 71ms/step - loss: 0.0199 - categorical_accuracy: 0.9946 - precision: 0.9946 - recall: 0.9938 - val_loss: 0.3291 - val_categorical_accuracy: 0.9087 - val_precision: 0.9282 - val_recall: 0.8991 - lr: 6.2500e-06\n",
      "Epoch 27/50\n",
      "176/176 [==============================] - 13s 71ms/step - loss: 0.0205 - categorical_accuracy: 0.9941 - precision: 0.9947 - recall: 0.9935 - val_loss: 0.3277 - val_categorical_accuracy: 0.9134 - val_precision: 0.9294 - val_recall: 0.9016 - lr: 6.2500e-06\n",
      "Epoch 28/50\n",
      "176/176 [==============================] - 13s 70ms/step - loss: 0.0194 - categorical_accuracy: 0.9951 - precision: 0.9956 - recall: 0.9944 - val_loss: 0.3256 - val_categorical_accuracy: 0.9130 - val_precision: 0.9294 - val_recall: 0.9027 - lr: 6.2500e-06\n",
      "Epoch 29/50\n",
      "176/176 [==============================] - 13s 71ms/step - loss: 0.0194 - categorical_accuracy: 0.9945 - precision: 0.9949 - recall: 0.9941 - val_loss: 0.3255 - val_categorical_accuracy: 0.9102 - val_precision: 0.9266 - val_recall: 0.9009 - lr: 6.2500e-06\n",
      "Epoch 30/50\n",
      "176/176 [==============================] - 13s 69ms/step - loss: 0.0194 - categorical_accuracy: 0.9948 - precision: 0.9951 - recall: 0.9941 - val_loss: 0.3269 - val_categorical_accuracy: 0.9105 - val_precision: 0.9269 - val_recall: 0.9002 - lr: 3.1250e-06\n",
      "Epoch 31/50\n",
      "176/176 [==============================] - 13s 70ms/step - loss: 0.0185 - categorical_accuracy: 0.9955 - precision: 0.9956 - recall: 0.9950 - val_loss: 0.3270 - val_categorical_accuracy: 0.9112 - val_precision: 0.9256 - val_recall: 0.9013 - lr: 3.1250e-06\n",
      "Epoch 32/50\n",
      "176/176 [==============================] - 13s 72ms/step - loss: 0.0166 - categorical_accuracy: 0.9966 - precision: 0.9967 - recall: 0.9964 - val_loss: 0.3278 - val_categorical_accuracy: 0.9119 - val_precision: 0.9268 - val_recall: 0.8999 - lr: 1.5625e-06\n",
      "Epoch 33/50\n",
      "176/176 [==============================] - 13s 71ms/step - loss: 0.0192 - categorical_accuracy: 0.9944 - precision: 0.9948 - recall: 0.9943 - val_loss: 0.3265 - val_categorical_accuracy: 0.9123 - val_precision: 0.9290 - val_recall: 0.9020 - lr: 1.5625e-06\n",
      "Epoch 34/50\n",
      "176/176 [==============================] - 13s 73ms/step - loss: 0.0180 - categorical_accuracy: 0.9954 - precision: 0.9955 - recall: 0.9951 - val_loss: 0.3265 - val_categorical_accuracy: 0.9112 - val_precision: 0.9290 - val_recall: 0.9013 - lr: 7.8125e-07\n",
      "Epoch 35/50\n",
      "176/176 [==============================] - 13s 71ms/step - loss: 0.0174 - categorical_accuracy: 0.9962 - precision: 0.9962 - recall: 0.9958 - val_loss: 0.3263 - val_categorical_accuracy: 0.9123 - val_precision: 0.9290 - val_recall: 0.9013 - lr: 7.8125e-07\n",
      "Epoch 36/50\n",
      "176/176 [==============================] - 13s 73ms/step - loss: 0.0179 - categorical_accuracy: 0.9955 - precision: 0.9957 - recall: 0.9951 - val_loss: 0.3266 - val_categorical_accuracy: 0.9116 - val_precision: 0.9279 - val_recall: 0.9009 - lr: 3.9062e-07\n",
      "Epoch 37/50\n",
      "176/176 [==============================] - 13s 72ms/step - loss: 0.0185 - categorical_accuracy: 0.9946 - precision: 0.9947 - recall: 0.9941 - val_loss: 0.3273 - val_categorical_accuracy: 0.9116 - val_precision: 0.9283 - val_recall: 0.9013 - lr: 3.9062e-07\n",
      "Epoch 38/50\n",
      "176/176 [==============================] - 13s 72ms/step - loss: 0.0175 - categorical_accuracy: 0.9958 - precision: 0.9962 - recall: 0.9956 - val_loss: 0.3269 - val_categorical_accuracy: 0.9116 - val_precision: 0.9283 - val_recall: 0.9009 - lr: 1.9531e-07\n",
      "Epoch 39/50\n",
      "176/176 [==============================] - 13s 71ms/step - loss: 0.0185 - categorical_accuracy: 0.9949 - precision: 0.9953 - recall: 0.9946 - val_loss: 0.3261 - val_categorical_accuracy: 0.9119 - val_precision: 0.9283 - val_recall: 0.9013 - lr: 1.9531e-07\n",
      "Epoch 40/50\n",
      "176/176 [==============================] - 13s 73ms/step - loss: 0.0175 - categorical_accuracy: 0.9956 - precision: 0.9959 - recall: 0.9953 - val_loss: 0.3258 - val_categorical_accuracy: 0.9123 - val_precision: 0.9286 - val_recall: 0.9013 - lr: 9.7656e-08\n",
      "Epoch 41/50\n",
      "176/176 [==============================] - 13s 71ms/step - loss: 0.0174 - categorical_accuracy: 0.9963 - precision: 0.9963 - recall: 0.9957 - val_loss: 0.3265 - val_categorical_accuracy: 0.9116 - val_precision: 0.9283 - val_recall: 0.9009 - lr: 9.7656e-08\n",
      "Epoch 42/50\n",
      "176/176 [==============================] - 13s 72ms/step - loss: 0.0172 - categorical_accuracy: 0.9952 - precision: 0.9953 - recall: 0.9950 - val_loss: 0.3261 - val_categorical_accuracy: 0.9119 - val_precision: 0.9290 - val_recall: 0.9016 - lr: 4.8828e-08\n",
      "Epoch 43/50\n",
      "176/176 [==============================] - 13s 71ms/step - loss: 0.0180 - categorical_accuracy: 0.9942 - precision: 0.9946 - recall: 0.9938 - val_loss: 0.3263 - val_categorical_accuracy: 0.9119 - val_precision: 0.9280 - val_recall: 0.9013 - lr: 4.8828e-08\n",
      "Epoch 44/50\n",
      "176/176 [==============================] - 13s 71ms/step - loss: 0.0173 - categorical_accuracy: 0.9956 - precision: 0.9959 - recall: 0.9950 - val_loss: 0.3265 - val_categorical_accuracy: 0.9116 - val_precision: 0.9283 - val_recall: 0.9013 - lr: 2.4414e-08\n",
      "Epoch 45/50\n",
      "176/176 [==============================] - 13s 71ms/step - loss: 0.0176 - categorical_accuracy: 0.9954 - precision: 0.9955 - recall: 0.9949 - val_loss: 0.3263 - val_categorical_accuracy: 0.9112 - val_precision: 0.9283 - val_recall: 0.9016 - lr: 2.4414e-08\n",
      "Epoch 46/50\n",
      "176/176 [==============================] - 13s 72ms/step - loss: 0.0180 - categorical_accuracy: 0.9952 - precision: 0.9956 - recall: 0.9949 - val_loss: 0.3260 - val_categorical_accuracy: 0.9116 - val_precision: 0.9287 - val_recall: 0.9020 - lr: 1.2207e-08\n",
      "Epoch 47/50\n",
      "176/176 [==============================] - 13s 72ms/step - loss: 0.0177 - categorical_accuracy: 0.9952 - precision: 0.9953 - recall: 0.9949 - val_loss: 0.3262 - val_categorical_accuracy: 0.9119 - val_precision: 0.9286 - val_recall: 0.9013 - lr: 1.2207e-08\n",
      "Epoch 48/50\n",
      "176/176 [==============================] - 13s 72ms/step - loss: 0.0171 - categorical_accuracy: 0.9953 - precision: 0.9956 - recall: 0.9949 - val_loss: 0.3262 - val_categorical_accuracy: 0.9123 - val_precision: 0.9287 - val_recall: 0.9020 - lr: 1.0000e-08\n",
      "Epoch 49/50\n",
      "176/176 [==============================] - 13s 71ms/step - loss: 0.0179 - categorical_accuracy: 0.9954 - precision: 0.9956 - recall: 0.9949 - val_loss: 0.3263 - val_categorical_accuracy: 0.9123 - val_precision: 0.9290 - val_recall: 0.9013 - lr: 1.0000e-08\n",
      "Epoch 50/50\n",
      "176/176 [==============================] - 13s 70ms/step - loss: 0.0188 - categorical_accuracy: 0.9952 - precision: 0.9954 - recall: 0.9946 - val_loss: 0.3260 - val_categorical_accuracy: 0.9119 - val_precision: 0.9290 - val_recall: 0.9013 - lr: 1.0000e-08\n"
     ]
    }
   ],
   "source": [
    "# Train Model\n",
    "log_dir = \"../Running result/SE/SE\"\n",
    "tensorboard_callback = tf.keras.callbacks.TensorBoard(log_dir=log_dir, histogram_freq=1)\n",
    "lr_scheduler = tf.keras.callbacks.ReduceLROnPlateau(monitor='val_categorical_accuracy', factor=0.5, patience=2, min_lr=1e-8)\n",
    "\n",
    "history = model.fit(train_ds, epochs=EPOCHS, validation_data=vaild_ds, callbacks=[lr_scheduler, tensorboard_callback])"
   ]
  },
  {
   "cell_type": "code",
   "execution_count": 14,
   "metadata": {},
   "outputs": [
    {
     "name": "stdout",
     "output_type": "stream",
     "text": [
      "Training history saved to: ../Running result/SE/SE/SE.xlsx\n"
     ]
    },
    {
     "name": "stderr",
     "output_type": "stream",
     "text": [
      "/root/anaconda3/lib/python3.11/site-packages/keras/src/engine/training.py:3103: UserWarning: You are saving your model as an HDF5 file via `model.save()`. This file format is considered legacy. We recommend using instead the native Keras format, e.g. `model.save('my_model.keras')`.\n",
      "  saving_api.save_model(\n"
     ]
    },
    {
     "name": "stdout",
     "output_type": "stream",
     "text": [
      "Model saved to: ../Running result/SE/SE/SE.h5\n"
     ]
    }
   ],
   "source": [
    "import pandas as pd  # Import Pandas library\n",
    "import os\n",
    "\n",
    "# Define save path\n",
    "model_dir = \"../Running result/SE/SE\"\n",
    "excel_file_path = os.path.join(model_dir, \"SE.xlsx\")  # Path to save the Excel file\n",
    "model_file_path = os.path.join(model_dir, \"SE.h5\")  # Path to save the model\n",
    "\n",
    "# Check if the save directory exists; create it if it does not\n",
    "if not os.path.exists(model_dir):\n",
    "    os.makedirs(model_dir)\n",
    "\n",
    "# Save training history to an Excel file\n",
    "history_df = pd.DataFrame(history.history)  \n",
    "history_df.to_excel(excel_file_path, index=False)\n",
    "print(f\"Training history saved to: {excel_file_path}\")\n",
    "\n",
    "# Save the model to the specified path\n",
    "model.save(model_file_path)\n",
    "print(f\"Model saved to: {model_file_path}\")\n"
   ]
  }
 ],
 "metadata": {
  "accelerator": "GPU",
  "colab": {
   "provenance": []
  },
  "kernelspec": {
   "display_name": "Python 3 (ipykernel)",
   "language": "python",
   "name": "python3"
  },
  "language_info": {
   "codemirror_mode": {
    "name": "ipython",
    "version": 3
   },
   "file_extension": ".py",
   "mimetype": "text/x-python",
   "name": "python",
   "nbconvert_exporter": "python",
   "pygments_lexer": "ipython3",
   "version": "3.11.7"
  }
 },
 "nbformat": 4,
 "nbformat_minor": 4
}
