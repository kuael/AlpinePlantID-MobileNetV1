{
 "cells": [
  {
   "cell_type": "code",
   "execution_count": 1,
   "metadata": {
    "tags": []
   },
   "outputs": [
    {
     "name": "stderr",
     "output_type": "stream",
     "text": [
      "2024-10-27 16:27:49.858256: I tensorflow/core/util/port.cc:113] oneDNN custom operations are on. You may see slightly different numerical results due to floating-point round-off errors from different computation orders. To turn them off, set the environment variable `TF_ENABLE_ONEDNN_OPTS=0`.\n",
      "2024-10-27 16:27:50.068654: E external/local_xla/xla/stream_executor/cuda/cuda_dnn.cc:9261] Unable to register cuDNN factory: Attempting to register factory for plugin cuDNN when one has already been registered\n",
      "2024-10-27 16:27:50.068742: E external/local_xla/xla/stream_executor/cuda/cuda_fft.cc:607] Unable to register cuFFT factory: Attempting to register factory for plugin cuFFT when one has already been registered\n",
      "2024-10-27 16:27:50.099276: E external/local_xla/xla/stream_executor/cuda/cuda_blas.cc:1515] Unable to register cuBLAS factory: Attempting to register factory for plugin cuBLAS when one has already been registered\n",
      "2024-10-27 16:27:50.162722: I tensorflow/core/platform/cpu_feature_guard.cc:182] This TensorFlow binary is optimized to use available CPU instructions in performance-critical operations.\n",
      "To enable the following instructions: AVX2 AVX512F AVX512_VNNI FMA, in other operations, rebuild TensorFlow with the appropriate compiler flags.\n",
      "2024-10-27 16:27:51.591456: W tensorflow/compiler/tf2tensorrt/utils/py_utils.cc:38] TF-TRT Warning: Could not find TensorRT\n"
     ]
    }
   ],
   "source": [
    "import tensorflow as tf  \n",
    "import numpy as np       \n",
    "import pandas as pd       \n",
    "from matplotlib import pyplot as plt   \n",
    "import seaborn as sns  \n",
    "import time          \n",
    "from tensorflow.keras.callbacks import History, ReduceLROnPlateau, TensorBoard       \n",
    "from tensorflow.keras import metrics          \n",
    "from sklearn.metrics import confusion_matrix          \n",
    "import pickle\n",
    "from tensorflow.keras.applications import MobileNet\n",
    "from tensorflow.keras.layers import GlobalAveragePooling2D, Reshape, multiply, add, Dense, Conv2D, GlobalMaxPooling2D, Activation\n",
    "from tensorflow.keras import backend as K\n",
    "import platform\n",
    "import os\n",
    "from tensorflow.keras.layers import GlobalAveragePooling2D, Multiply, Dense\n",
    "from keras.layers import GlobalAveragePooling2D, Dense, Multiply\n",
    "import platform\n",
    "import os"
   ]
  },
  {
   "cell_type": "code",
   "execution_count": 2,
   "metadata": {
    "tags": []
   },
   "outputs": [],
   "source": [
    "# Display Settings\n",
    "pd.options.display.max_columns = None\n",
    "pd.options.display.max_rows = None\n",
    "sns.set()"
   ]
  },
  {
   "cell_type": "code",
   "execution_count": 3,
   "metadata": {
    "tags": []
   },
   "outputs": [
    {
     "name": "stdout",
     "output_type": "stream",
     "text": [
      "Python version:  3.11.7\n",
      "TensorFlow version:  2.15.0\n",
      "Current working directory:  /root/.jupyter/张彤/消融实验\n",
      "Linux w3q2ulc9.vm 5.15.0-60-generic #66-Ubuntu SMP Fri Jan 20 14:29:49 UTC 2023 x86_64 x86_64 x86_64 GNU/Linux\n",
      "Sun Oct 27 16:27:56 2024       \n",
      "+---------------------------------------------------------------------------------------+\n",
      "| NVIDIA-SMI 545.23.08              Driver Version: 545.23.08    CUDA Version: 12.3     |\n",
      "|-----------------------------------------+----------------------+----------------------+\n",
      "| GPU  Name                 Persistence-M | Bus-Id        Disp.A | Volatile Uncorr. ECC |\n",
      "| Fan  Temp   Perf          Pwr:Usage/Cap |         Memory-Usage | GPU-Util  Compute M. |\n",
      "|                                         |                      |               MIG M. |\n",
      "|=========================================+======================+======================|\n",
      "|   0  NVIDIA GeForce RTX 4090        On  | 00000000:09:00.0 Off |                  Off |\n",
      "|  0%   24C    P8               7W / 450W |      3MiB / 24564MiB |      0%      Default |\n",
      "|                                         |                      |                  N/A |\n",
      "+-----------------------------------------+----------------------+----------------------+\n",
      "|   1  NVIDIA GeForce RTX 4090        On  | 00000000:0B:00.0 Off |                  Off |\n",
      "|  0%   25C    P8               3W / 450W |      3MiB / 24564MiB |      0%      Default |\n",
      "|                                         |                      |                  N/A |\n",
      "+-----------------------------------------+----------------------+----------------------+\n",
      "                                                                                         \n",
      "+---------------------------------------------------------------------------------------+\n",
      "| Processes:                                                                            |\n",
      "|  GPU   GI   CI        PID   Type   Process name                            GPU Memory |\n",
      "|        ID   ID                                                             Usage      |\n",
      "|=======================================================================================|\n",
      "|  No running processes found                                                           |\n",
      "+---------------------------------------------------------------------------------------+\n"
     ]
    }
   ],
   "source": [
    "# System Information Print the Python version\n",
    "print(\"Python version: \", platform.python_version())\n",
    "print(\"TensorFlow version: \", tf.__version__)\n",
    "print(\"Current working directory: \", os.getcwd())\n",
    "!uname -a\n",
    "!nvidia-smi"
   ]
  },
  {
   "cell_type": "code",
   "execution_count": 4,
   "metadata": {
    "tags": []
   },
   "outputs": [],
   "source": [
    "# Hyperparameter Settings\n",
    "EPOCHS = 50\n",
    "IMAGE_SIZE = (224, 224)\n",
    "IMAGE_PATH = \"../data\"\n",
    "LEARNING_RATE = 1e-4\n",
    "BATCH_SIZE = 64"
   ]
  },
  {
   "cell_type": "code",
   "execution_count": 5,
   "metadata": {
    "tags": []
   },
   "outputs": [
    {
     "name": "stdout",
     "output_type": "stream",
     "text": [
      "Found 14080 files belonging to 100 classes.\n",
      "Using 11264 files for training.\n"
     ]
    },
    {
     "name": "stderr",
     "output_type": "stream",
     "text": [
      "2024-10-27 16:28:00.298673: I external/local_xla/xla/stream_executor/cuda/cuda_executor.cc:901] successful NUMA node read from SysFS had negative value (-1), but there must be at least one NUMA node, so returning NUMA node zero. See more at https://github.com/torvalds/linux/blob/v6.0/Documentation/ABI/testing/sysfs-bus-pci#L344-L355\n",
      "2024-10-27 16:28:00.299036: I external/local_xla/xla/stream_executor/cuda/cuda_executor.cc:901] successful NUMA node read from SysFS had negative value (-1), but there must be at least one NUMA node, so returning NUMA node zero. See more at https://github.com/torvalds/linux/blob/v6.0/Documentation/ABI/testing/sysfs-bus-pci#L344-L355\n",
      "2024-10-27 16:28:00.419945: I external/local_xla/xla/stream_executor/cuda/cuda_executor.cc:901] successful NUMA node read from SysFS had negative value (-1), but there must be at least one NUMA node, so returning NUMA node zero. See more at https://github.com/torvalds/linux/blob/v6.0/Documentation/ABI/testing/sysfs-bus-pci#L344-L355\n",
      "2024-10-27 16:28:00.420275: I external/local_xla/xla/stream_executor/cuda/cuda_executor.cc:901] successful NUMA node read from SysFS had negative value (-1), but there must be at least one NUMA node, so returning NUMA node zero. See more at https://github.com/torvalds/linux/blob/v6.0/Documentation/ABI/testing/sysfs-bus-pci#L344-L355\n",
      "2024-10-27 16:28:00.420451: I external/local_xla/xla/stream_executor/cuda/cuda_executor.cc:901] successful NUMA node read from SysFS had negative value (-1), but there must be at least one NUMA node, so returning NUMA node zero. See more at https://github.com/torvalds/linux/blob/v6.0/Documentation/ABI/testing/sysfs-bus-pci#L344-L355\n",
      "2024-10-27 16:28:00.420612: I external/local_xla/xla/stream_executor/cuda/cuda_executor.cc:901] successful NUMA node read from SysFS had negative value (-1), but there must be at least one NUMA node, so returning NUMA node zero. See more at https://github.com/torvalds/linux/blob/v6.0/Documentation/ABI/testing/sysfs-bus-pci#L344-L355\n",
      "2024-10-27 16:28:00.599052: I external/local_xla/xla/stream_executor/cuda/cuda_executor.cc:901] successful NUMA node read from SysFS had negative value (-1), but there must be at least one NUMA node, so returning NUMA node zero. See more at https://github.com/torvalds/linux/blob/v6.0/Documentation/ABI/testing/sysfs-bus-pci#L344-L355\n",
      "2024-10-27 16:28:00.599326: I external/local_xla/xla/stream_executor/cuda/cuda_executor.cc:901] successful NUMA node read from SysFS had negative value (-1), but there must be at least one NUMA node, so returning NUMA node zero. See more at https://github.com/torvalds/linux/blob/v6.0/Documentation/ABI/testing/sysfs-bus-pci#L344-L355\n",
      "2024-10-27 16:28:00.599502: I external/local_xla/xla/stream_executor/cuda/cuda_executor.cc:901] successful NUMA node read from SysFS had negative value (-1), but there must be at least one NUMA node, so returning NUMA node zero. See more at https://github.com/torvalds/linux/blob/v6.0/Documentation/ABI/testing/sysfs-bus-pci#L344-L355\n",
      "2024-10-27 16:28:00.599658: I external/local_xla/xla/stream_executor/cuda/cuda_executor.cc:901] successful NUMA node read from SysFS had negative value (-1), but there must be at least one NUMA node, so returning NUMA node zero. See more at https://github.com/torvalds/linux/blob/v6.0/Documentation/ABI/testing/sysfs-bus-pci#L344-L355\n",
      "2024-10-27 16:28:00.599853: I external/local_xla/xla/stream_executor/cuda/cuda_executor.cc:901] successful NUMA node read from SysFS had negative value (-1), but there must be at least one NUMA node, so returning NUMA node zero. See more at https://github.com/torvalds/linux/blob/v6.0/Documentation/ABI/testing/sysfs-bus-pci#L344-L355\n",
      "2024-10-27 16:28:00.600020: I external/local_xla/xla/stream_executor/cuda/cuda_executor.cc:901] successful NUMA node read from SysFS had negative value (-1), but there must be at least one NUMA node, so returning NUMA node zero. See more at https://github.com/torvalds/linux/blob/v6.0/Documentation/ABI/testing/sysfs-bus-pci#L344-L355\n",
      "2024-10-27 16:28:00.616270: I external/local_xla/xla/stream_executor/cuda/cuda_executor.cc:901] successful NUMA node read from SysFS had negative value (-1), but there must be at least one NUMA node, so returning NUMA node zero. See more at https://github.com/torvalds/linux/blob/v6.0/Documentation/ABI/testing/sysfs-bus-pci#L344-L355\n",
      "2024-10-27 16:28:00.616548: I external/local_xla/xla/stream_executor/cuda/cuda_executor.cc:901] successful NUMA node read from SysFS had negative value (-1), but there must be at least one NUMA node, so returning NUMA node zero. See more at https://github.com/torvalds/linux/blob/v6.0/Documentation/ABI/testing/sysfs-bus-pci#L344-L355\n",
      "2024-10-27 16:28:00.616740: I external/local_xla/xla/stream_executor/cuda/cuda_executor.cc:901] successful NUMA node read from SysFS had negative value (-1), but there must be at least one NUMA node, so returning NUMA node zero. See more at https://github.com/torvalds/linux/blob/v6.0/Documentation/ABI/testing/sysfs-bus-pci#L344-L355\n",
      "2024-10-27 16:28:00.616911: I external/local_xla/xla/stream_executor/cuda/cuda_executor.cc:901] successful NUMA node read from SysFS had negative value (-1), but there must be at least one NUMA node, so returning NUMA node zero. See more at https://github.com/torvalds/linux/blob/v6.0/Documentation/ABI/testing/sysfs-bus-pci#L344-L355\n",
      "2024-10-27 16:28:00.617081: I external/local_xla/xla/stream_executor/cuda/cuda_executor.cc:901] successful NUMA node read from SysFS had negative value (-1), but there must be at least one NUMA node, so returning NUMA node zero. See more at https://github.com/torvalds/linux/blob/v6.0/Documentation/ABI/testing/sysfs-bus-pci#L344-L355\n",
      "2024-10-27 16:28:00.617223: I tensorflow/core/common_runtime/gpu/gpu_device.cc:1929] Created device /job:localhost/replica:0/task:0/device:GPU:0 with 22287 MB memory:  -> device: 0, name: NVIDIA GeForce RTX 4090, pci bus id: 0000:09:00.0, compute capability: 8.9\n",
      "2024-10-27 16:28:00.618006: I external/local_xla/xla/stream_executor/cuda/cuda_executor.cc:901] successful NUMA node read from SysFS had negative value (-1), but there must be at least one NUMA node, so returning NUMA node zero. See more at https://github.com/torvalds/linux/blob/v6.0/Documentation/ABI/testing/sysfs-bus-pci#L344-L355\n",
      "2024-10-27 16:28:00.618181: I tensorflow/core/common_runtime/gpu/gpu_device.cc:1929] Created device /job:localhost/replica:0/task:0/device:GPU:1 with 22287 MB memory:  -> device: 1, name: NVIDIA GeForce RTX 4090, pci bus id: 0000:0b:00.0, compute capability: 8.9\n",
      "2024-10-27 16:28:01.296707: I external/local_tsl/tsl/platform/default/subprocess.cc:304] Start cannot spawn child process: No such file or directory\n"
     ]
    },
    {
     "name": "stdout",
     "output_type": "stream",
     "text": [
      "Found 14080 files belonging to 100 classes.\n",
      "Using 2816 files for validation.\n"
     ]
    }
   ],
   "source": [
    "# Load Dataset\n",
    "train_ds = tf.keras.utils.image_dataset_from_directory(\n",
    "    IMAGE_PATH,\n",
    "    validation_split=0.2,\n",
    "    subset=\"training\",    \n",
    "    seed=123,\n",
    "    image_size=IMAGE_SIZE,\n",
    "    batch_size=BATCH_SIZE\n",
    ")\n",
    "\n",
    "vaild_ds = tf.keras.utils.image_dataset_from_directory(\n",
    "    IMAGE_PATH,\n",
    "    validation_split=0.2,\n",
    "    subset=\"validation\",\n",
    "    seed=123,\n",
    "    image_size=IMAGE_SIZE,\n",
    "    batch_size=BATCH_SIZE\n",
    ")"
   ]
  },
  {
   "cell_type": "code",
   "execution_count": 6,
   "metadata": {
    "tags": []
   },
   "outputs": [],
   "source": [
    "# Image Normalization\n",
    "mean = [0.485, 0.456, 0.406]\n",
    "std = [0.229, 0.224, 0.225]\n",
    "\n",
    "def normalize_image(image):\n",
    "    return (image - mean_tensor) / std_tensor\n"
   ]
  },
  {
   "cell_type": "code",
   "execution_count": 7,
   "metadata": {
    "tags": []
   },
   "outputs": [],
   "source": [
    "# Data Augmentation\n",
    "train_image_augment = tf.keras.Sequential([\n",
    "    tf.keras.layers.Rescaling(1 / 255.0),\n",
    "    tf.keras.layers.RandomRotation(factor=0.2),\n",
    "    tf.keras.layers.RandomFlip(),\n",
    "])\n",
    "\n",
    "valid_image_augment = tf.keras.Sequential([\n",
    "    tf.keras.layers.Rescaling(1 / 255.0),\n",
    "])"
   ]
  },
  {
   "cell_type": "code",
   "execution_count": 8,
   "metadata": {
    "tags": []
   },
   "outputs": [],
   "source": [
    "# Input Processing\n",
    "def process_train_input(images, labels):\n",
    "    return train_image_augment(images), labels\n",
    "\n",
    "def process_valid_input(images, labels):\n",
    "    return valid_image_augment(images), labels\n"
   ]
  },
  {
   "cell_type": "code",
   "execution_count": 9,
   "metadata": {
    "tags": []
   },
   "outputs": [],
   "source": [
    "# Data Preprocessing\n",
    "def convert_types_and_encode(x, y):\n",
    "    y = tf.cast(y, tf.int32)  \n",
    "    y_one_hot = tf.one_hot(y, 100)  \n",
    "    return x, y_one_hot"
   ]
  },
  {
   "cell_type": "code",
   "execution_count": 10,
   "metadata": {
    "tags": []
   },
   "outputs": [],
   "source": [
    "# Apply Data Preprocessing\n",
    "train_ds = train_ds.map(convert_types_and_encode)\n",
    "train_ds = train_ds.map(process_train_input, num_parallel_calls=tf.data.AUTOTUNE)\n",
    "train_ds = train_ds.prefetch(tf.data.AUTOTUNE)\n",
    "\n",
    "vaild_ds = vaild_ds.map(convert_types_and_encode)\n",
    "vaild_ds = vaild_ds.map(process_valid_input, num_parallel_calls=tf.data.AUTOTUNE)\n",
    "vaild_ds = vaild_ds.prefetch(tf.data.AUTOTUNE)"
   ]
  },
  {
   "cell_type": "code",
   "execution_count": 11,
   "metadata": {
    "tags": []
   },
   "outputs": [],
   "source": [
    "# Define the ECA layer\n",
    "def eca_layer(input_tensor, k_size=5):\n",
    "    # Apply average pooling across the spatial dimensions\n",
    "    avg_pool = K.mean(input_tensor, axis=[1, 2], keepdims=True)\n",
    "    # Apply Conv2D instead of Conv1D for 2D spatial data\n",
    "    conv = Conv2D(filters=1, kernel_size=(k_size, 1), padding='same', activation='sigmoid')(avg_pool)\n",
    "    # Multiply the attention map with the input feature maps\n",
    "    weighted_input = Multiply()([input_tensor, conv])  \n",
    "    return weighted_input\n",
    "\n",
    "# Create MobileNet base model\n",
    "base_model = MobileNet(input_shape=(224, 224, 3), include_top=False, weights='imagenet')\n",
    "feature_maps = base_model.output\n",
    "\n",
    "# Add ECA layer\n",
    "eca_feature_maps = eca_layer(feature_maps)\n",
    "\n",
    "# Add global average pooling\n",
    "x = GlobalAveragePooling2D()(eca_feature_maps)\n",
    "\n",
    "# Add fully connected layers\n",
    "x = Dense(1024, activation='relu')(x)\n",
    "outputs = Dense(100, activation='softmax')(x)\n",
    "\n",
    "# Create the final model\n",
    "model = tf.keras.Model(inputs=base_model.input, outputs=outputs)\n",
    "\n",
    "# Compile the model\n",
    "model.compile(optimizer='adam', loss='categorical_crossentropy', metrics=['accuracy'])\n"
   ]
  },
  {
   "cell_type": "code",
   "execution_count": 12,
   "metadata": {
    "tags": []
   },
   "outputs": [],
   "source": [
    "# Compile Model\n",
    "optimizer = tf.keras.optimizers.Adam(learning_rate=LEARNING_RATE)\n",
    "loss_fn = tf.keras.losses.CategoricalCrossentropy()\n",
    "metrics = [\n",
    "    tf.keras.metrics.CategoricalAccuracy(),\n",
    "    tf.keras.metrics.Precision(),\n",
    "    tf.keras.metrics.Recall(),\n",
    "]\n",
    "\n",
    "model.compile(optimizer=optimizer, loss=loss_fn, metrics=metrics)"
   ]
  },
  {
   "cell_type": "code",
   "execution_count": 13,
   "metadata": {
    "tags": []
   },
   "outputs": [
    {
     "name": "stdout",
     "output_type": "stream",
     "text": [
      "Epoch 1/50\n"
     ]
    },
    {
     "name": "stderr",
     "output_type": "stream",
     "text": [
      "2024-10-27 16:28:13.555040: I external/local_xla/xla/stream_executor/cuda/cuda_dnn.cc:454] Loaded cuDNN version 8904\n",
      "2024-10-27 16:28:13.755356: I external/local_tsl/tsl/platform/default/subprocess.cc:304] Start cannot spawn child process: No such file or directory\n",
      "2024-10-27 16:28:14.977343: I external/local_xla/xla/service/service.cc:168] XLA service 0x7f8604a9e4d0 initialized for platform CUDA (this does not guarantee that XLA will be used). Devices:\n",
      "2024-10-27 16:28:14.977419: I external/local_xla/xla/service/service.cc:176]   StreamExecutor device (0): NVIDIA GeForce RTX 4090, Compute Capability 8.9\n",
      "2024-10-27 16:28:14.977435: I external/local_xla/xla/service/service.cc:176]   StreamExecutor device (1): NVIDIA GeForce RTX 4090, Compute Capability 8.9\n",
      "2024-10-27 16:28:15.002106: I tensorflow/compiler/mlir/tensorflow/utils/dump_mlir_util.cc:269] disabling MLIR crash reproducer, set env var `MLIR_CRASH_REPRODUCER_DIRECTORY` to enable.\n",
      "WARNING: All log messages before absl::InitializeLog() is called are written to STDERR\n",
      "I0000 00:00:1730017695.233988    1620 device_compiler.h:186] Compiled cluster using XLA!  This line is logged at most once for the lifetime of the process.\n"
     ]
    },
    {
     "name": "stdout",
     "output_type": "stream",
     "text": [
      "176/176 [==============================] - 35s 80ms/step - loss: 2.4623 - categorical_accuracy: 0.4519 - precision: 0.8792 - recall: 0.2299 - val_loss: 1.4789 - val_categorical_accuracy: 0.6143 - val_precision: 0.8604 - val_recall: 0.3896 - lr: 1.0000e-04\n",
      "Epoch 2/50\n",
      "176/176 [==============================] - 13s 72ms/step - loss: 0.8548 - categorical_accuracy: 0.7717 - precision: 0.9125 - recall: 0.6413 - val_loss: 0.7806 - val_categorical_accuracy: 0.7923 - val_precision: 0.9041 - val_recall: 0.6594 - lr: 1.0000e-04\n",
      "Epoch 3/50\n",
      "176/176 [==============================] - 13s 72ms/step - loss: 0.5482 - categorical_accuracy: 0.8526 - precision: 0.9307 - recall: 0.7657 - val_loss: 0.6657 - val_categorical_accuracy: 0.8079 - val_precision: 0.8819 - val_recall: 0.7372 - lr: 1.0000e-04\n",
      "Epoch 4/50\n",
      "176/176 [==============================] - 13s 72ms/step - loss: 0.3849 - categorical_accuracy: 0.8919 - precision: 0.9466 - recall: 0.8417 - val_loss: 0.5715 - val_categorical_accuracy: 0.8384 - val_precision: 0.9102 - val_recall: 0.7777 - lr: 1.0000e-04\n",
      "Epoch 5/50\n",
      "176/176 [==============================] - 13s 71ms/step - loss: 0.2888 - categorical_accuracy: 0.9204 - precision: 0.9571 - recall: 0.8823 - val_loss: 0.5273 - val_categorical_accuracy: 0.8459 - val_precision: 0.9075 - val_recall: 0.8015 - lr: 1.0000e-04\n",
      "Epoch 6/50\n",
      "176/176 [==============================] - 13s 71ms/step - loss: 0.2388 - categorical_accuracy: 0.9329 - precision: 0.9607 - recall: 0.9020 - val_loss: 0.5085 - val_categorical_accuracy: 0.8509 - val_precision: 0.9045 - val_recall: 0.8207 - lr: 1.0000e-04\n",
      "Epoch 7/50\n",
      "176/176 [==============================] - 13s 71ms/step - loss: 0.1768 - categorical_accuracy: 0.9545 - precision: 0.9714 - recall: 0.9292 - val_loss: 0.4823 - val_categorical_accuracy: 0.8537 - val_precision: 0.8978 - val_recall: 0.8263 - lr: 1.0000e-04\n",
      "Epoch 8/50\n",
      "176/176 [==============================] - 13s 71ms/step - loss: 0.1446 - categorical_accuracy: 0.9609 - precision: 0.9737 - recall: 0.9441 - val_loss: 0.4246 - val_categorical_accuracy: 0.8775 - val_precision: 0.9177 - val_recall: 0.8469 - lr: 1.0000e-04\n",
      "Epoch 9/50\n",
      "176/176 [==============================] - 13s 71ms/step - loss: 0.1221 - categorical_accuracy: 0.9684 - precision: 0.9783 - recall: 0.9558 - val_loss: 0.4279 - val_categorical_accuracy: 0.8778 - val_precision: 0.9126 - val_recall: 0.8530 - lr: 1.0000e-04\n",
      "Epoch 10/50\n",
      "176/176 [==============================] - 13s 71ms/step - loss: 0.0964 - categorical_accuracy: 0.9756 - precision: 0.9827 - recall: 0.9658 - val_loss: 0.4026 - val_categorical_accuracy: 0.8803 - val_precision: 0.9135 - val_recall: 0.8658 - lr: 1.0000e-04\n",
      "Epoch 11/50\n",
      "176/176 [==============================] - 13s 70ms/step - loss: 0.0860 - categorical_accuracy: 0.9786 - precision: 0.9844 - recall: 0.9695 - val_loss: 0.4031 - val_categorical_accuracy: 0.8874 - val_precision: 0.9199 - val_recall: 0.8686 - lr: 1.0000e-04\n",
      "Epoch 12/50\n",
      "176/176 [==============================] - 13s 70ms/step - loss: 0.0728 - categorical_accuracy: 0.9822 - precision: 0.9862 - recall: 0.9772 - val_loss: 0.3995 - val_categorical_accuracy: 0.8864 - val_precision: 0.9159 - val_recall: 0.8736 - lr: 1.0000e-04\n",
      "Epoch 13/50\n",
      "176/176 [==============================] - 13s 72ms/step - loss: 0.0663 - categorical_accuracy: 0.9827 - precision: 0.9866 - recall: 0.9777 - val_loss: 0.4275 - val_categorical_accuracy: 0.8874 - val_precision: 0.9133 - val_recall: 0.8711 - lr: 1.0000e-04\n",
      "Epoch 14/50\n",
      "176/176 [==============================] - 13s 70ms/step - loss: 0.0490 - categorical_accuracy: 0.9877 - precision: 0.9895 - recall: 0.9842 - val_loss: 0.3520 - val_categorical_accuracy: 0.9041 - val_precision: 0.9308 - val_recall: 0.8885 - lr: 5.0000e-05\n",
      "Epoch 15/50\n",
      "176/176 [==============================] - 13s 72ms/step - loss: 0.0363 - categorical_accuracy: 0.9929 - precision: 0.9937 - recall: 0.9911 - val_loss: 0.3431 - val_categorical_accuracy: 0.9038 - val_precision: 0.9276 - val_recall: 0.8913 - lr: 5.0000e-05\n",
      "Epoch 16/50\n",
      "176/176 [==============================] - 13s 70ms/step - loss: 0.0371 - categorical_accuracy: 0.9911 - precision: 0.9927 - recall: 0.9901 - val_loss: 0.3562 - val_categorical_accuracy: 0.9059 - val_precision: 0.9281 - val_recall: 0.8938 - lr: 5.0000e-05\n",
      "Epoch 17/50\n",
      "176/176 [==============================] - 13s 71ms/step - loss: 0.0326 - categorical_accuracy: 0.9922 - precision: 0.9928 - recall: 0.9907 - val_loss: 0.3463 - val_categorical_accuracy: 0.9062 - val_precision: 0.9286 - val_recall: 0.8956 - lr: 5.0000e-05\n",
      "Epoch 18/50\n",
      "176/176 [==============================] - 13s 70ms/step - loss: 0.0310 - categorical_accuracy: 0.9933 - precision: 0.9940 - recall: 0.9917 - val_loss: 0.3576 - val_categorical_accuracy: 0.9031 - val_precision: 0.9238 - val_recall: 0.8949 - lr: 5.0000e-05\n",
      "Epoch 19/50\n",
      "176/176 [==============================] - 13s 70ms/step - loss: 0.0321 - categorical_accuracy: 0.9917 - precision: 0.9929 - recall: 0.9906 - val_loss: 0.3599 - val_categorical_accuracy: 0.9062 - val_precision: 0.9250 - val_recall: 0.8931 - lr: 5.0000e-05\n",
      "Epoch 20/50\n",
      "176/176 [==============================] - 13s 70ms/step - loss: 0.0249 - categorical_accuracy: 0.9932 - precision: 0.9937 - recall: 0.9925 - val_loss: 0.3563 - val_categorical_accuracy: 0.9020 - val_precision: 0.9271 - val_recall: 0.8896 - lr: 2.5000e-05\n",
      "Epoch 21/50\n",
      "176/176 [==============================] - 13s 70ms/step - loss: 0.0228 - categorical_accuracy: 0.9943 - precision: 0.9948 - recall: 0.9941 - val_loss: 0.3482 - val_categorical_accuracy: 0.9048 - val_precision: 0.9257 - val_recall: 0.8938 - lr: 2.5000e-05\n",
      "Epoch 22/50\n",
      "176/176 [==============================] - 13s 69ms/step - loss: 0.0205 - categorical_accuracy: 0.9945 - precision: 0.9947 - recall: 0.9939 - val_loss: 0.3426 - val_categorical_accuracy: 0.9031 - val_precision: 0.9268 - val_recall: 0.8949 - lr: 1.2500e-05\n",
      "Epoch 23/50\n",
      "176/176 [==============================] - 13s 71ms/step - loss: 0.0196 - categorical_accuracy: 0.9947 - precision: 0.9949 - recall: 0.9941 - val_loss: 0.3354 - val_categorical_accuracy: 0.9091 - val_precision: 0.9302 - val_recall: 0.8988 - lr: 1.2500e-05\n",
      "Epoch 24/50\n",
      "176/176 [==============================] - 13s 68ms/step - loss: 0.0206 - categorical_accuracy: 0.9935 - precision: 0.9939 - recall: 0.9933 - val_loss: 0.3349 - val_categorical_accuracy: 0.9091 - val_precision: 0.9297 - val_recall: 0.8963 - lr: 1.2500e-05\n",
      "Epoch 25/50\n",
      "176/176 [==============================] - 13s 70ms/step - loss: 0.0197 - categorical_accuracy: 0.9945 - precision: 0.9947 - recall: 0.9943 - val_loss: 0.3355 - val_categorical_accuracy: 0.9112 - val_precision: 0.9300 - val_recall: 0.9016 - lr: 1.2500e-05\n",
      "Epoch 26/50\n",
      "176/176 [==============================] - 13s 70ms/step - loss: 0.0196 - categorical_accuracy: 0.9939 - precision: 0.9942 - recall: 0.9936 - val_loss: 0.3372 - val_categorical_accuracy: 0.9077 - val_precision: 0.9285 - val_recall: 0.8991 - lr: 1.2500e-05\n",
      "Epoch 27/50\n",
      "176/176 [==============================] - 13s 69ms/step - loss: 0.0177 - categorical_accuracy: 0.9956 - precision: 0.9957 - recall: 0.9952 - val_loss: 0.3420 - val_categorical_accuracy: 0.9073 - val_precision: 0.9297 - val_recall: 0.8974 - lr: 1.2500e-05\n",
      "Epoch 28/50\n",
      "176/176 [==============================] - 13s 69ms/step - loss: 0.0184 - categorical_accuracy: 0.9949 - precision: 0.9952 - recall: 0.9946 - val_loss: 0.3387 - val_categorical_accuracy: 0.9094 - val_precision: 0.9301 - val_recall: 0.8981 - lr: 6.2500e-06\n",
      "Epoch 29/50\n",
      "176/176 [==============================] - 13s 70ms/step - loss: 0.0179 - categorical_accuracy: 0.9954 - precision: 0.9955 - recall: 0.9947 - val_loss: 0.3357 - val_categorical_accuracy: 0.9091 - val_precision: 0.9310 - val_recall: 0.9006 - lr: 6.2500e-06\n",
      "Epoch 30/50\n",
      "176/176 [==============================] - 13s 69ms/step - loss: 0.0167 - categorical_accuracy: 0.9947 - precision: 0.9949 - recall: 0.9945 - val_loss: 0.3344 - val_categorical_accuracy: 0.9094 - val_precision: 0.9286 - val_recall: 0.9006 - lr: 3.1250e-06\n",
      "Epoch 31/50\n",
      "176/176 [==============================] - 13s 69ms/step - loss: 0.0168 - categorical_accuracy: 0.9949 - precision: 0.9950 - recall: 0.9944 - val_loss: 0.3326 - val_categorical_accuracy: 0.9094 - val_precision: 0.9273 - val_recall: 0.9013 - lr: 3.1250e-06\n",
      "Epoch 32/50\n",
      "176/176 [==============================] - 13s 73ms/step - loss: 0.0165 - categorical_accuracy: 0.9956 - precision: 0.9957 - recall: 0.9953 - val_loss: 0.3332 - val_categorical_accuracy: 0.9091 - val_precision: 0.9279 - val_recall: 0.9009 - lr: 1.5625e-06\n",
      "Epoch 33/50\n",
      "176/176 [==============================] - 14s 76ms/step - loss: 0.0154 - categorical_accuracy: 0.9964 - precision: 0.9964 - recall: 0.9963 - val_loss: 0.3330 - val_categorical_accuracy: 0.9105 - val_precision: 0.9283 - val_recall: 0.9016 - lr: 1.5625e-06\n",
      "Epoch 34/50\n",
      "176/176 [==============================] - 14s 76ms/step - loss: 0.0166 - categorical_accuracy: 0.9952 - precision: 0.9954 - recall: 0.9951 - val_loss: 0.3339 - val_categorical_accuracy: 0.9105 - val_precision: 0.9290 - val_recall: 0.9009 - lr: 7.8125e-07\n",
      "Epoch 35/50\n",
      "176/176 [==============================] - 14s 77ms/step - loss: 0.0156 - categorical_accuracy: 0.9956 - precision: 0.9957 - recall: 0.9956 - val_loss: 0.3333 - val_categorical_accuracy: 0.9102 - val_precision: 0.9280 - val_recall: 0.9013 - lr: 7.8125e-07\n",
      "Epoch 36/50\n",
      "176/176 [==============================] - 14s 78ms/step - loss: 0.0163 - categorical_accuracy: 0.9954 - precision: 0.9955 - recall: 0.9953 - val_loss: 0.3342 - val_categorical_accuracy: 0.9098 - val_precision: 0.9276 - val_recall: 0.9013 - lr: 3.9062e-07\n",
      "Epoch 37/50\n",
      "176/176 [==============================] - 14s 77ms/step - loss: 0.0156 - categorical_accuracy: 0.9957 - precision: 0.9961 - recall: 0.9956 - val_loss: 0.3347 - val_categorical_accuracy: 0.9105 - val_precision: 0.9279 - val_recall: 0.9002 - lr: 3.9062e-07\n",
      "Epoch 38/50\n",
      "176/176 [==============================] - 13s 70ms/step - loss: 0.0159 - categorical_accuracy: 0.9955 - precision: 0.9956 - recall: 0.9949 - val_loss: 0.3350 - val_categorical_accuracy: 0.9091 - val_precision: 0.9276 - val_recall: 0.9006 - lr: 1.9531e-07\n",
      "Epoch 39/50\n",
      "176/176 [==============================] - 13s 72ms/step - loss: 0.0160 - categorical_accuracy: 0.9954 - precision: 0.9956 - recall: 0.9951 - val_loss: 0.3346 - val_categorical_accuracy: 0.9098 - val_precision: 0.9280 - val_recall: 0.9013 - lr: 1.9531e-07\n",
      "Epoch 40/50\n",
      "176/176 [==============================] - 14s 77ms/step - loss: 0.0158 - categorical_accuracy: 0.9954 - precision: 0.9956 - recall: 0.9949 - val_loss: 0.3338 - val_categorical_accuracy: 0.9102 - val_precision: 0.9270 - val_recall: 0.9013 - lr: 9.7656e-08\n",
      "Epoch 41/50\n",
      "176/176 [==============================] - 13s 72ms/step - loss: 0.0163 - categorical_accuracy: 0.9953 - precision: 0.9956 - recall: 0.9949 - val_loss: 0.3342 - val_categorical_accuracy: 0.9105 - val_precision: 0.9279 - val_recall: 0.9002 - lr: 9.7656e-08\n",
      "Epoch 42/50\n",
      "176/176 [==============================] - 14s 76ms/step - loss: 0.0152 - categorical_accuracy: 0.9958 - precision: 0.9959 - recall: 0.9956 - val_loss: 0.3340 - val_categorical_accuracy: 0.9098 - val_precision: 0.9279 - val_recall: 0.9006 - lr: 4.8828e-08\n",
      "Epoch 43/50\n",
      "176/176 [==============================] - 13s 70ms/step - loss: 0.0149 - categorical_accuracy: 0.9962 - precision: 0.9963 - recall: 0.9959 - val_loss: 0.3345 - val_categorical_accuracy: 0.9102 - val_precision: 0.9283 - val_recall: 0.9016 - lr: 4.8828e-08\n",
      "Epoch 44/50\n",
      "176/176 [==============================] - 14s 77ms/step - loss: 0.0155 - categorical_accuracy: 0.9958 - precision: 0.9960 - recall: 0.9952 - val_loss: 0.3342 - val_categorical_accuracy: 0.9102 - val_precision: 0.9276 - val_recall: 0.9009 - lr: 2.4414e-08\n",
      "Epoch 45/50\n",
      "176/176 [==============================] - 14s 75ms/step - loss: 0.0158 - categorical_accuracy: 0.9964 - precision: 0.9964 - recall: 0.9962 - val_loss: 0.3343 - val_categorical_accuracy: 0.9102 - val_precision: 0.9273 - val_recall: 0.9013 - lr: 2.4414e-08\n",
      "Epoch 46/50\n",
      "176/176 [==============================] - 14s 77ms/step - loss: 0.0159 - categorical_accuracy: 0.9953 - precision: 0.9955 - recall: 0.9951 - val_loss: 0.3342 - val_categorical_accuracy: 0.9098 - val_precision: 0.9273 - val_recall: 0.9013 - lr: 1.2207e-08\n",
      "Epoch 47/50\n",
      "176/176 [==============================] - 13s 71ms/step - loss: 0.0154 - categorical_accuracy: 0.9961 - precision: 0.9961 - recall: 0.9960 - val_loss: 0.3339 - val_categorical_accuracy: 0.9098 - val_precision: 0.9276 - val_recall: 0.9013 - lr: 1.2207e-08\n",
      "Epoch 48/50\n",
      "176/176 [==============================] - 14s 74ms/step - loss: 0.0150 - categorical_accuracy: 0.9956 - precision: 0.9957 - recall: 0.9955 - val_loss: 0.3340 - val_categorical_accuracy: 0.9098 - val_precision: 0.9280 - val_recall: 0.9016 - lr: 1.0000e-08\n",
      "Epoch 49/50\n",
      "176/176 [==============================] - 14s 77ms/step - loss: 0.0155 - categorical_accuracy: 0.9957 - precision: 0.9959 - recall: 0.9954 - val_loss: 0.3339 - val_categorical_accuracy: 0.9102 - val_precision: 0.9284 - val_recall: 0.9020 - lr: 1.0000e-08\n",
      "Epoch 50/50\n",
      "176/176 [==============================] - 14s 77ms/step - loss: 0.0166 - categorical_accuracy: 0.9955 - precision: 0.9957 - recall: 0.9951 - val_loss: 0.3340 - val_categorical_accuracy: 0.9105 - val_precision: 0.9280 - val_recall: 0.9023 - lr: 1.0000e-08\n"
     ]
    }
   ],
   "source": [
    "# Train Model\n",
    "log_dir = \"../Running result/5/5\"\n",
    "tensorboard_callback = tf.keras.callbacks.TensorBoard(log_dir=log_dir, histogram_freq=1)\n",
    "lr_scheduler = tf.keras.callbacks.ReduceLROnPlateau(monitor='val_categorical_accuracy', factor=0.5, patience=2, min_lr=1e-8)\n",
    "\n",
    "history = model.fit(train_ds, epochs=EPOCHS, validation_data=vaild_ds, callbacks=[lr_scheduler, tensorboard_callback])"
   ]
  },
  {
   "cell_type": "code",
   "execution_count": 14,
   "metadata": {},
   "outputs": [
    {
     "name": "stdout",
     "output_type": "stream",
     "text": [
      "Training history saved to: ../Running result/5/5/5.xlsx\n"
     ]
    },
    {
     "name": "stderr",
     "output_type": "stream",
     "text": [
      "/root/anaconda3/lib/python3.11/site-packages/keras/src/engine/training.py:3103: UserWarning: You are saving your model as an HDF5 file via `model.save()`. This file format is considered legacy. We recommend using instead the native Keras format, e.g. `model.save('my_model.keras')`.\n",
      "  saving_api.save_model(\n"
     ]
    },
    {
     "name": "stdout",
     "output_type": "stream",
     "text": [
      "Model saved to: ../Running result/5/5/5.h5\n"
     ]
    }
   ],
   "source": [
    "import pandas as pd  # Import Pandas library\n",
    "import os\n",
    "\n",
    "# Define save path\n",
    "model_dir = \"../Running result/5/5\"\n",
    "excel_file_path = os.path.join(model_dir, \"5.xlsx\")  # Path to save the Excel file\n",
    "model_file_path = os.path.join(model_dir, \"5.h5\")  # Path to save the model\n",
    "\n",
    "# Check if the save directory exists; create it if it does not\n",
    "if not os.path.exists(model_dir):\n",
    "    os.makedirs(model_dir)\n",
    "\n",
    "# Save training history to an Excel file\n",
    "history_df = pd.DataFrame(history.history)  \n",
    "history_df.to_excel(excel_file_path, index=False)\n",
    "print(f\"Training history saved to: {excel_file_path}\")\n",
    "\n",
    "# Save the model to the specified path\n",
    "model.save(model_file_path)\n",
    "print(f\"Model saved to: {model_file_path}\")\n"
   ]
  },
  {
   "cell_type": "code",
   "execution_count": null,
   "metadata": {},
   "outputs": [],
   "source": []
  }
 ],
 "metadata": {
  "accelerator": "GPU",
  "colab": {
   "provenance": []
  },
  "kernelspec": {
   "display_name": "Python 3 (ipykernel)",
   "language": "python",
   "name": "python3"
  },
  "language_info": {
   "codemirror_mode": {
    "name": "ipython",
    "version": 3
   },
   "file_extension": ".py",
   "mimetype": "text/x-python",
   "name": "python",
   "nbconvert_exporter": "python",
   "pygments_lexer": "ipython3",
   "version": "3.11.7"
  }
 },
 "nbformat": 4,
 "nbformat_minor": 4
}
