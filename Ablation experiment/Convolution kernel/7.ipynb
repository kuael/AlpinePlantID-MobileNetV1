{
 "cells": [
  {
   "cell_type": "code",
   "execution_count": 2,
   "metadata": {},
   "outputs": [],
   "source": [
    "import tensorflow as tf  \n",
    "import numpy as np       \n",
    "import pandas as pd       \n",
    "from matplotlib import pyplot as plt   \n",
    "import seaborn as sns  \n",
    "import time          \n",
    "from tensorflow.keras.callbacks import History, ReduceLROnPlateau, TensorBoard       \n",
    "from tensorflow.keras import metrics          \n",
    "from sklearn.metrics import confusion_matrix          \n",
    "import pickle\n",
    "from tensorflow.keras.applications import MobileNet\n",
    "from tensorflow.keras.layers import GlobalAveragePooling2D, Reshape, multiply, add, Dense, Conv2D, GlobalMaxPooling2D, Activation\n",
    "from tensorflow.keras import backend as K\n",
    "import platform\n",
    "import os\n",
    "from tensorflow.keras.layers import GlobalAveragePooling2D, Multiply, Dense\n",
    "from keras.layers import GlobalAveragePooling2D, Dense, Multiply\n",
    "import platform\n",
    "import os"
   ]
  },
  {
   "cell_type": "code",
   "execution_count": 3,
   "metadata": {},
   "outputs": [],
   "source": [
    "# Display Settings\n",
    "pd.options.display.max_columns = None\n",
    "pd.options.display.max_rows = None\n",
    "sns.set()"
   ]
  },
  {
   "cell_type": "code",
   "execution_count": 4,
   "metadata": {},
   "outputs": [
    {
     "name": "stdout",
     "output_type": "stream",
     "text": [
      "Python version:  3.11.7\n",
      "TensorFlow version:  2.15.0\n",
      "Current working directory:  /root/.jupyter/张彤/消融实验\n",
      "Linux w3q2ulc9.vm 5.15.0-60-generic #66-Ubuntu SMP Fri Jan 20 14:29:49 UTC 2023 x86_64 x86_64 x86_64 GNU/Linux\n",
      "Sat Oct 26 23:32:01 2024       \n",
      "+---------------------------------------------------------------------------------------+\n",
      "| NVIDIA-SMI 545.23.08              Driver Version: 545.23.08    CUDA Version: 12.3     |\n",
      "|-----------------------------------------+----------------------+----------------------+\n",
      "| GPU  Name                 Persistence-M | Bus-Id        Disp.A | Volatile Uncorr. ECC |\n",
      "| Fan  Temp   Perf          Pwr:Usage/Cap |         Memory-Usage | GPU-Util  Compute M. |\n",
      "|                                         |                      |               MIG M. |\n",
      "|=========================================+======================+======================|\n",
      "|   0  NVIDIA GeForce RTX 4090        On  | 00000000:09:00.0 Off |                  Off |\n",
      "|  0%   24C    P8              11W / 450W |      3MiB / 24564MiB |      0%      Default |\n",
      "|                                         |                      |                  N/A |\n",
      "+-----------------------------------------+----------------------+----------------------+\n",
      "|   1  NVIDIA GeForce RTX 4090        On  | 00000000:0B:00.0 Off |                  Off |\n",
      "|  0%   26C    P8               4W / 450W |      3MiB / 24564MiB |      0%      Default |\n",
      "|                                         |                      |                  N/A |\n",
      "+-----------------------------------------+----------------------+----------------------+\n",
      "                                                                                         \n",
      "+---------------------------------------------------------------------------------------+\n",
      "| Processes:                                                                            |\n",
      "|  GPU   GI   CI        PID   Type   Process name                            GPU Memory |\n",
      "|        ID   ID                                                             Usage      |\n",
      "|=======================================================================================|\n",
      "|  No running processes found                                                           |\n",
      "+---------------------------------------------------------------------------------------+\n"
     ]
    }
   ],
   "source": [
    "# System Information Print the Python version\n",
    "print(\"Python version: \", platform.python_version())\n",
    "print(\"TensorFlow version: \", tf.__version__)\n",
    "print(\"Current working directory: \", os.getcwd())\n",
    "!uname -a\n",
    "!nvidia-smi"
   ]
  },
  {
   "cell_type": "code",
   "execution_count": 5,
   "metadata": {},
   "outputs": [],
   "source": [
    "# Hyperparameter Settings\n",
    "EPOCHS = 50\n",
    "IMAGE_SIZE = (224, 224)\n",
    "IMAGE_PATH = \"../data\"\n",
    "LEARNING_RATE = 1e-4\n",
    "BATCH_SIZE = 64"
   ]
  },
  {
   "cell_type": "code",
   "execution_count": 6,
   "metadata": {},
   "outputs": [
    {
     "name": "stdout",
     "output_type": "stream",
     "text": [
      "Found 14080 files belonging to 100 classes.\n",
      "Using 11264 files for training.\n"
     ]
    },
    {
     "name": "stderr",
     "output_type": "stream",
     "text": [
      "2024-10-26 23:32:06.154361: I external/local_xla/xla/stream_executor/cuda/cuda_executor.cc:901] successful NUMA node read from SysFS had negative value (-1), but there must be at least one NUMA node, so returning NUMA node zero. See more at https://github.com/torvalds/linux/blob/v6.0/Documentation/ABI/testing/sysfs-bus-pci#L344-L355\n",
      "2024-10-26 23:32:06.154700: I external/local_xla/xla/stream_executor/cuda/cuda_executor.cc:901] successful NUMA node read from SysFS had negative value (-1), but there must be at least one NUMA node, so returning NUMA node zero. See more at https://github.com/torvalds/linux/blob/v6.0/Documentation/ABI/testing/sysfs-bus-pci#L344-L355\n",
      "2024-10-26 23:32:06.275933: I external/local_xla/xla/stream_executor/cuda/cuda_executor.cc:901] successful NUMA node read from SysFS had negative value (-1), but there must be at least one NUMA node, so returning NUMA node zero. See more at https://github.com/torvalds/linux/blob/v6.0/Documentation/ABI/testing/sysfs-bus-pci#L344-L355\n",
      "2024-10-26 23:32:06.276244: I external/local_xla/xla/stream_executor/cuda/cuda_executor.cc:901] successful NUMA node read from SysFS had negative value (-1), but there must be at least one NUMA node, so returning NUMA node zero. See more at https://github.com/torvalds/linux/blob/v6.0/Documentation/ABI/testing/sysfs-bus-pci#L344-L355\n",
      "2024-10-26 23:32:06.276417: I external/local_xla/xla/stream_executor/cuda/cuda_executor.cc:901] successful NUMA node read from SysFS had negative value (-1), but there must be at least one NUMA node, so returning NUMA node zero. See more at https://github.com/torvalds/linux/blob/v6.0/Documentation/ABI/testing/sysfs-bus-pci#L344-L355\n",
      "2024-10-26 23:32:06.276576: I external/local_xla/xla/stream_executor/cuda/cuda_executor.cc:901] successful NUMA node read from SysFS had negative value (-1), but there must be at least one NUMA node, so returning NUMA node zero. See more at https://github.com/torvalds/linux/blob/v6.0/Documentation/ABI/testing/sysfs-bus-pci#L344-L355\n",
      "2024-10-26 23:32:06.453117: I external/local_xla/xla/stream_executor/cuda/cuda_executor.cc:901] successful NUMA node read from SysFS had negative value (-1), but there must be at least one NUMA node, so returning NUMA node zero. See more at https://github.com/torvalds/linux/blob/v6.0/Documentation/ABI/testing/sysfs-bus-pci#L344-L355\n",
      "2024-10-26 23:32:06.453373: I external/local_xla/xla/stream_executor/cuda/cuda_executor.cc:901] successful NUMA node read from SysFS had negative value (-1), but there must be at least one NUMA node, so returning NUMA node zero. See more at https://github.com/torvalds/linux/blob/v6.0/Documentation/ABI/testing/sysfs-bus-pci#L344-L355\n",
      "2024-10-26 23:32:06.453542: I external/local_xla/xla/stream_executor/cuda/cuda_executor.cc:901] successful NUMA node read from SysFS had negative value (-1), but there must be at least one NUMA node, so returning NUMA node zero. See more at https://github.com/torvalds/linux/blob/v6.0/Documentation/ABI/testing/sysfs-bus-pci#L344-L355\n",
      "2024-10-26 23:32:06.453694: I external/local_xla/xla/stream_executor/cuda/cuda_executor.cc:901] successful NUMA node read from SysFS had negative value (-1), but there must be at least one NUMA node, so returning NUMA node zero. See more at https://github.com/torvalds/linux/blob/v6.0/Documentation/ABI/testing/sysfs-bus-pci#L344-L355\n",
      "2024-10-26 23:32:06.453844: I external/local_xla/xla/stream_executor/cuda/cuda_executor.cc:901] successful NUMA node read from SysFS had negative value (-1), but there must be at least one NUMA node, so returning NUMA node zero. See more at https://github.com/torvalds/linux/blob/v6.0/Documentation/ABI/testing/sysfs-bus-pci#L344-L355\n",
      "2024-10-26 23:32:06.453995: I external/local_xla/xla/stream_executor/cuda/cuda_executor.cc:901] successful NUMA node read from SysFS had negative value (-1), but there must be at least one NUMA node, so returning NUMA node zero. See more at https://github.com/torvalds/linux/blob/v6.0/Documentation/ABI/testing/sysfs-bus-pci#L344-L355\n",
      "2024-10-26 23:32:06.470208: I external/local_xla/xla/stream_executor/cuda/cuda_executor.cc:901] successful NUMA node read from SysFS had negative value (-1), but there must be at least one NUMA node, so returning NUMA node zero. See more at https://github.com/torvalds/linux/blob/v6.0/Documentation/ABI/testing/sysfs-bus-pci#L344-L355\n",
      "2024-10-26 23:32:06.470535: I external/local_xla/xla/stream_executor/cuda/cuda_executor.cc:901] successful NUMA node read from SysFS had negative value (-1), but there must be at least one NUMA node, so returning NUMA node zero. See more at https://github.com/torvalds/linux/blob/v6.0/Documentation/ABI/testing/sysfs-bus-pci#L344-L355\n",
      "2024-10-26 23:32:06.470722: I external/local_xla/xla/stream_executor/cuda/cuda_executor.cc:901] successful NUMA node read from SysFS had negative value (-1), but there must be at least one NUMA node, so returning NUMA node zero. See more at https://github.com/torvalds/linux/blob/v6.0/Documentation/ABI/testing/sysfs-bus-pci#L344-L355\n",
      "2024-10-26 23:32:06.470909: I external/local_xla/xla/stream_executor/cuda/cuda_executor.cc:901] successful NUMA node read from SysFS had negative value (-1), but there must be at least one NUMA node, so returning NUMA node zero. See more at https://github.com/torvalds/linux/blob/v6.0/Documentation/ABI/testing/sysfs-bus-pci#L344-L355\n",
      "2024-10-26 23:32:06.471081: I external/local_xla/xla/stream_executor/cuda/cuda_executor.cc:901] successful NUMA node read from SysFS had negative value (-1), but there must be at least one NUMA node, so returning NUMA node zero. See more at https://github.com/torvalds/linux/blob/v6.0/Documentation/ABI/testing/sysfs-bus-pci#L344-L355\n",
      "2024-10-26 23:32:06.471215: I tensorflow/core/common_runtime/gpu/gpu_device.cc:1929] Created device /job:localhost/replica:0/task:0/device:GPU:0 with 22287 MB memory:  -> device: 0, name: NVIDIA GeForce RTX 4090, pci bus id: 0000:09:00.0, compute capability: 8.9\n",
      "2024-10-26 23:32:06.471936: I external/local_xla/xla/stream_executor/cuda/cuda_executor.cc:901] successful NUMA node read from SysFS had negative value (-1), but there must be at least one NUMA node, so returning NUMA node zero. See more at https://github.com/torvalds/linux/blob/v6.0/Documentation/ABI/testing/sysfs-bus-pci#L344-L355\n",
      "2024-10-26 23:32:06.472098: I tensorflow/core/common_runtime/gpu/gpu_device.cc:1929] Created device /job:localhost/replica:0/task:0/device:GPU:1 with 22287 MB memory:  -> device: 1, name: NVIDIA GeForce RTX 4090, pci bus id: 0000:0b:00.0, compute capability: 8.9\n",
      "2024-10-26 23:32:07.136152: I external/local_tsl/tsl/platform/default/subprocess.cc:304] Start cannot spawn child process: No such file or directory\n"
     ]
    },
    {
     "name": "stdout",
     "output_type": "stream",
     "text": [
      "Found 14080 files belonging to 100 classes.\n",
      "Using 2816 files for validation.\n"
     ]
    }
   ],
   "source": [
    "# Load Dataset\n",
    "train_ds = tf.keras.utils.image_dataset_from_directory(\n",
    "    IMAGE_PATH,\n",
    "    validation_split=0.2,\n",
    "    subset=\"training\",    \n",
    "    seed=123,\n",
    "    image_size=IMAGE_SIZE,\n",
    "    batch_size=BATCH_SIZE\n",
    ")\n",
    "\n",
    "vaild_ds = tf.keras.utils.image_dataset_from_directory(\n",
    "    IMAGE_PATH,\n",
    "    validation_split=0.2,\n",
    "    subset=\"validation\",\n",
    "    seed=123,\n",
    "    image_size=IMAGE_SIZE,\n",
    "    batch_size=BATCH_SIZE\n",
    ")"
   ]
  },
  {
   "cell_type": "code",
   "execution_count": 7,
   "metadata": {},
   "outputs": [],
   "source": [
    "# Image Normalization\n",
    "mean = [0.485, 0.456, 0.406]\n",
    "std = [0.229, 0.224, 0.225]\n",
    "\n",
    "def normalize_image(image):\n",
    "    return (image - mean_tensor) / std_tensor\n"
   ]
  },
  {
   "cell_type": "code",
   "execution_count": 8,
   "metadata": {},
   "outputs": [],
   "source": [
    "# Data Augmentation\n",
    "train_image_augment = tf.keras.Sequential([\n",
    "    tf.keras.layers.Rescaling(1 / 255.0),\n",
    "    tf.keras.layers.RandomRotation(factor=0.2),\n",
    "    tf.keras.layers.RandomFlip(),\n",
    "])\n",
    "\n",
    "valid_image_augment = tf.keras.Sequential([\n",
    "    tf.keras.layers.Rescaling(1 / 255.0),\n",
    "])"
   ]
  },
  {
   "cell_type": "code",
   "execution_count": 9,
   "metadata": {},
   "outputs": [],
   "source": [
    "# Input Processing\n",
    "def process_train_input(images, labels):\n",
    "    return train_image_augment(images), labels\n",
    "\n",
    "def process_valid_input(images, labels):\n",
    "    return valid_image_augment(images), labels\n"
   ]
  },
  {
   "cell_type": "code",
   "execution_count": 10,
   "metadata": {},
   "outputs": [],
   "source": [
    "# Data Preprocessing\n",
    "def convert_types_and_encode(x, y):\n",
    "    y = tf.cast(y, tf.int32)  \n",
    "    y_one_hot = tf.one_hot(y, 100)  \n",
    "    return x, y_one_hot"
   ]
  },
  {
   "cell_type": "code",
   "execution_count": 11,
   "metadata": {},
   "outputs": [],
   "source": [
    "# Apply Data Preprocessing\n",
    "train_ds = train_ds.map(convert_types_and_encode)\n",
    "train_ds = train_ds.map(process_train_input, num_parallel_calls=tf.data.AUTOTUNE)\n",
    "train_ds = train_ds.prefetch(tf.data.AUTOTUNE)\n",
    "\n",
    "vaild_ds = vaild_ds.map(convert_types_and_encode)\n",
    "vaild_ds = vaild_ds.map(process_valid_input, num_parallel_calls=tf.data.AUTOTUNE)\n",
    "vaild_ds = vaild_ds.prefetch(tf.data.AUTOTUNE)"
   ]
  },
  {
   "cell_type": "code",
   "execution_count": 12,
   "metadata": {},
   "outputs": [],
   "source": [
    "# Define the ECA layer\n",
    "def eca_layer(input_tensor, k_size=7):\n",
    "    # Apply average pooling across the spatial dimensions\n",
    "    avg_pool = K.mean(input_tensor, axis=[1, 2], keepdims=True)\n",
    "    # Apply Conv2D instead of Conv1D for 2D spatial data\n",
    "    conv = Conv2D(filters=1, kernel_size=(k_size, 1), padding='same', activation='sigmoid')(avg_pool)\n",
    "    # Multiply the attention map with the input feature maps\n",
    "    weighted_input = Multiply()([input_tensor, conv])  \n",
    "    return weighted_input\n",
    "\n",
    "# Create MobileNet base model\n",
    "base_model = MobileNet(input_shape=(224, 224, 3), include_top=False, weights='imagenet')\n",
    "feature_maps = base_model.output\n",
    "\n",
    "# Add ECA layer\n",
    "eca_feature_maps = eca_layer(feature_maps)\n",
    "\n",
    "# Add global average pooling\n",
    "x = GlobalAveragePooling2D()(eca_feature_maps)\n",
    "\n",
    "# Add fully connected layers\n",
    "x = Dense(1024, activation='relu')(x)\n",
    "outputs = Dense(100, activation='softmax')(x)\n",
    "\n",
    "# Create the final model\n",
    "model = tf.keras.Model(inputs=base_model.input, outputs=outputs)\n",
    "\n",
    "# Compile the model\n",
    "model.compile(optimizer='adam', loss='categorical_crossentropy', metrics=['accuracy'])\n"
   ]
  },
  {
   "cell_type": "code",
   "execution_count": 13,
   "metadata": {},
   "outputs": [],
   "source": [
    "# Compile Model\n",
    "optimizer = tf.keras.optimizers.Adam(learning_rate=LEARNING_RATE)\n",
    "loss_fn = tf.keras.losses.CategoricalCrossentropy()\n",
    "metrics = [\n",
    "    tf.keras.metrics.CategoricalAccuracy(),\n",
    "    tf.keras.metrics.Precision(),\n",
    "    tf.keras.metrics.Recall(),\n",
    "]\n",
    "\n",
    "model.compile(optimizer=optimizer, loss=loss_fn, metrics=metrics)"
   ]
  },
  {
   "cell_type": "code",
   "execution_count": 14,
   "metadata": {},
   "outputs": [
    {
     "name": "stdout",
     "output_type": "stream",
     "text": [
      "Epoch 1/50\n"
     ]
    },
    {
     "name": "stderr",
     "output_type": "stream",
     "text": [
      "2024-10-26 23:32:19.549700: I external/local_xla/xla/stream_executor/cuda/cuda_dnn.cc:454] Loaded cuDNN version 8904\n",
      "2024-10-26 23:32:19.791250: I external/local_tsl/tsl/platform/default/subprocess.cc:304] Start cannot spawn child process: No such file or directory\n",
      "2024-10-26 23:32:21.097934: I external/local_xla/xla/service/service.cc:168] XLA service 0x7f60dcaa0420 initialized for platform CUDA (this does not guarantee that XLA will be used). Devices:\n",
      "2024-10-26 23:32:21.098005: I external/local_xla/xla/service/service.cc:176]   StreamExecutor device (0): NVIDIA GeForce RTX 4090, Compute Capability 8.9\n",
      "2024-10-26 23:32:21.098020: I external/local_xla/xla/service/service.cc:176]   StreamExecutor device (1): NVIDIA GeForce RTX 4090, Compute Capability 8.9\n",
      "2024-10-26 23:32:21.120665: I tensorflow/compiler/mlir/tensorflow/utils/dump_mlir_util.cc:269] disabling MLIR crash reproducer, set env var `MLIR_CRASH_REPRODUCER_DIRECTORY` to enable.\n",
      "WARNING: All log messages before absl::InitializeLog() is called are written to STDERR\n",
      "I0000 00:00:1729956741.366574    1607 device_compiler.h:186] Compiled cluster using XLA!  This line is logged at most once for the lifetime of the process.\n"
     ]
    },
    {
     "name": "stdout",
     "output_type": "stream",
     "text": [
      "176/176 [==============================] - 35s 80ms/step - loss: 2.4262 - categorical_accuracy: 0.4555 - precision: 0.8893 - recall: 0.2332 - val_loss: 1.4673 - val_categorical_accuracy: 0.6175 - val_precision: 0.8678 - val_recall: 0.3963 - lr: 1.0000e-04\n",
      "Epoch 2/50\n",
      "176/176 [==============================] - 13s 72ms/step - loss: 0.8709 - categorical_accuracy: 0.7702 - precision: 0.9112 - recall: 0.6308 - val_loss: 0.8279 - val_categorical_accuracy: 0.7720 - val_precision: 0.9030 - val_recall: 0.6548 - lr: 1.0000e-04\n",
      "Epoch 3/50\n",
      "176/176 [==============================] - 13s 72ms/step - loss: 0.5558 - categorical_accuracy: 0.8462 - precision: 0.9282 - recall: 0.7621 - val_loss: 0.6467 - val_categorical_accuracy: 0.8146 - val_precision: 0.8836 - val_recall: 0.7386 - lr: 1.0000e-04\n",
      "Epoch 4/50\n",
      "176/176 [==============================] - 13s 73ms/step - loss: 0.3954 - categorical_accuracy: 0.8928 - precision: 0.9429 - recall: 0.8386 - val_loss: 0.5316 - val_categorical_accuracy: 0.8427 - val_precision: 0.9044 - val_recall: 0.7898 - lr: 1.0000e-04\n",
      "Epoch 5/50\n",
      "176/176 [==============================] - 13s 72ms/step - loss: 0.2979 - categorical_accuracy: 0.9187 - precision: 0.9539 - recall: 0.8779 - val_loss: 0.4899 - val_categorical_accuracy: 0.8643 - val_precision: 0.9103 - val_recall: 0.8214 - lr: 1.0000e-04\n",
      "Epoch 6/50\n",
      "176/176 [==============================] - 13s 73ms/step - loss: 0.2355 - categorical_accuracy: 0.9362 - precision: 0.9639 - recall: 0.9066 - val_loss: 0.4528 - val_categorical_accuracy: 0.8679 - val_precision: 0.9180 - val_recall: 0.8310 - lr: 1.0000e-04\n",
      "Epoch 7/50\n",
      "176/176 [==============================] - 13s 73ms/step - loss: 0.1799 - categorical_accuracy: 0.9533 - precision: 0.9709 - recall: 0.9267 - val_loss: 0.4409 - val_categorical_accuracy: 0.8683 - val_precision: 0.9104 - val_recall: 0.8370 - lr: 1.0000e-04\n",
      "Epoch 8/50\n",
      "176/176 [==============================] - 13s 73ms/step - loss: 0.1458 - categorical_accuracy: 0.9639 - precision: 0.9762 - recall: 0.9477 - val_loss: 0.4428 - val_categorical_accuracy: 0.8739 - val_precision: 0.9107 - val_recall: 0.8473 - lr: 1.0000e-04\n",
      "Epoch 9/50\n",
      "176/176 [==============================] - 13s 73ms/step - loss: 0.1257 - categorical_accuracy: 0.9677 - precision: 0.9765 - recall: 0.9537 - val_loss: 0.3999 - val_categorical_accuracy: 0.8839 - val_precision: 0.9232 - val_recall: 0.8576 - lr: 1.0000e-04\n",
      "Epoch 10/50\n",
      "176/176 [==============================] - 13s 73ms/step - loss: 0.1032 - categorical_accuracy: 0.9755 - precision: 0.9818 - recall: 0.9645 - val_loss: 0.4013 - val_categorical_accuracy: 0.8828 - val_precision: 0.9109 - val_recall: 0.8640 - lr: 1.0000e-04\n",
      "Epoch 11/50\n",
      "176/176 [==============================] - 13s 72ms/step - loss: 0.0836 - categorical_accuracy: 0.9793 - precision: 0.9844 - recall: 0.9720 - val_loss: 0.3992 - val_categorical_accuracy: 0.8888 - val_precision: 0.9203 - val_recall: 0.8732 - lr: 1.0000e-04\n",
      "Epoch 12/50\n",
      "176/176 [==============================] - 13s 72ms/step - loss: 0.0741 - categorical_accuracy: 0.9829 - precision: 0.9857 - recall: 0.9759 - val_loss: 0.4042 - val_categorical_accuracy: 0.8825 - val_precision: 0.9115 - val_recall: 0.8636 - lr: 1.0000e-04\n",
      "Epoch 13/50\n",
      "176/176 [==============================] - 13s 71ms/step - loss: 0.0642 - categorical_accuracy: 0.9850 - precision: 0.9875 - recall: 0.9790 - val_loss: 0.3927 - val_categorical_accuracy: 0.8945 - val_precision: 0.9177 - val_recall: 0.8746 - lr: 1.0000e-04\n",
      "Epoch 14/50\n",
      "176/176 [==============================] - 13s 71ms/step - loss: 0.0617 - categorical_accuracy: 0.9846 - precision: 0.9868 - recall: 0.9803 - val_loss: 0.3831 - val_categorical_accuracy: 0.8949 - val_precision: 0.9189 - val_recall: 0.8817 - lr: 1.0000e-04\n",
      "Epoch 15/50\n",
      "176/176 [==============================] - 13s 70ms/step - loss: 0.0580 - categorical_accuracy: 0.9846 - precision: 0.9876 - recall: 0.9817 - val_loss: 0.4202 - val_categorical_accuracy: 0.8821 - val_precision: 0.9073 - val_recall: 0.8686 - lr: 1.0000e-04\n",
      "Epoch 16/50\n",
      "176/176 [==============================] - 13s 72ms/step - loss: 0.0533 - categorical_accuracy: 0.9856 - precision: 0.9875 - recall: 0.9822 - val_loss: 0.4024 - val_categorical_accuracy: 0.8924 - val_precision: 0.9184 - val_recall: 0.8754 - lr: 1.0000e-04\n",
      "Epoch 17/50\n",
      "176/176 [==============================] - 13s 70ms/step - loss: 0.0357 - categorical_accuracy: 0.9908 - precision: 0.9915 - recall: 0.9892 - val_loss: 0.3392 - val_categorical_accuracy: 0.9041 - val_precision: 0.9244 - val_recall: 0.8945 - lr: 5.0000e-05\n",
      "Epoch 18/50\n",
      "176/176 [==============================] - 13s 71ms/step - loss: 0.0296 - categorical_accuracy: 0.9917 - precision: 0.9920 - recall: 0.9911 - val_loss: 0.3462 - val_categorical_accuracy: 0.9048 - val_precision: 0.9232 - val_recall: 0.8963 - lr: 5.0000e-05\n",
      "Epoch 19/50\n",
      "176/176 [==============================] - 13s 71ms/step - loss: 0.0281 - categorical_accuracy: 0.9923 - precision: 0.9929 - recall: 0.9910 - val_loss: 0.3405 - val_categorical_accuracy: 0.9070 - val_precision: 0.9278 - val_recall: 0.8988 - lr: 5.0000e-05\n",
      "Epoch 20/50\n",
      "176/176 [==============================] - 13s 70ms/step - loss: 0.0254 - categorical_accuracy: 0.9926 - precision: 0.9932 - recall: 0.9917 - val_loss: 0.3507 - val_categorical_accuracy: 0.9052 - val_precision: 0.9222 - val_recall: 0.8963 - lr: 5.0000e-05\n",
      "Epoch 21/50\n",
      "176/176 [==============================] - 13s 69ms/step - loss: 0.0238 - categorical_accuracy: 0.9936 - precision: 0.9940 - recall: 0.9928 - val_loss: 0.3472 - val_categorical_accuracy: 0.9105 - val_precision: 0.9291 - val_recall: 0.9023 - lr: 5.0000e-05\n",
      "Epoch 22/50\n",
      "176/176 [==============================] - 13s 71ms/step - loss: 0.0227 - categorical_accuracy: 0.9947 - precision: 0.9948 - recall: 0.9934 - val_loss: 0.3508 - val_categorical_accuracy: 0.9102 - val_precision: 0.9291 - val_recall: 0.9027 - lr: 5.0000e-05\n",
      "Epoch 23/50\n",
      "176/176 [==============================] - 13s 73ms/step - loss: 0.0201 - categorical_accuracy: 0.9947 - precision: 0.9949 - recall: 0.9943 - val_loss: 0.3378 - val_categorical_accuracy: 0.9123 - val_precision: 0.9299 - val_recall: 0.9038 - lr: 5.0000e-05\n",
      "Epoch 24/50\n",
      "176/176 [==============================] - 13s 70ms/step - loss: 0.0251 - categorical_accuracy: 0.9921 - precision: 0.9927 - recall: 0.9916 - val_loss: 0.3553 - val_categorical_accuracy: 0.9055 - val_precision: 0.9226 - val_recall: 0.8974 - lr: 5.0000e-05\n",
      "Epoch 25/50\n",
      "176/176 [==============================] - 13s 71ms/step - loss: 0.0222 - categorical_accuracy: 0.9936 - precision: 0.9938 - recall: 0.9932 - val_loss: 0.3328 - val_categorical_accuracy: 0.9144 - val_precision: 0.9311 - val_recall: 0.9066 - lr: 5.0000e-05\n",
      "Epoch 26/50\n",
      "176/176 [==============================] - 13s 71ms/step - loss: 0.0186 - categorical_accuracy: 0.9944 - precision: 0.9947 - recall: 0.9939 - val_loss: 0.3596 - val_categorical_accuracy: 0.9052 - val_precision: 0.9236 - val_recall: 0.8977 - lr: 5.0000e-05\n",
      "Epoch 27/50\n",
      "176/176 [==============================] - 13s 71ms/step - loss: 0.0187 - categorical_accuracy: 0.9941 - precision: 0.9941 - recall: 0.9939 - val_loss: 0.3575 - val_categorical_accuracy: 0.9055 - val_precision: 0.9213 - val_recall: 0.8981 - lr: 5.0000e-05\n",
      "Epoch 28/50\n",
      "176/176 [==============================] - 13s 70ms/step - loss: 0.0152 - categorical_accuracy: 0.9954 - precision: 0.9955 - recall: 0.9949 - val_loss: 0.3378 - val_categorical_accuracy: 0.9084 - val_precision: 0.9273 - val_recall: 0.9020 - lr: 2.5000e-05\n",
      "Epoch 29/50\n",
      "176/176 [==============================] - 13s 70ms/step - loss: 0.0148 - categorical_accuracy: 0.9956 - precision: 0.9956 - recall: 0.9951 - val_loss: 0.3442 - val_categorical_accuracy: 0.9091 - val_precision: 0.9270 - val_recall: 0.9020 - lr: 2.5000e-05\n",
      "Epoch 30/50\n",
      "176/176 [==============================] - 13s 70ms/step - loss: 0.0138 - categorical_accuracy: 0.9953 - precision: 0.9953 - recall: 0.9952 - val_loss: 0.3388 - val_categorical_accuracy: 0.9130 - val_precision: 0.9295 - val_recall: 0.9038 - lr: 1.2500e-05\n",
      "Epoch 31/50\n",
      "176/176 [==============================] - 13s 70ms/step - loss: 0.0130 - categorical_accuracy: 0.9958 - precision: 0.9958 - recall: 0.9956 - val_loss: 0.3286 - val_categorical_accuracy: 0.9141 - val_precision: 0.9300 - val_recall: 0.9062 - lr: 1.2500e-05\n",
      "Epoch 32/50\n",
      "176/176 [==============================] - 13s 70ms/step - loss: 0.0129 - categorical_accuracy: 0.9959 - precision: 0.9961 - recall: 0.9956 - val_loss: 0.3287 - val_categorical_accuracy: 0.9151 - val_precision: 0.9304 - val_recall: 0.9073 - lr: 6.2500e-06\n",
      "Epoch 33/50\n",
      "176/176 [==============================] - 13s 70ms/step - loss: 0.0119 - categorical_accuracy: 0.9956 - precision: 0.9956 - recall: 0.9955 - val_loss: 0.3282 - val_categorical_accuracy: 0.9155 - val_precision: 0.9314 - val_recall: 0.9070 - lr: 6.2500e-06\n",
      "Epoch 34/50\n",
      "176/176 [==============================] - 13s 70ms/step - loss: 0.0127 - categorical_accuracy: 0.9950 - precision: 0.9950 - recall: 0.9949 - val_loss: 0.3309 - val_categorical_accuracy: 0.9148 - val_precision: 0.9331 - val_recall: 0.9066 - lr: 6.2500e-06\n",
      "Epoch 35/50\n",
      "176/176 [==============================] - 13s 70ms/step - loss: 0.0122 - categorical_accuracy: 0.9955 - precision: 0.9956 - recall: 0.9953 - val_loss: 0.3331 - val_categorical_accuracy: 0.9112 - val_precision: 0.9300 - val_recall: 0.9052 - lr: 6.2500e-06\n",
      "Epoch 36/50\n",
      "176/176 [==============================] - 13s 72ms/step - loss: 0.0118 - categorical_accuracy: 0.9959 - precision: 0.9959 - recall: 0.9956 - val_loss: 0.3315 - val_categorical_accuracy: 0.9134 - val_precision: 0.9303 - val_recall: 0.9055 - lr: 3.1250e-06\n",
      "Epoch 37/50\n",
      "176/176 [==============================] - 13s 70ms/step - loss: 0.0127 - categorical_accuracy: 0.9953 - precision: 0.9954 - recall: 0.9951 - val_loss: 0.3320 - val_categorical_accuracy: 0.9126 - val_precision: 0.9296 - val_recall: 0.9052 - lr: 3.1250e-06\n",
      "Epoch 38/50\n",
      "176/176 [==============================] - 13s 70ms/step - loss: 0.0111 - categorical_accuracy: 0.9957 - precision: 0.9959 - recall: 0.9956 - val_loss: 0.3322 - val_categorical_accuracy: 0.9134 - val_precision: 0.9286 - val_recall: 0.9052 - lr: 1.5625e-06\n",
      "Epoch 39/50\n",
      "176/176 [==============================] - 13s 70ms/step - loss: 0.0109 - categorical_accuracy: 0.9966 - precision: 0.9967 - recall: 0.9964 - val_loss: 0.3313 - val_categorical_accuracy: 0.9141 - val_precision: 0.9310 - val_recall: 0.9055 - lr: 1.5625e-06\n",
      "Epoch 40/50\n",
      "176/176 [==============================] - 13s 72ms/step - loss: 0.0107 - categorical_accuracy: 0.9956 - precision: 0.9956 - recall: 0.9954 - val_loss: 0.3312 - val_categorical_accuracy: 0.9148 - val_precision: 0.9317 - val_recall: 0.9059 - lr: 7.8125e-07\n",
      "Epoch 41/50\n",
      "176/176 [==============================] - 13s 71ms/step - loss: 0.0115 - categorical_accuracy: 0.9956 - precision: 0.9957 - recall: 0.9956 - val_loss: 0.3313 - val_categorical_accuracy: 0.9130 - val_precision: 0.9297 - val_recall: 0.9062 - lr: 7.8125e-07\n",
      "Epoch 42/50\n",
      "176/176 [==============================] - 13s 72ms/step - loss: 0.0107 - categorical_accuracy: 0.9962 - precision: 0.9964 - recall: 0.9962 - val_loss: 0.3302 - val_categorical_accuracy: 0.9130 - val_precision: 0.9306 - val_recall: 0.9052 - lr: 3.9062e-07\n",
      "Epoch 43/50\n",
      "176/176 [==============================] - 13s 71ms/step - loss: 0.0110 - categorical_accuracy: 0.9962 - precision: 0.9962 - recall: 0.9958 - val_loss: 0.3304 - val_categorical_accuracy: 0.9137 - val_precision: 0.9310 - val_recall: 0.9062 - lr: 3.9062e-07\n",
      "Epoch 44/50\n",
      "176/176 [==============================] - 13s 73ms/step - loss: 0.0115 - categorical_accuracy: 0.9958 - precision: 0.9959 - recall: 0.9958 - val_loss: 0.3305 - val_categorical_accuracy: 0.9134 - val_precision: 0.9314 - val_recall: 0.9059 - lr: 1.9531e-07\n",
      "Epoch 45/50\n",
      "176/176 [==============================] - 13s 73ms/step - loss: 0.0115 - categorical_accuracy: 0.9961 - precision: 0.9962 - recall: 0.9961 - val_loss: 0.3303 - val_categorical_accuracy: 0.9141 - val_precision: 0.9310 - val_recall: 0.9059 - lr: 1.9531e-07\n",
      "Epoch 46/50\n",
      "176/176 [==============================] - 13s 72ms/step - loss: 0.0108 - categorical_accuracy: 0.9963 - precision: 0.9964 - recall: 0.9961 - val_loss: 0.3304 - val_categorical_accuracy: 0.9134 - val_precision: 0.9303 - val_recall: 0.9055 - lr: 9.7656e-08\n",
      "Epoch 47/50\n",
      "176/176 [==============================] - 13s 73ms/step - loss: 0.0113 - categorical_accuracy: 0.9960 - precision: 0.9962 - recall: 0.9958 - val_loss: 0.3307 - val_categorical_accuracy: 0.9137 - val_precision: 0.9317 - val_recall: 0.9062 - lr: 9.7656e-08\n",
      "Epoch 48/50\n",
      "176/176 [==============================] - 13s 73ms/step - loss: 0.0112 - categorical_accuracy: 0.9956 - precision: 0.9956 - recall: 0.9956 - val_loss: 0.3298 - val_categorical_accuracy: 0.9141 - val_precision: 0.9321 - val_recall: 0.9062 - lr: 4.8828e-08\n",
      "Epoch 49/50\n",
      "176/176 [==============================] - 13s 73ms/step - loss: 0.0118 - categorical_accuracy: 0.9951 - precision: 0.9954 - recall: 0.9950 - val_loss: 0.3301 - val_categorical_accuracy: 0.9141 - val_precision: 0.9310 - val_recall: 0.9055 - lr: 4.8828e-08\n",
      "Epoch 50/50\n",
      "176/176 [==============================] - 13s 72ms/step - loss: 0.0110 - categorical_accuracy: 0.9964 - precision: 0.9964 - recall: 0.9963 - val_loss: 0.3302 - val_categorical_accuracy: 0.9137 - val_precision: 0.9314 - val_recall: 0.9059 - lr: 2.4414e-08\n"
     ]
    }
   ],
   "source": [
    "# Train Model\n",
    "log_dir = \"../Running result/7/7\"\n",
    "tensorboard_callback = tf.keras.callbacks.TensorBoard(log_dir=log_dir, histogram_freq=1)\n",
    "lr_scheduler = tf.keras.callbacks.ReduceLROnPlateau(monitor='val_categorical_accuracy', factor=0.5, patience=2, min_lr=1e-8)\n",
    "\n",
    "history = model.fit(train_ds, epochs=EPOCHS, validation_data=vaild_ds, callbacks=[lr_scheduler, tensorboard_callback])"
   ]
  },
  {
   "cell_type": "code",
   "execution_count": 15,
   "metadata": {},
   "outputs": [
    {
     "name": "stdout",
     "output_type": "stream",
     "text": [
      "Training history saved to: ../Running result//7/7.xlsx\n"
     ]
    },
    {
     "name": "stderr",
     "output_type": "stream",
     "text": [
      "/root/anaconda3/lib/python3.11/site-packages/keras/src/engine/training.py:3103: UserWarning: You are saving your model as an HDF5 file via `model.save()`. This file format is considered legacy. We recommend using instead the native Keras format, e.g. `model.save('my_model.keras')`.\n",
      "  saving_api.save_model(\n"
     ]
    },
    {
     "name": "stdout",
     "output_type": "stream",
     "text": [
      "Model saved to: ../Running result//7/7.h5\n"
     ]
    }
   ],
   "source": [
    "import pandas as pd  # 导入 Pandas 库\n",
    "import os\n",
    "\n",
    "# 定义保存路径\n",
    "model_dir = \"../Running result//7\"\n",
    "excel_file_path = os.path.join(model_dir, \"7.xlsx\")  # Excel 文件保存路径\n",
    "model_file_path = os.path.join(model_dir, \"7.h5\")  # 模型保存路径\n",
    "\n",
    "# 检查保存目录是否存在，如果不存在则创建\n",
    "if not os.path.exists(model_dir):\n",
    "    os.makedirs(model_dir)\n",
    "\n",
    "# 保存训练历史到 Excel 文件\n",
    "history_df = pd.DataFrame(history.history)  \n",
    "history_df.to_excel(excel_file_path, index=False)\n",
    "print(f\"Training history saved to: {excel_file_path}\")\n",
    "\n",
    "# 保存模型到指定路径\n",
    "model.save(model_file_path)\n",
    "print(f\"Model saved to: {model_file_path}\")\n"
   ]
  }
 ],
 "metadata": {
  "accelerator": "GPU",
  "colab": {
   "provenance": []
  },
  "kernelspec": {
   "display_name": "Python 3 (ipykernel)",
   "language": "python",
   "name": "python3"
  },
  "language_info": {
   "codemirror_mode": {
    "name": "ipython",
    "version": 3
   },
   "file_extension": ".py",
   "mimetype": "text/x-python",
   "name": "python",
   "nbconvert_exporter": "python",
   "pygments_lexer": "ipython3",
   "version": "3.11.7"
  }
 },
 "nbformat": 4,
 "nbformat_minor": 4
}
