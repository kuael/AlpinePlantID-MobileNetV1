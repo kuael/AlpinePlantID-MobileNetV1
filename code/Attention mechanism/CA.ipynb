{
 "cells": [
  {
   "cell_type": "code",
   "execution_count": 1,
   "metadata": {
    "tags": []
   },
   "outputs": [],
   "source": [
    "# Import Libraries\n",
    "import tensorflow as tf  \n",
    "import numpy as np       \n",
    "import pandas as pd       \n",
    "from matplotlib import pyplot as plt   \n",
    "import seaborn as sns  \n",
    "import time          \n",
    "from tensorflow.keras.callbacks import History, ReduceLROnPlateau, TensorBoard       \n",
    "from tensorflow.keras import metrics          \n",
    "from sklearn.metrics import confusion_matrix          \n",
    "import pickle\n",
    "from tensorflow.keras.applications import MobileNet\n",
    "from tensorflow.keras import backend as K\n",
    "from tensorflow.keras.layers import Conv1D, GlobalAveragePooling2D, Dense, Multiply  \n",
    "from tensorflow.keras.layers import GlobalAveragePooling2D, Multiply, Dense\n",
    "import platform\n",
    "import os"
   ]
  },
  {
   "cell_type": "code",
   "execution_count": 2,
   "metadata": {
    "tags": []
   },
   "outputs": [],
   "source": [
    "# Display Settings\n",
    "pd.options.display.max_columns = None\n",
    "pd.options.display.max_rows = None\n",
    "sns.set()"
   ]
  },
  {
   "cell_type": "code",
   "execution_count": 3,
   "metadata": {
    "tags": []
   },
   "outputs": [
    {
     "name": "stdout",
     "output_type": "stream",
     "text": [
      "Python version:  3.11.7\n",
      "TensorFlow version:  2.15.0\n",
      "Current working directory:  /root/.jupyter/张彤/注意力机制\n",
      "Linux w3q2ulc9.vm 5.15.0-60-generic #66-Ubuntu SMP Fri Jan 20 14:29:49 UTC 2023 x86_64 x86_64 x86_64 GNU/Linux\n",
      "Sat Oct 26 19:45:00 2024       \n",
      "+---------------------------------------------------------------------------------------+\n",
      "| NVIDIA-SMI 545.23.08              Driver Version: 545.23.08    CUDA Version: 12.3     |\n",
      "|-----------------------------------------+----------------------+----------------------+\n",
      "| GPU  Name                 Persistence-M | Bus-Id        Disp.A | Volatile Uncorr. ECC |\n",
      "| Fan  Temp   Perf          Pwr:Usage/Cap |         Memory-Usage | GPU-Util  Compute M. |\n",
      "|                                         |                      |               MIG M. |\n",
      "|=========================================+======================+======================|\n",
      "|   0  NVIDIA GeForce RTX 4090        On  | 00000000:09:00.0 Off |                  Off |\n",
      "|  0%   25C    P8              18W / 450W |   1698MiB / 24564MiB |      0%      Default |\n",
      "|                                         |                      |                  N/A |\n",
      "+-----------------------------------------+----------------------+----------------------+\n",
      "|   1  NVIDIA GeForce RTX 4090        On  | 00000000:0B:00.0 Off |                  Off |\n",
      "|  0%   26C    P8              12W / 450W |    394MiB / 24564MiB |      0%      Default |\n",
      "|                                         |                      |                  N/A |\n",
      "+-----------------------------------------+----------------------+----------------------+\n",
      "                                                                                         \n",
      "+---------------------------------------------------------------------------------------+\n",
      "| Processes:                                                                            |\n",
      "|  GPU   GI   CI        PID   Type   Process name                            GPU Memory |\n",
      "|        ID   ID                                                             Usage      |\n",
      "|=======================================================================================|\n",
      "|    0   N/A  N/A      1489      C   /root/anaconda3/bin/python                 1688MiB |\n",
      "|    1   N/A  N/A      1489      C   /root/anaconda3/bin/python                  384MiB |\n",
      "+---------------------------------------------------------------------------------------+\n"
     ]
    }
   ],
   "source": [
    "# System Information Print the Python version\n",
    "print(\"Python version: \", platform.python_version())\n",
    "print(\"TensorFlow version: \", tf.__version__)\n",
    "print(\"Current working directory: \", os.getcwd())\n",
    "!uname -a\n",
    "!nvidia-smi"
   ]
  },
  {
   "cell_type": "code",
   "execution_count": 4,
   "metadata": {
    "tags": []
   },
   "outputs": [],
   "source": [
    "# Hyperparameter Settings\n",
    "EPOCHS = 50\n",
    "IMAGE_SIZE = (224, 224)\n",
    "IMAGE_PATH = \"../data\"\n",
    "LEARNING_RATE = 1e-4\n",
    "BATCH_SIZE = 64"
   ]
  },
  {
   "cell_type": "code",
   "execution_count": 5,
   "metadata": {
    "tags": []
   },
   "outputs": [
    {
     "name": "stdout",
     "output_type": "stream",
     "text": [
      "Found 14080 files belonging to 100 classes.\n",
      "Using 11264 files for training.\n"
     ]
    },
    {
     "name": "stderr",
     "output_type": "stream",
     "text": [
      "2024-10-26 19:45:11.484080: I external/local_xla/xla/stream_executor/cuda/cuda_executor.cc:901] successful NUMA node read from SysFS had negative value (-1), but there must be at least one NUMA node, so returning NUMA node zero. See more at https://github.com/torvalds/linux/blob/v6.0/Documentation/ABI/testing/sysfs-bus-pci#L344-L355\n",
      "2024-10-26 19:45:11.484418: I external/local_xla/xla/stream_executor/cuda/cuda_executor.cc:901] successful NUMA node read from SysFS had negative value (-1), but there must be at least one NUMA node, so returning NUMA node zero. See more at https://github.com/torvalds/linux/blob/v6.0/Documentation/ABI/testing/sysfs-bus-pci#L344-L355\n",
      "2024-10-26 19:45:11.539137: I external/local_xla/xla/stream_executor/cuda/cuda_executor.cc:901] successful NUMA node read from SysFS had negative value (-1), but there must be at least one NUMA node, so returning NUMA node zero. See more at https://github.com/torvalds/linux/blob/v6.0/Documentation/ABI/testing/sysfs-bus-pci#L344-L355\n",
      "2024-10-26 19:45:11.539529: I external/local_xla/xla/stream_executor/cuda/cuda_executor.cc:901] successful NUMA node read from SysFS had negative value (-1), but there must be at least one NUMA node, so returning NUMA node zero. See more at https://github.com/torvalds/linux/blob/v6.0/Documentation/ABI/testing/sysfs-bus-pci#L344-L355\n",
      "2024-10-26 19:45:11.539777: I external/local_xla/xla/stream_executor/cuda/cuda_executor.cc:901] successful NUMA node read from SysFS had negative value (-1), but there must be at least one NUMA node, so returning NUMA node zero. See more at https://github.com/torvalds/linux/blob/v6.0/Documentation/ABI/testing/sysfs-bus-pci#L344-L355\n",
      "2024-10-26 19:45:11.540031: I external/local_xla/xla/stream_executor/cuda/cuda_executor.cc:901] successful NUMA node read from SysFS had negative value (-1), but there must be at least one NUMA node, so returning NUMA node zero. See more at https://github.com/torvalds/linux/blob/v6.0/Documentation/ABI/testing/sysfs-bus-pci#L344-L355\n",
      "2024-10-26 19:45:11.743441: I external/local_xla/xla/stream_executor/cuda/cuda_executor.cc:901] successful NUMA node read from SysFS had negative value (-1), but there must be at least one NUMA node, so returning NUMA node zero. See more at https://github.com/torvalds/linux/blob/v6.0/Documentation/ABI/testing/sysfs-bus-pci#L344-L355\n",
      "2024-10-26 19:45:11.743692: I external/local_xla/xla/stream_executor/cuda/cuda_executor.cc:901] successful NUMA node read from SysFS had negative value (-1), but there must be at least one NUMA node, so returning NUMA node zero. See more at https://github.com/torvalds/linux/blob/v6.0/Documentation/ABI/testing/sysfs-bus-pci#L344-L355\n",
      "2024-10-26 19:45:11.743910: I external/local_xla/xla/stream_executor/cuda/cuda_executor.cc:901] successful NUMA node read from SysFS had negative value (-1), but there must be at least one NUMA node, so returning NUMA node zero. See more at https://github.com/torvalds/linux/blob/v6.0/Documentation/ABI/testing/sysfs-bus-pci#L344-L355\n",
      "2024-10-26 19:45:11.744071: I external/local_xla/xla/stream_executor/cuda/cuda_executor.cc:901] successful NUMA node read from SysFS had negative value (-1), but there must be at least one NUMA node, so returning NUMA node zero. See more at https://github.com/torvalds/linux/blob/v6.0/Documentation/ABI/testing/sysfs-bus-pci#L344-L355\n",
      "2024-10-26 19:45:11.744223: I external/local_xla/xla/stream_executor/cuda/cuda_executor.cc:901] successful NUMA node read from SysFS had negative value (-1), but there must be at least one NUMA node, so returning NUMA node zero. See more at https://github.com/torvalds/linux/blob/v6.0/Documentation/ABI/testing/sysfs-bus-pci#L344-L355\n",
      "2024-10-26 19:45:11.744376: I external/local_xla/xla/stream_executor/cuda/cuda_executor.cc:901] successful NUMA node read from SysFS had negative value (-1), but there must be at least one NUMA node, so returning NUMA node zero. See more at https://github.com/torvalds/linux/blob/v6.0/Documentation/ABI/testing/sysfs-bus-pci#L344-L355\n",
      "2024-10-26 19:45:11.760705: I external/local_xla/xla/stream_executor/cuda/cuda_executor.cc:901] successful NUMA node read from SysFS had negative value (-1), but there must be at least one NUMA node, so returning NUMA node zero. See more at https://github.com/torvalds/linux/blob/v6.0/Documentation/ABI/testing/sysfs-bus-pci#L344-L355\n",
      "2024-10-26 19:45:11.760975: I external/local_xla/xla/stream_executor/cuda/cuda_executor.cc:901] successful NUMA node read from SysFS had negative value (-1), but there must be at least one NUMA node, so returning NUMA node zero. See more at https://github.com/torvalds/linux/blob/v6.0/Documentation/ABI/testing/sysfs-bus-pci#L344-L355\n",
      "2024-10-26 19:45:11.761155: I external/local_xla/xla/stream_executor/cuda/cuda_executor.cc:901] successful NUMA node read from SysFS had negative value (-1), but there must be at least one NUMA node, so returning NUMA node zero. See more at https://github.com/torvalds/linux/blob/v6.0/Documentation/ABI/testing/sysfs-bus-pci#L344-L355\n",
      "2024-10-26 19:45:11.761324: I external/local_xla/xla/stream_executor/cuda/cuda_executor.cc:901] successful NUMA node read from SysFS had negative value (-1), but there must be at least one NUMA node, so returning NUMA node zero. See more at https://github.com/torvalds/linux/blob/v6.0/Documentation/ABI/testing/sysfs-bus-pci#L344-L355\n",
      "2024-10-26 19:45:11.761494: I external/local_xla/xla/stream_executor/cuda/cuda_executor.cc:901] successful NUMA node read from SysFS had negative value (-1), but there must be at least one NUMA node, so returning NUMA node zero. See more at https://github.com/torvalds/linux/blob/v6.0/Documentation/ABI/testing/sysfs-bus-pci#L344-L355\n",
      "2024-10-26 19:45:11.761628: I tensorflow/core/common_runtime/gpu/gpu_device.cc:1929] Created device /job:localhost/replica:0/task:0/device:GPU:0 with 20595 MB memory:  -> device: 0, name: NVIDIA GeForce RTX 4090, pci bus id: 0000:09:00.0, compute capability: 8.9\n",
      "2024-10-26 19:45:11.762560: I external/local_xla/xla/stream_executor/cuda/cuda_executor.cc:901] successful NUMA node read from SysFS had negative value (-1), but there must be at least one NUMA node, so returning NUMA node zero. See more at https://github.com/torvalds/linux/blob/v6.0/Documentation/ABI/testing/sysfs-bus-pci#L344-L355\n",
      "2024-10-26 19:45:11.762754: I tensorflow/core/common_runtime/gpu/gpu_device.cc:1929] Created device /job:localhost/replica:0/task:0/device:GPU:1 with 21899 MB memory:  -> device: 1, name: NVIDIA GeForce RTX 4090, pci bus id: 0000:0b:00.0, compute capability: 8.9\n",
      "2024-10-26 19:45:12.319982: I external/local_tsl/tsl/platform/default/subprocess.cc:304] Start cannot spawn child process: No such file or directory\n"
     ]
    },
    {
     "name": "stdout",
     "output_type": "stream",
     "text": [
      "Found 14080 files belonging to 100 classes.\n",
      "Using 2816 files for validation.\n"
     ]
    }
   ],
   "source": [
    "# Load Dataset\n",
    "train_ds = tf.keras.utils.image_dataset_from_directory(\n",
    "    IMAGE_PATH,\n",
    "    validation_split=0.2,\n",
    "    subset=\"training\",    \n",
    "    seed=123,\n",
    "    image_size=IMAGE_SIZE,\n",
    "    batch_size=BATCH_SIZE\n",
    ")\n",
    "\n",
    "vaild_ds = tf.keras.utils.image_dataset_from_directory(\n",
    "    IMAGE_PATH,\n",
    "    validation_split=0.2,\n",
    "    subset=\"validation\",\n",
    "    seed=123,\n",
    "    image_size=IMAGE_SIZE,\n",
    "    batch_size=BATCH_SIZE\n",
    ")"
   ]
  },
  {
   "cell_type": "code",
   "execution_count": 6,
   "metadata": {
    "tags": []
   },
   "outputs": [],
   "source": [
    "# Image Normalization\n",
    "mean = [0.485, 0.456, 0.406]\n",
    "std = [0.229, 0.224, 0.225]\n",
    "\n",
    "def normalize_image(image):\n",
    "    return (image - mean_tensor) / std_tensor\n"
   ]
  },
  {
   "cell_type": "code",
   "execution_count": 7,
   "metadata": {
    "tags": []
   },
   "outputs": [],
   "source": [
    "# Data Augmentation\n",
    "train_image_augment = tf.keras.Sequential([\n",
    "    tf.keras.layers.Rescaling(1 / 255.0),\n",
    "    tf.keras.layers.RandomRotation(factor=0.2),\n",
    "    tf.keras.layers.RandomFlip(),\n",
    "])\n",
    "\n",
    "valid_image_augment = tf.keras.Sequential([\n",
    "    tf.keras.layers.Rescaling(1 / 255.0),\n",
    "])"
   ]
  },
  {
   "cell_type": "code",
   "execution_count": 8,
   "metadata": {
    "tags": []
   },
   "outputs": [],
   "source": [
    "# Input Processing\n",
    "def process_train_input(images, labels):\n",
    "    return train_image_augment(images), labels\n",
    "\n",
    "def process_valid_input(images, labels):\n",
    "    return valid_image_augment(images), labels\n"
   ]
  },
  {
   "cell_type": "code",
   "execution_count": 9,
   "metadata": {
    "tags": []
   },
   "outputs": [],
   "source": [
    "# Data Preprocessing\n",
    "def convert_types_and_encode(x, y):\n",
    "    y = tf.cast(y, tf.int32)  \n",
    "    y_one_hot = tf.one_hot(y, 100)  \n",
    "    return x, y_one_hot"
   ]
  },
  {
   "cell_type": "code",
   "execution_count": 10,
   "metadata": {
    "tags": []
   },
   "outputs": [],
   "source": [
    "# Apply Data Preprocessing\n",
    "train_ds = train_ds.map(convert_types_and_encode)\n",
    "train_ds = train_ds.map(process_train_input, num_parallel_calls=tf.data.AUTOTUNE)\n",
    "train_ds = train_ds.prefetch(tf.data.AUTOTUNE)\n",
    "\n",
    "vaild_ds = vaild_ds.map(convert_types_and_encode)\n",
    "vaild_ds = vaild_ds.map(process_valid_input, num_parallel_calls=tf.data.AUTOTUNE)\n",
    "vaild_ds = vaild_ds.prefetch(tf.data.AUTOTUNE)"
   ]
  },
  {
   "cell_type": "code",
   "execution_count": 11,
   "metadata": {
    "tags": []
   },
   "outputs": [],
   "source": [
    "# Define the CA layer\n",
    "def ca_layer(input_tensor, reduction=16):\n",
    "    # Channel average pooling\n",
    "    avg_pool = GlobalAveragePooling2D()(input_tensor)\n",
    "    # Return channel attention\n",
    "    dense = Dense(units=input_tensor.shape[-1] // reduction, activation='relu')(avg_pool)\n",
    "    dense = Dense(units=input_tensor.shape[-1], activation='sigmoid')(dense)\n",
    "\n",
    "    return Multiply()([input_tensor, dense])\n",
    "\n",
    "# Create MobileNet base model\n",
    "base_model = MobileNet(input_shape=(224, 224, 3), include_top=False, weights='imagenet')\n",
    "\n",
    "# Get the output of the last layer of the model\n",
    "feature_maps = base_model.output\n",
    "\n",
    "# Add CA attention layer\n",
    "ca_feature_maps = ca_layer(feature_maps)\n",
    "\n",
    "# Add global average pooling layer\n",
    "x = GlobalAveragePooling2D()(ca_feature_maps)\n",
    "\n",
    "# Add a fully connected layer\n",
    "x = Dense(1024, activation='relu')(x)\n",
    "outputs = Dense(100, activation='softmax')(x)\n",
    "\n",
    "# Create the final model\n",
    "model = tf.keras.Model(inputs=base_model.input, outputs=outputs)"
   ]
  },
  {
   "cell_type": "code",
   "execution_count": 16,
   "metadata": {
    "tags": []
   },
   "outputs": [],
   "source": [
    "# Compile Model\n",
    "optimizer = tf.keras.optimizers.Adam(learning_rate=LEARNING_RATE)\n",
    "loss_fn = tf.keras.losses.CategoricalCrossentropy()\n",
    "metrics = [\n",
    "    tf.keras.metrics.CategoricalAccuracy(),\n",
    "    tf.keras.metrics.Precision(),\n",
    "    tf.keras.metrics.Recall(),\n",
    "]\n",
    "\n",
    "model.compile(optimizer=optimizer, loss=loss_fn, metrics=metrics)"
   ]
  },
  {
   "cell_type": "code",
   "execution_count": 17,
   "metadata": {
    "tags": []
   },
   "outputs": [
    {
     "name": "stdout",
     "output_type": "stream",
     "text": [
      "Epoch 1/50\n",
      "176/176 [==============================] - 29s 76ms/step - loss: 0.8033 - categorical_accuracy: 0.7793 - precision_1: 0.9043 - recall_1: 0.6603 - val_loss: 0.7698 - val_categorical_accuracy: 0.7834 - val_precision_1: 0.8982 - val_recall_1: 0.6768 - lr: 1.0000e-04\n",
      "Epoch 2/50\n",
      "176/176 [==============================] - 13s 71ms/step - loss: 0.5040 - categorical_accuracy: 0.8619 - precision_1: 0.9314 - recall_1: 0.7908 - val_loss: 0.6431 - val_categorical_accuracy: 0.8100 - val_precision_1: 0.8896 - val_recall_1: 0.7415 - lr: 1.0000e-04\n",
      "Epoch 3/50\n",
      "176/176 [==============================] - 13s 69ms/step - loss: 0.3718 - categorical_accuracy: 0.8976 - precision_1: 0.9436 - recall_1: 0.8508 - val_loss: 0.5342 - val_categorical_accuracy: 0.8462 - val_precision_1: 0.9101 - val_recall_1: 0.7905 - lr: 1.0000e-04\n",
      "Epoch 4/50\n",
      "176/176 [==============================] - 13s 70ms/step - loss: 0.2831 - categorical_accuracy: 0.9189 - precision_1: 0.9517 - recall_1: 0.8825 - val_loss: 0.5303 - val_categorical_accuracy: 0.8416 - val_precision_1: 0.8904 - val_recall_1: 0.8018 - lr: 1.0000e-04\n",
      "Epoch 5/50\n",
      "176/176 [==============================] - 13s 71ms/step - loss: 0.2164 - categorical_accuracy: 0.9378 - precision_1: 0.9600 - recall_1: 0.9100 - val_loss: 0.5031 - val_categorical_accuracy: 0.8516 - val_precision_1: 0.8934 - val_recall_1: 0.8217 - lr: 1.0000e-04\n",
      "Epoch 6/50\n",
      "176/176 [==============================] - 13s 70ms/step - loss: 0.1708 - categorical_accuracy: 0.9516 - precision_1: 0.9689 - recall_1: 0.9321 - val_loss: 0.4598 - val_categorical_accuracy: 0.8615 - val_precision_1: 0.8990 - val_recall_1: 0.8349 - lr: 1.0000e-04\n",
      "Epoch 7/50\n",
      "176/176 [==============================] - 13s 70ms/step - loss: 0.1381 - categorical_accuracy: 0.9613 - precision_1: 0.9741 - recall_1: 0.9466 - val_loss: 0.4661 - val_categorical_accuracy: 0.8622 - val_precision_1: 0.9032 - val_recall_1: 0.8413 - lr: 1.0000e-04\n",
      "Epoch 8/50\n",
      "176/176 [==============================] - 13s 69ms/step - loss: 0.1144 - categorical_accuracy: 0.9671 - precision_1: 0.9763 - recall_1: 0.9549 - val_loss: 0.4288 - val_categorical_accuracy: 0.8778 - val_precision_1: 0.9054 - val_recall_1: 0.8565 - lr: 1.0000e-04\n",
      "Epoch 9/50\n",
      "176/176 [==============================] - 13s 69ms/step - loss: 0.0968 - categorical_accuracy: 0.9730 - precision_1: 0.9801 - recall_1: 0.9642 - val_loss: 0.3978 - val_categorical_accuracy: 0.8881 - val_precision_1: 0.9167 - val_recall_1: 0.8711 - lr: 1.0000e-04\n",
      "Epoch 10/50\n",
      "176/176 [==============================] - 13s 71ms/step - loss: 0.0803 - categorical_accuracy: 0.9793 - precision_1: 0.9831 - recall_1: 0.9705 - val_loss: 0.3783 - val_categorical_accuracy: 0.8970 - val_precision_1: 0.9213 - val_recall_1: 0.8775 - lr: 1.0000e-04\n",
      "Epoch 11/50\n",
      "176/176 [==============================] - 13s 69ms/step - loss: 0.0721 - categorical_accuracy: 0.9804 - precision_1: 0.9842 - recall_1: 0.9751 - val_loss: 0.4175 - val_categorical_accuracy: 0.8817 - val_precision_1: 0.9093 - val_recall_1: 0.8580 - lr: 1.0000e-04\n",
      "Epoch 12/50\n",
      "176/176 [==============================] - 13s 70ms/step - loss: 0.0671 - categorical_accuracy: 0.9822 - precision_1: 0.9851 - recall_1: 0.9776 - val_loss: 0.3996 - val_categorical_accuracy: 0.8942 - val_precision_1: 0.9232 - val_recall_1: 0.8757 - lr: 1.0000e-04\n",
      "Epoch 13/50\n",
      "176/176 [==============================] - 13s 71ms/step - loss: 0.0427 - categorical_accuracy: 0.9885 - precision_1: 0.9905 - recall_1: 0.9868 - val_loss: 0.3577 - val_categorical_accuracy: 0.9070 - val_precision_1: 0.9247 - val_recall_1: 0.8896 - lr: 5.0000e-05\n",
      "Epoch 14/50\n",
      "176/176 [==============================] - 13s 71ms/step - loss: 0.0351 - categorical_accuracy: 0.9917 - precision_1: 0.9925 - recall_1: 0.9902 - val_loss: 0.3447 - val_categorical_accuracy: 0.9084 - val_precision_1: 0.9272 - val_recall_1: 0.8956 - lr: 5.0000e-05\n",
      "Epoch 15/50\n",
      "176/176 [==============================] - 13s 71ms/step - loss: 0.0348 - categorical_accuracy: 0.9907 - precision_1: 0.9915 - recall_1: 0.9893 - val_loss: 0.3551 - val_categorical_accuracy: 0.9020 - val_precision_1: 0.9193 - val_recall_1: 0.8903 - lr: 5.0000e-05\n",
      "Epoch 16/50\n",
      "176/176 [==============================] - 13s 70ms/step - loss: 0.0309 - categorical_accuracy: 0.9922 - precision_1: 0.9924 - recall_1: 0.9906 - val_loss: 0.3508 - val_categorical_accuracy: 0.9041 - val_precision_1: 0.9203 - val_recall_1: 0.8938 - lr: 5.0000e-05\n",
      "Epoch 17/50\n",
      "176/176 [==============================] - 13s 72ms/step - loss: 0.0268 - categorical_accuracy: 0.9928 - precision_1: 0.9935 - recall_1: 0.9923 - val_loss: 0.3333 - val_categorical_accuracy: 0.9102 - val_precision_1: 0.9296 - val_recall_1: 0.8999 - lr: 2.5000e-05\n",
      "Epoch 18/50\n",
      "176/176 [==============================] - 13s 71ms/step - loss: 0.0224 - categorical_accuracy: 0.9940 - precision_1: 0.9946 - recall_1: 0.9935 - val_loss: 0.3359 - val_categorical_accuracy: 0.9059 - val_precision_1: 0.9260 - val_recall_1: 0.8970 - lr: 2.5000e-05\n",
      "Epoch 19/50\n",
      "176/176 [==============================] - 13s 71ms/step - loss: 0.0212 - categorical_accuracy: 0.9950 - precision_1: 0.9953 - recall_1: 0.9940 - val_loss: 0.3379 - val_categorical_accuracy: 0.9119 - val_precision_1: 0.9270 - val_recall_1: 0.8974 - lr: 2.5000e-05\n",
      "Epoch 20/50\n",
      "176/176 [==============================] - 13s 72ms/step - loss: 0.0225 - categorical_accuracy: 0.9936 - precision_1: 0.9940 - recall_1: 0.9929 - val_loss: 0.3405 - val_categorical_accuracy: 0.9094 - val_precision_1: 0.9272 - val_recall_1: 0.8952 - lr: 2.5000e-05\n",
      "Epoch 21/50\n",
      "176/176 [==============================] - 13s 71ms/step - loss: 0.0224 - categorical_accuracy: 0.9934 - precision_1: 0.9936 - recall_1: 0.9928 - val_loss: 0.3354 - val_categorical_accuracy: 0.9094 - val_precision_1: 0.9268 - val_recall_1: 0.8995 - lr: 2.5000e-05\n",
      "Epoch 22/50\n",
      "176/176 [==============================] - 13s 73ms/step - loss: 0.0189 - categorical_accuracy: 0.9949 - precision_1: 0.9950 - recall_1: 0.9949 - val_loss: 0.3282 - val_categorical_accuracy: 0.9144 - val_precision_1: 0.9321 - val_recall_1: 0.9013 - lr: 1.2500e-05\n",
      "Epoch 23/50\n",
      "176/176 [==============================] - 13s 71ms/step - loss: 0.0191 - categorical_accuracy: 0.9940 - precision_1: 0.9943 - recall_1: 0.9938 - val_loss: 0.3357 - val_categorical_accuracy: 0.9077 - val_precision_1: 0.9247 - val_recall_1: 0.8984 - lr: 1.2500e-05\n",
      "Epoch 24/50\n",
      "176/176 [==============================] - 13s 72ms/step - loss: 0.0185 - categorical_accuracy: 0.9941 - precision_1: 0.9945 - recall_1: 0.9936 - val_loss: 0.3310 - val_categorical_accuracy: 0.9134 - val_precision_1: 0.9295 - val_recall_1: 0.9031 - lr: 1.2500e-05\n",
      "Epoch 25/50\n",
      "176/176 [==============================] - 13s 72ms/step - loss: 0.0178 - categorical_accuracy: 0.9953 - precision_1: 0.9955 - recall_1: 0.9949 - val_loss: 0.3320 - val_categorical_accuracy: 0.9119 - val_precision_1: 0.9287 - val_recall_1: 0.9016 - lr: 6.2500e-06\n",
      "Epoch 26/50\n",
      "176/176 [==============================] - 13s 72ms/step - loss: 0.0164 - categorical_accuracy: 0.9950 - precision_1: 0.9954 - recall_1: 0.9948 - val_loss: 0.3334 - val_categorical_accuracy: 0.9116 - val_precision_1: 0.9271 - val_recall_1: 0.8991 - lr: 6.2500e-06\n",
      "Epoch 27/50\n",
      "176/176 [==============================] - 13s 72ms/step - loss: 0.0160 - categorical_accuracy: 0.9960 - precision_1: 0.9961 - recall_1: 0.9958 - val_loss: 0.3309 - val_categorical_accuracy: 0.9119 - val_precision_1: 0.9286 - val_recall_1: 0.9002 - lr: 3.1250e-06\n",
      "Epoch 28/50\n",
      "176/176 [==============================] - 13s 72ms/step - loss: 0.0155 - categorical_accuracy: 0.9958 - precision_1: 0.9959 - recall_1: 0.9957 - val_loss: 0.3275 - val_categorical_accuracy: 0.9112 - val_precision_1: 0.9276 - val_recall_1: 0.9013 - lr: 3.1250e-06\n",
      "Epoch 29/50\n",
      "176/176 [==============================] - 13s 72ms/step - loss: 0.0153 - categorical_accuracy: 0.9960 - precision_1: 0.9963 - recall_1: 0.9956 - val_loss: 0.3276 - val_categorical_accuracy: 0.9126 - val_precision_1: 0.9277 - val_recall_1: 0.9016 - lr: 1.5625e-06\n",
      "Epoch 30/50\n",
      "176/176 [==============================] - 13s 71ms/step - loss: 0.0162 - categorical_accuracy: 0.9952 - precision_1: 0.9957 - recall_1: 0.9949 - val_loss: 0.3270 - val_categorical_accuracy: 0.9126 - val_precision_1: 0.9283 - val_recall_1: 0.9009 - lr: 1.5625e-06\n",
      "Epoch 31/50\n",
      "176/176 [==============================] - 13s 70ms/step - loss: 0.0160 - categorical_accuracy: 0.9958 - precision_1: 0.9958 - recall_1: 0.9953 - val_loss: 0.3276 - val_categorical_accuracy: 0.9116 - val_precision_1: 0.9280 - val_recall_1: 0.9013 - lr: 7.8125e-07\n",
      "Epoch 32/50\n",
      "176/176 [==============================] - 13s 71ms/step - loss: 0.0154 - categorical_accuracy: 0.9956 - precision_1: 0.9958 - recall_1: 0.9954 - val_loss: 0.3277 - val_categorical_accuracy: 0.9116 - val_precision_1: 0.9279 - val_recall_1: 0.9009 - lr: 7.8125e-07\n",
      "Epoch 33/50\n",
      "176/176 [==============================] - 13s 71ms/step - loss: 0.0150 - categorical_accuracy: 0.9958 - precision_1: 0.9960 - recall_1: 0.9956 - val_loss: 0.3279 - val_categorical_accuracy: 0.9123 - val_precision_1: 0.9277 - val_recall_1: 0.9020 - lr: 3.9062e-07\n",
      "Epoch 34/50\n",
      "176/176 [==============================] - 13s 71ms/step - loss: 0.0155 - categorical_accuracy: 0.9963 - precision_1: 0.9964 - recall_1: 0.9960 - val_loss: 0.3274 - val_categorical_accuracy: 0.9116 - val_precision_1: 0.9273 - val_recall_1: 0.9020 - lr: 3.9062e-07\n",
      "Epoch 35/50\n",
      "176/176 [==============================] - 13s 71ms/step - loss: 0.0149 - categorical_accuracy: 0.9961 - precision_1: 0.9963 - recall_1: 0.9957 - val_loss: 0.3275 - val_categorical_accuracy: 0.9119 - val_precision_1: 0.9273 - val_recall_1: 0.9020 - lr: 1.9531e-07\n",
      "Epoch 36/50\n",
      "176/176 [==============================] - 13s 71ms/step - loss: 0.0157 - categorical_accuracy: 0.9957 - precision_1: 0.9962 - recall_1: 0.9955 - val_loss: 0.3271 - val_categorical_accuracy: 0.9123 - val_precision_1: 0.9280 - val_recall_1: 0.9020 - lr: 1.9531e-07\n",
      "Epoch 37/50\n",
      "176/176 [==============================] - 13s 71ms/step - loss: 0.0156 - categorical_accuracy: 0.9959 - precision_1: 0.9961 - recall_1: 0.9954 - val_loss: 0.3269 - val_categorical_accuracy: 0.9123 - val_precision_1: 0.9277 - val_recall_1: 0.9023 - lr: 9.7656e-08\n",
      "Epoch 38/50\n",
      "176/176 [==============================] - 13s 71ms/step - loss: 0.0156 - categorical_accuracy: 0.9956 - precision_1: 0.9956 - recall_1: 0.9953 - val_loss: 0.3269 - val_categorical_accuracy: 0.9123 - val_precision_1: 0.9277 - val_recall_1: 0.9023 - lr: 9.7656e-08\n",
      "Epoch 39/50\n",
      "176/176 [==============================] - 13s 71ms/step - loss: 0.0162 - categorical_accuracy: 0.9952 - precision_1: 0.9954 - recall_1: 0.9949 - val_loss: 0.3272 - val_categorical_accuracy: 0.9126 - val_precision_1: 0.9277 - val_recall_1: 0.9020 - lr: 4.8828e-08\n",
      "Epoch 40/50\n",
      "176/176 [==============================] - 13s 71ms/step - loss: 0.0149 - categorical_accuracy: 0.9960 - precision_1: 0.9961 - recall_1: 0.9959 - val_loss: 0.3274 - val_categorical_accuracy: 0.9119 - val_precision_1: 0.9277 - val_recall_1: 0.9016 - lr: 4.8828e-08\n",
      "Epoch 41/50\n",
      "176/176 [==============================] - 13s 72ms/step - loss: 0.0157 - categorical_accuracy: 0.9953 - precision_1: 0.9953 - recall_1: 0.9949 - val_loss: 0.3273 - val_categorical_accuracy: 0.9123 - val_precision_1: 0.9277 - val_recall_1: 0.9023 - lr: 2.4414e-08\n",
      "Epoch 42/50\n",
      "176/176 [==============================] - 13s 71ms/step - loss: 0.0162 - categorical_accuracy: 0.9953 - precision_1: 0.9956 - recall_1: 0.9953 - val_loss: 0.3265 - val_categorical_accuracy: 0.9126 - val_precision_1: 0.9287 - val_recall_1: 0.9023 - lr: 2.4414e-08\n",
      "Epoch 43/50\n",
      "176/176 [==============================] - 13s 72ms/step - loss: 0.0163 - categorical_accuracy: 0.9955 - precision_1: 0.9958 - recall_1: 0.9952 - val_loss: 0.3271 - val_categorical_accuracy: 0.9119 - val_precision_1: 0.9277 - val_recall_1: 0.9023 - lr: 1.2207e-08\n",
      "Epoch 44/50\n",
      "176/176 [==============================] - 13s 71ms/step - loss: 0.0162 - categorical_accuracy: 0.9954 - precision_1: 0.9956 - recall_1: 0.9952 - val_loss: 0.3269 - val_categorical_accuracy: 0.9119 - val_precision_1: 0.9280 - val_recall_1: 0.9020 - lr: 1.2207e-08\n",
      "Epoch 45/50\n",
      "176/176 [==============================] - 13s 72ms/step - loss: 0.0156 - categorical_accuracy: 0.9960 - precision_1: 0.9961 - recall_1: 0.9956 - val_loss: 0.3272 - val_categorical_accuracy: 0.9126 - val_precision_1: 0.9277 - val_recall_1: 0.9023 - lr: 1.0000e-08\n",
      "Epoch 46/50\n",
      "176/176 [==============================] - 13s 72ms/step - loss: 0.0163 - categorical_accuracy: 0.9951 - precision_1: 0.9956 - recall_1: 0.9949 - val_loss: 0.3269 - val_categorical_accuracy: 0.9126 - val_precision_1: 0.9273 - val_recall_1: 0.9020 - lr: 1.0000e-08\n",
      "Epoch 47/50\n",
      "176/176 [==============================] - 13s 72ms/step - loss: 0.0156 - categorical_accuracy: 0.9961 - precision_1: 0.9962 - recall_1: 0.9961 - val_loss: 0.3270 - val_categorical_accuracy: 0.9130 - val_precision_1: 0.9281 - val_recall_1: 0.9027 - lr: 1.0000e-08\n",
      "Epoch 48/50\n",
      "176/176 [==============================] - 13s 72ms/step - loss: 0.0164 - categorical_accuracy: 0.9946 - precision_1: 0.9947 - recall_1: 0.9941 - val_loss: 0.3268 - val_categorical_accuracy: 0.9123 - val_precision_1: 0.9280 - val_recall_1: 0.9023 - lr: 1.0000e-08\n",
      "Epoch 49/50\n",
      "176/176 [==============================] - 13s 71ms/step - loss: 0.0147 - categorical_accuracy: 0.9963 - precision_1: 0.9964 - recall_1: 0.9961 - val_loss: 0.3270 - val_categorical_accuracy: 0.9126 - val_precision_1: 0.9290 - val_recall_1: 0.9020 - lr: 1.0000e-08\n",
      "Epoch 50/50\n",
      "176/176 [==============================] - 13s 72ms/step - loss: 0.0161 - categorical_accuracy: 0.9950 - precision_1: 0.9953 - recall_1: 0.9948 - val_loss: 0.3267 - val_categorical_accuracy: 0.9130 - val_precision_1: 0.9284 - val_recall_1: 0.9020 - lr: 1.0000e-08\n"
     ]
    }
   ],
   "source": [
    "# Train Model\n",
    "log_dir = \"../Running result/CA/CA\"\n",
    "tensorboard_callback = tf.keras.callbacks.TensorBoard(log_dir=log_dir, histogram_freq=1)\n",
    "lr_scheduler = tf.keras.callbacks.ReduceLROnPlateau(monitor='val_categorical_accuracy', factor=0.5, patience=2, min_lr=1e-8)\n",
    "\n",
    "history = model.fit(train_ds, epochs=EPOCHS, validation_data=vaild_ds, callbacks=[lr_scheduler, tensorboard_callback])"
   ]
  },
  {
   "cell_type": "code",
   "execution_count": 18,
   "metadata": {
    "tags": []
   },
   "outputs": [
    {
     "name": "stdout",
     "output_type": "stream",
     "text": [
      "Training history saved to: ../Running result/CA/CA/CA.xlsx\n"
     ]
    },
    {
     "name": "stderr",
     "output_type": "stream",
     "text": [
      "/root/anaconda3/lib/python3.11/site-packages/keras/src/engine/training.py:3103: UserWarning: You are saving your model as an HDF5 file via `model.save()`. This file format is considered legacy. We recommend using instead the native Keras format, e.g. `model.save('my_model.keras')`.\n",
      "  saving_api.save_model(\n"
     ]
    },
    {
     "name": "stdout",
     "output_type": "stream",
     "text": [
      "Model saved to: ../Running result/CA/CA/CA.h5\n"
     ]
    }
   ],
   "source": [
    "import pandas as pd  # Import Pandas library\n",
    "import os\n",
    "\n",
    "# Define save paths\n",
    "model_dir = \"../Running result/CA/CA\"\n",
    "excel_file_path = os.path.join(model_dir, \"CA.xlsx\")  # Path to save the Excel file\n",
    "model_file_path = os.path.join(model_dir, \"CA.h5\")  # Path to save the model\n",
    "\n",
    "# Check if the save directory exists; if not, create it\n",
    "if not os.path.exists(model_dir):\n",
    "    os.makedirs(model_dir)\n",
    "\n",
    "# Save training history to an Excel file\n",
    "history_df = pd.DataFrame(history.history)  \n",
    "history_df.to_excel(excel_file_path, index=False)\n",
    "print(f\"Training history saved to: {excel_file_path}\")\n",
    "\n",
    "# Save the model to the specified path\n",
    "model.save(model_file_path)\n",
    "print(f\"Model saved to: {model_file_path}\")\n"
   ]
  }
 ],
 "metadata": {
  "accelerator": "GPU",
  "colab": {
   "provenance": []
  },
  "kernelspec": {
   "display_name": "Python 3 (ipykernel)",
   "language": "python",
   "name": "python3"
  },
  "language_info": {
   "codemirror_mode": {
    "name": "ipython",
    "version": 3
   },
   "file_extension": ".py",
   "mimetype": "text/x-python",
   "name": "python",
   "nbconvert_exporter": "python",
   "pygments_lexer": "ipython3",
   "version": "3.11.7"
  }
 },
 "nbformat": 4,
 "nbformat_minor": 4
}
