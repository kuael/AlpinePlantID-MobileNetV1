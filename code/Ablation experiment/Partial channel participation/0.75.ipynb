{
 "cells": [
  {
   "cell_type": "code",
   "execution_count": 1,
   "metadata": {
    "tags": []
   },
   "outputs": [],
   "source": [
    "import tensorflow as tf  \n",
    "import numpy as np       \n",
    "import pandas as pd       \n",
    "from matplotlib import pyplot as plt   \n",
    "import seaborn as sns  \n",
    "import time          \n",
    "from tensorflow.keras.callbacks import History, ReduceLROnPlateau, TensorBoard       \n",
    "from tensorflow.keras import metrics          \n",
    "from sklearn.metrics import confusion_matrix          \n",
    "import pickle\n",
    "from tensorflow.keras.applications import MobileNet\n",
    "from tensorflow.keras.layers import GlobalAveragePooling2D, Reshape, multiply, add, Dense, Conv2D, GlobalMaxPooling2D, Activation\n",
    "from tensorflow.keras import backend as K\n",
    "import platform\n",
    "import os\n",
    "from tensorflow.keras.layers import GlobalAveragePooling2D, Multiply, Dense\n",
    "from keras.layers import GlobalAveragePooling2D, Dense, Multiply\n",
    "import platform\n",
    "import os"
   ]
  },
  {
   "cell_type": "code",
   "execution_count": 2,
   "metadata": {
    "tags": []
   },
   "outputs": [],
   "source": [
    "# Display Settings\n",
    "pd.options.display.max_columns = None\n",
    "pd.options.display.max_rows = None\n",
    "sns.set()"
   ]
  },
  {
   "cell_type": "code",
   "execution_count": 3,
   "metadata": {
    "tags": []
   },
   "outputs": [
    {
     "name": "stdout",
     "output_type": "stream",
     "text": [
      "Python version:  3.11.7\n",
      "TensorFlow version:  2.15.0\n",
      "Current working directory:  /root/.jupyter/张彤/消融实验\n",
      "Linux w3q2ulc9.vm 5.15.0-60-generic #66-Ubuntu SMP Fri Jan 20 14:29:49 UTC 2023 x86_64 x86_64 x86_64 GNU/Linux\n",
      "Sun Oct 27 17:54:56 2024       \n",
      "+---------------------------------------------------------------------------------------+\n",
      "| NVIDIA-SMI 545.23.08              Driver Version: 545.23.08    CUDA Version: 12.3     |\n",
      "|-----------------------------------------+----------------------+----------------------+\n",
      "| GPU  Name                 Persistence-M | Bus-Id        Disp.A | Volatile Uncorr. ECC |\n",
      "| Fan  Temp   Perf          Pwr:Usage/Cap |         Memory-Usage | GPU-Util  Compute M. |\n",
      "|                                         |                      |               MIG M. |\n",
      "|=========================================+======================+======================|\n",
      "|   0  NVIDIA GeForce RTX 4090        On  | 00000000:09:00.0 Off |                  Off |\n",
      "|  0%   25C    P8              11W / 450W |      3MiB / 24564MiB |      0%      Default |\n",
      "|                                         |                      |                  N/A |\n",
      "+-----------------------------------------+----------------------+----------------------+\n",
      "|   1  NVIDIA GeForce RTX 4090        On  | 00000000:0B:00.0 Off |                  Off |\n",
      "|  0%   27C    P8               3W / 450W |      3MiB / 24564MiB |      0%      Default |\n",
      "|                                         |                      |                  N/A |\n",
      "+-----------------------------------------+----------------------+----------------------+\n",
      "                                                                                         \n",
      "+---------------------------------------------------------------------------------------+\n",
      "| Processes:                                                                            |\n",
      "|  GPU   GI   CI        PID   Type   Process name                            GPU Memory |\n",
      "|        ID   ID                                                             Usage      |\n",
      "|=======================================================================================|\n",
      "|  No running processes found                                                           |\n",
      "+---------------------------------------------------------------------------------------+\n"
     ]
    }
   ],
   "source": [
    "# System Information Print the Python version\n",
    "print(\"Python version: \", platform.python_version())\n",
    "print(\"TensorFlow version: \", tf.__version__)\n",
    "print(\"Current working directory: \", os.getcwd())\n",
    "!uname -a\n",
    "!nvidia-smi"
   ]
  },
  {
   "cell_type": "code",
   "execution_count": 4,
   "metadata": {
    "tags": []
   },
   "outputs": [],
   "source": [
    "# Hyperparameter Settings\n",
    "EPOCHS = 50\n",
    "IMAGE_SIZE = (224, 224)\n",
    "IMAGE_PATH = \"../data\"\n",
    "LEARNING_RATE = 1e-4\n",
    "BATCH_SIZE = 64"
   ]
  },
  {
   "cell_type": "code",
   "execution_count": 5,
   "metadata": {
    "tags": []
   },
   "outputs": [
    {
     "name": "stdout",
     "output_type": "stream",
     "text": [
      "Found 14080 files belonging to 100 classes.\n",
      "Using 11264 files for training.\n"
     ]
    },
    {
     "name": "stderr",
     "output_type": "stream",
     "text": [
      "2024-10-27 17:54:59.057421: I external/local_xla/xla/stream_executor/cuda/cuda_executor.cc:901] successful NUMA node read from SysFS had negative value (-1), but there must be at least one NUMA node, so returning NUMA node zero. See more at https://github.com/torvalds/linux/blob/v6.0/Documentation/ABI/testing/sysfs-bus-pci#L344-L355\n",
      "2024-10-27 17:54:59.057839: I external/local_xla/xla/stream_executor/cuda/cuda_executor.cc:901] successful NUMA node read from SysFS had negative value (-1), but there must be at least one NUMA node, so returning NUMA node zero. See more at https://github.com/torvalds/linux/blob/v6.0/Documentation/ABI/testing/sysfs-bus-pci#L344-L355\n",
      "2024-10-27 17:54:59.175349: I external/local_xla/xla/stream_executor/cuda/cuda_executor.cc:901] successful NUMA node read from SysFS had negative value (-1), but there must be at least one NUMA node, so returning NUMA node zero. See more at https://github.com/torvalds/linux/blob/v6.0/Documentation/ABI/testing/sysfs-bus-pci#L344-L355\n",
      "2024-10-27 17:54:59.175627: I external/local_xla/xla/stream_executor/cuda/cuda_executor.cc:901] successful NUMA node read from SysFS had negative value (-1), but there must be at least one NUMA node, so returning NUMA node zero. See more at https://github.com/torvalds/linux/blob/v6.0/Documentation/ABI/testing/sysfs-bus-pci#L344-L355\n",
      "2024-10-27 17:54:59.175777: I external/local_xla/xla/stream_executor/cuda/cuda_executor.cc:901] successful NUMA node read from SysFS had negative value (-1), but there must be at least one NUMA node, so returning NUMA node zero. See more at https://github.com/torvalds/linux/blob/v6.0/Documentation/ABI/testing/sysfs-bus-pci#L344-L355\n",
      "2024-10-27 17:54:59.175912: I external/local_xla/xla/stream_executor/cuda/cuda_executor.cc:901] successful NUMA node read from SysFS had negative value (-1), but there must be at least one NUMA node, so returning NUMA node zero. See more at https://github.com/torvalds/linux/blob/v6.0/Documentation/ABI/testing/sysfs-bus-pci#L344-L355\n",
      "2024-10-27 17:54:59.342825: I external/local_xla/xla/stream_executor/cuda/cuda_executor.cc:901] successful NUMA node read from SysFS had negative value (-1), but there must be at least one NUMA node, so returning NUMA node zero. See more at https://github.com/torvalds/linux/blob/v6.0/Documentation/ABI/testing/sysfs-bus-pci#L344-L355\n",
      "2024-10-27 17:54:59.343057: I external/local_xla/xla/stream_executor/cuda/cuda_executor.cc:901] successful NUMA node read from SysFS had negative value (-1), but there must be at least one NUMA node, so returning NUMA node zero. See more at https://github.com/torvalds/linux/blob/v6.0/Documentation/ABI/testing/sysfs-bus-pci#L344-L355\n",
      "2024-10-27 17:54:59.343202: I external/local_xla/xla/stream_executor/cuda/cuda_executor.cc:901] successful NUMA node read from SysFS had negative value (-1), but there must be at least one NUMA node, so returning NUMA node zero. See more at https://github.com/torvalds/linux/blob/v6.0/Documentation/ABI/testing/sysfs-bus-pci#L344-L355\n",
      "2024-10-27 17:54:59.343329: I external/local_xla/xla/stream_executor/cuda/cuda_executor.cc:901] successful NUMA node read from SysFS had negative value (-1), but there must be at least one NUMA node, so returning NUMA node zero. See more at https://github.com/torvalds/linux/blob/v6.0/Documentation/ABI/testing/sysfs-bus-pci#L344-L355\n",
      "2024-10-27 17:54:59.343454: I external/local_xla/xla/stream_executor/cuda/cuda_executor.cc:901] successful NUMA node read from SysFS had negative value (-1), but there must be at least one NUMA node, so returning NUMA node zero. See more at https://github.com/torvalds/linux/blob/v6.0/Documentation/ABI/testing/sysfs-bus-pci#L344-L355\n",
      "2024-10-27 17:54:59.343582: I external/local_xla/xla/stream_executor/cuda/cuda_executor.cc:901] successful NUMA node read from SysFS had negative value (-1), but there must be at least one NUMA node, so returning NUMA node zero. See more at https://github.com/torvalds/linux/blob/v6.0/Documentation/ABI/testing/sysfs-bus-pci#L344-L355\n",
      "2024-10-27 17:54:59.357895: I external/local_xla/xla/stream_executor/cuda/cuda_executor.cc:901] successful NUMA node read from SysFS had negative value (-1), but there must be at least one NUMA node, so returning NUMA node zero. See more at https://github.com/torvalds/linux/blob/v6.0/Documentation/ABI/testing/sysfs-bus-pci#L344-L355\n",
      "2024-10-27 17:54:59.358133: I external/local_xla/xla/stream_executor/cuda/cuda_executor.cc:901] successful NUMA node read from SysFS had negative value (-1), but there must be at least one NUMA node, so returning NUMA node zero. See more at https://github.com/torvalds/linux/blob/v6.0/Documentation/ABI/testing/sysfs-bus-pci#L344-L355\n",
      "2024-10-27 17:54:59.358289: I external/local_xla/xla/stream_executor/cuda/cuda_executor.cc:901] successful NUMA node read from SysFS had negative value (-1), but there must be at least one NUMA node, so returning NUMA node zero. See more at https://github.com/torvalds/linux/blob/v6.0/Documentation/ABI/testing/sysfs-bus-pci#L344-L355\n",
      "2024-10-27 17:54:59.358431: I external/local_xla/xla/stream_executor/cuda/cuda_executor.cc:901] successful NUMA node read from SysFS had negative value (-1), but there must be at least one NUMA node, so returning NUMA node zero. See more at https://github.com/torvalds/linux/blob/v6.0/Documentation/ABI/testing/sysfs-bus-pci#L344-L355\n",
      "2024-10-27 17:54:59.358572: I external/local_xla/xla/stream_executor/cuda/cuda_executor.cc:901] successful NUMA node read from SysFS had negative value (-1), but there must be at least one NUMA node, so returning NUMA node zero. See more at https://github.com/torvalds/linux/blob/v6.0/Documentation/ABI/testing/sysfs-bus-pci#L344-L355\n",
      "2024-10-27 17:54:59.358687: I tensorflow/core/common_runtime/gpu/gpu_device.cc:1929] Created device /job:localhost/replica:0/task:0/device:GPU:0 with 22287 MB memory:  -> device: 0, name: NVIDIA GeForce RTX 4090, pci bus id: 0000:09:00.0, compute capability: 8.9\n",
      "2024-10-27 17:54:59.359411: I external/local_xla/xla/stream_executor/cuda/cuda_executor.cc:901] successful NUMA node read from SysFS had negative value (-1), but there must be at least one NUMA node, so returning NUMA node zero. See more at https://github.com/torvalds/linux/blob/v6.0/Documentation/ABI/testing/sysfs-bus-pci#L344-L355\n",
      "2024-10-27 17:54:59.359558: I tensorflow/core/common_runtime/gpu/gpu_device.cc:1929] Created device /job:localhost/replica:0/task:0/device:GPU:1 with 22287 MB memory:  -> device: 1, name: NVIDIA GeForce RTX 4090, pci bus id: 0000:0b:00.0, compute capability: 8.9\n",
      "2024-10-27 17:54:59.949421: I external/local_tsl/tsl/platform/default/subprocess.cc:304] Start cannot spawn child process: No such file or directory\n"
     ]
    },
    {
     "name": "stdout",
     "output_type": "stream",
     "text": [
      "Found 14080 files belonging to 100 classes.\n",
      "Using 2816 files for validation.\n"
     ]
    }
   ],
   "source": [
    "# Load Dataset\n",
    "train_ds = tf.keras.utils.image_dataset_from_directory(\n",
    "    IMAGE_PATH,\n",
    "    validation_split=0.2,\n",
    "    subset=\"training\",    \n",
    "    seed=123,\n",
    "    image_size=IMAGE_SIZE,\n",
    "    batch_size=BATCH_SIZE\n",
    ")\n",
    "\n",
    "vaild_ds = tf.keras.utils.image_dataset_from_directory(\n",
    "    IMAGE_PATH,\n",
    "    validation_split=0.2,\n",
    "    subset=\"validation\",\n",
    "    seed=123,\n",
    "    image_size=IMAGE_SIZE,\n",
    "    batch_size=BATCH_SIZE\n",
    ")"
   ]
  },
  {
   "cell_type": "code",
   "execution_count": 6,
   "metadata": {
    "tags": []
   },
   "outputs": [],
   "source": [
    "# Image Normalization\n",
    "mean = [0.485, 0.456, 0.406]\n",
    "std = [0.229, 0.224, 0.225]\n",
    "\n",
    "def normalize_image(image):\n",
    "    return (image - mean_tensor) / std_tensor\n"
   ]
  },
  {
   "cell_type": "code",
   "execution_count": 7,
   "metadata": {
    "tags": []
   },
   "outputs": [],
   "source": [
    "# Data Augmentation\n",
    "train_image_augment = tf.keras.Sequential([\n",
    "    tf.keras.layers.Rescaling(1 / 255.0),\n",
    "    tf.keras.layers.RandomRotation(factor=0.2),\n",
    "    tf.keras.layers.RandomFlip(),\n",
    "])\n",
    "\n",
    "valid_image_augment = tf.keras.Sequential([\n",
    "    tf.keras.layers.Rescaling(1 / 255.0),\n",
    "])"
   ]
  },
  {
   "cell_type": "code",
   "execution_count": 8,
   "metadata": {
    "tags": []
   },
   "outputs": [],
   "source": [
    "# Input Processing\n",
    "def process_train_input(images, labels):\n",
    "    return train_image_augment(images), labels\n",
    "\n",
    "def process_valid_input(images, labels):\n",
    "    return valid_image_augment(images), labels\n"
   ]
  },
  {
   "cell_type": "code",
   "execution_count": 9,
   "metadata": {
    "tags": []
   },
   "outputs": [],
   "source": [
    "# Data Preprocessing\n",
    "def convert_types_and_encode(x, y):\n",
    "    y = tf.cast(y, tf.int32)  \n",
    "    y_one_hot = tf.one_hot(y, 100)  \n",
    "    return x, y_one_hot"
   ]
  },
  {
   "cell_type": "code",
   "execution_count": 10,
   "metadata": {
    "tags": []
   },
   "outputs": [],
   "source": [
    "# Apply Data Preprocessing\n",
    "train_ds = train_ds.map(convert_types_and_encode)\n",
    "train_ds = train_ds.map(process_train_input, num_parallel_calls=tf.data.AUTOTUNE)\n",
    "train_ds = train_ds.prefetch(tf.data.AUTOTUNE)\n",
    "\n",
    "vaild_ds = vaild_ds.map(convert_types_and_encode)\n",
    "vaild_ds = vaild_ds.map(process_valid_input, num_parallel_calls=tf.data.AUTOTUNE)\n",
    "vaild_ds = vaild_ds.prefetch(tf.data.AUTOTUNE)"
   ]
  },
  {
   "cell_type": "code",
   "execution_count": 11,
   "metadata": {
    "tags": []
   },
   "outputs": [],
   "source": [
    "import tensorflow as tf\n",
    "from tensorflow.keras.layers import Conv2D, GlobalAveragePooling2D, Multiply, Dense\n",
    "import tensorflow.keras.backend as K\n",
    "\n",
    "# Define the modified ECA layer, which now supports partial channel selection\n",
    "def eca_layer(input_tensor, k_size=3, partial_ratio=0.75):\n",
    "    \"\"\"Efficient Channel Attention (ECA) for a portion of the channels.\n",
    "    \n",
    "    Args:\n",
    "        input_tensor: The input feature map (batch_size, height, width, channels).\n",
    "        k_size: Kernel size for the 1D convolution used in ECA.\n",
    "        partial_ratio: Ratio of channels to apply ECA on. For example, 0.75 means applying ECA on 75% of the channels.\n",
    "    \n",
    "    Returns:\n",
    "        The output tensor after applying ECA on the selected channels.\n",
    "    \"\"\"\n",
    "    # Get the shape of the input tensor\n",
    "    channels = input_tensor.shape[-1]\n",
    "    \n",
    "    # Calculate the number of channels to apply ECA on\n",
    "    partial_channels = int(channels * partial_ratio)\n",
    "    \n",
    "    # Split the input tensor into two parts: the first part to apply ECA and the second part to leave unchanged\n",
    "    eca_part = input_tensor[:, :, :, :partial_channels]\n",
    "    non_eca_part = input_tensor[:, :, :, partial_channels:]\n",
    "    \n",
    "    # Apply global average pooling to the selected channels\n",
    "    avg_pool = tf.reduce_mean(eca_part, axis=[1, 2], keepdims=True)  # (batch_size, 1, 1, partial_channels)\n",
    "    \n",
    "    # Apply 1D convolution (as Conv2D with (k_size, 1) kernel) to capture cross-channel dependencies\n",
    "    conv = Conv2D(filters=partial_channels, kernel_size=(k_size, 1), padding='same', activation='sigmoid')(avg_pool)\n",
    "    \n",
    "    # Multiply the attention map with the input feature maps (only for the selected channels)\n",
    "    weighted_eca_part = Multiply()([eca_part, conv])  # (batch_size, height, width, partial_channels)\n",
    "    \n",
    "    # Concatenate the processed ECA part with the unchanged part\n",
    "    output = tf.concat([weighted_eca_part, non_eca_part], axis=-1)\n",
    "    \n",
    "    return output\n",
    "\n",
    "# Create MobileNet base model (or any other backbone)\n",
    "base_model = tf.keras.applications.MobileNet(input_shape=(224, 224, 3), include_top=False, weights='imagenet')\n",
    "feature_maps = base_model.output\n",
    "\n",
    "# Apply ECA to 75% of the channels\n",
    "eca_feature_maps = eca_layer(feature_maps, k_size=5, partial_ratio=0.75)\n",
    "\n",
    "# Add global average pooling\n",
    "x = GlobalAveragePooling2D()(eca_feature_maps)\n",
    "\n",
    "# Add fully connected layers\n",
    "x = Dense(1024, activation='relu')(x)\n",
    "outputs = Dense(100, activation='softmax')(x)  # Adjust the number of classes as needed\n",
    "\n",
    "# Create the final model\n",
    "model = tf.keras.Model(inputs=base_model.input, outputs=outputs)\n",
    "\n",
    "# Compile the model\n",
    "model.compile(optimizer='adam', loss='categorical_crossentropy', metrics=['accuracy'])\n"
   ]
  },
  {
   "cell_type": "code",
   "execution_count": 12,
   "metadata": {},
   "outputs": [],
   "source": [
    "# Compile Model\n",
    "optimizer = tf.keras.optimizers.Adam(learning_rate=LEARNING_RATE)\n",
    "loss_fn = tf.keras.losses.CategoricalCrossentropy()\n",
    "metrics = [\n",
    "    tf.keras.metrics.CategoricalAccuracy(),\n",
    "    tf.keras.metrics.Precision(),\n",
    "    tf.keras.metrics.Recall(),\n",
    "]\n",
    "\n",
    "model.compile(optimizer=optimizer, loss=loss_fn, metrics=metrics)"
   ]
  },
  {
   "cell_type": "code",
   "execution_count": 13,
   "metadata": {
    "tags": []
   },
   "outputs": [
    {
     "name": "stdout",
     "output_type": "stream",
     "text": [
      "Epoch 1/50\n"
     ]
    },
    {
     "name": "stderr",
     "output_type": "stream",
     "text": [
      "2024-10-27 17:55:12.679511: I external/local_xla/xla/stream_executor/cuda/cuda_dnn.cc:454] Loaded cuDNN version 8904\n",
      "2024-10-27 17:55:12.932302: I external/local_tsl/tsl/platform/default/subprocess.cc:304] Start cannot spawn child process: No such file or directory\n",
      "2024-10-27 17:55:14.114539: I external/local_xla/xla/service/service.cc:168] XLA service 0x7f544ca9e710 initialized for platform CUDA (this does not guarantee that XLA will be used). Devices:\n",
      "2024-10-27 17:55:14.114612: I external/local_xla/xla/service/service.cc:176]   StreamExecutor device (0): NVIDIA GeForce RTX 4090, Compute Capability 8.9\n",
      "2024-10-27 17:55:14.114627: I external/local_xla/xla/service/service.cc:176]   StreamExecutor device (1): NVIDIA GeForce RTX 4090, Compute Capability 8.9\n",
      "2024-10-27 17:55:14.137396: I tensorflow/compiler/mlir/tensorflow/utils/dump_mlir_util.cc:269] disabling MLIR crash reproducer, set env var `MLIR_CRASH_REPRODUCER_DIRECTORY` to enable.\n",
      "WARNING: All log messages before absl::InitializeLog() is called are written to STDERR\n",
      "I0000 00:00:1730022914.385053    1637 device_compiler.h:186] Compiled cluster using XLA!  This line is logged at most once for the lifetime of the process.\n"
     ]
    },
    {
     "name": "stdout",
     "output_type": "stream",
     "text": [
      "176/176 [==============================] - 35s 82ms/step - loss: 2.5970 - categorical_accuracy: 0.4337 - precision: 0.8933 - recall: 0.1800 - val_loss: 1.5968 - val_categorical_accuracy: 0.6112 - val_precision: 0.9098 - val_recall: 0.3114 - lr: 1.0000e-04\n",
      "Epoch 2/50\n",
      "176/176 [==============================] - 14s 74ms/step - loss: 0.9189 - categorical_accuracy: 0.7587 - precision: 0.9080 - recall: 0.6080 - val_loss: 0.8544 - val_categorical_accuracy: 0.7710 - val_precision: 0.9084 - val_recall: 0.6335 - lr: 1.0000e-04\n",
      "Epoch 3/50\n",
      "176/176 [==============================] - 13s 72ms/step - loss: 0.5808 - categorical_accuracy: 0.8403 - precision: 0.9223 - recall: 0.7528 - val_loss: 0.6894 - val_categorical_accuracy: 0.7933 - val_precision: 0.8785 - val_recall: 0.7138 - lr: 1.0000e-04\n",
      "Epoch 4/50\n",
      "176/176 [==============================] - 13s 74ms/step - loss: 0.4074 - categorical_accuracy: 0.8865 - precision: 0.9416 - recall: 0.8304 - val_loss: 0.5957 - val_categorical_accuracy: 0.8260 - val_precision: 0.8937 - val_recall: 0.7674 - lr: 1.0000e-04\n",
      "Epoch 5/50\n",
      "176/176 [==============================] - 13s 73ms/step - loss: 0.3013 - categorical_accuracy: 0.9173 - precision: 0.9532 - recall: 0.8778 - val_loss: 0.4810 - val_categorical_accuracy: 0.8597 - val_precision: 0.9165 - val_recall: 0.8143 - lr: 1.0000e-04\n",
      "Epoch 6/50\n",
      "176/176 [==============================] - 13s 71ms/step - loss: 0.2290 - categorical_accuracy: 0.9382 - precision: 0.9640 - recall: 0.9063 - val_loss: 0.4367 - val_categorical_accuracy: 0.8746 - val_precision: 0.9229 - val_recall: 0.8331 - lr: 1.0000e-04\n",
      "Epoch 7/50\n",
      "176/176 [==============================] - 13s 69ms/step - loss: 0.1872 - categorical_accuracy: 0.9486 - precision: 0.9682 - recall: 0.9287 - val_loss: 0.4236 - val_categorical_accuracy: 0.8732 - val_precision: 0.9162 - val_recall: 0.8423 - lr: 1.0000e-04\n",
      "Epoch 8/50\n",
      "176/176 [==============================] - 13s 70ms/step - loss: 0.1436 - categorical_accuracy: 0.9627 - precision: 0.9766 - recall: 0.9472 - val_loss: 0.4295 - val_categorical_accuracy: 0.8725 - val_precision: 0.9056 - val_recall: 0.8512 - lr: 1.0000e-04\n",
      "Epoch 9/50\n",
      "176/176 [==============================] - 13s 72ms/step - loss: 0.1001 - categorical_accuracy: 0.9748 - precision: 0.9826 - recall: 0.9642 - val_loss: 0.3790 - val_categorical_accuracy: 0.8835 - val_precision: 0.9171 - val_recall: 0.8601 - lr: 5.0000e-05\n",
      "Epoch 10/50\n",
      "176/176 [==============================] - 13s 73ms/step - loss: 0.0844 - categorical_accuracy: 0.9804 - precision: 0.9854 - recall: 0.9707 - val_loss: 0.3737 - val_categorical_accuracy: 0.8906 - val_precision: 0.9182 - val_recall: 0.8686 - lr: 5.0000e-05\n",
      "Epoch 11/50\n",
      "176/176 [==============================] - 13s 73ms/step - loss: 0.0789 - categorical_accuracy: 0.9801 - precision: 0.9861 - recall: 0.9721 - val_loss: 0.3585 - val_categorical_accuracy: 0.8956 - val_precision: 0.9269 - val_recall: 0.8739 - lr: 5.0000e-05\n",
      "Epoch 12/50\n",
      "176/176 [==============================] - 14s 74ms/step - loss: 0.0679 - categorical_accuracy: 0.9847 - precision: 0.9882 - recall: 0.9793 - val_loss: 0.3631 - val_categorical_accuracy: 0.8924 - val_precision: 0.9186 - val_recall: 0.8697 - lr: 5.0000e-05\n",
      "Epoch 13/50\n",
      "176/176 [==============================] - 13s 72ms/step - loss: 0.0608 - categorical_accuracy: 0.9867 - precision: 0.9894 - recall: 0.9812 - val_loss: 0.3494 - val_categorical_accuracy: 0.8956 - val_precision: 0.9277 - val_recall: 0.8789 - lr: 5.0000e-05\n",
      "Epoch 14/50\n",
      "176/176 [==============================] - 13s 71ms/step - loss: 0.0512 - categorical_accuracy: 0.9887 - precision: 0.9902 - recall: 0.9851 - val_loss: 0.3355 - val_categorical_accuracy: 0.9023 - val_precision: 0.9291 - val_recall: 0.8839 - lr: 2.5000e-05\n",
      "Epoch 15/50\n",
      "176/176 [==============================] - 14s 74ms/step - loss: 0.0471 - categorical_accuracy: 0.9900 - precision: 0.9922 - recall: 0.9883 - val_loss: 0.3355 - val_categorical_accuracy: 0.9013 - val_precision: 0.9254 - val_recall: 0.8860 - lr: 2.5000e-05\n",
      "Epoch 16/50\n",
      "176/176 [==============================] - 14s 74ms/step - loss: 0.0432 - categorical_accuracy: 0.9914 - precision: 0.9926 - recall: 0.9892 - val_loss: 0.3337 - val_categorical_accuracy: 0.9009 - val_precision: 0.9284 - val_recall: 0.8839 - lr: 2.5000e-05\n",
      "Epoch 17/50\n",
      "176/176 [==============================] - 13s 73ms/step - loss: 0.0392 - categorical_accuracy: 0.9918 - precision: 0.9932 - recall: 0.9901 - val_loss: 0.3250 - val_categorical_accuracy: 0.9031 - val_precision: 0.9283 - val_recall: 0.8871 - lr: 1.2500e-05\n",
      "Epoch 18/50\n",
      "176/176 [==============================] - 13s 73ms/step - loss: 0.0385 - categorical_accuracy: 0.9914 - precision: 0.9924 - recall: 0.9893 - val_loss: 0.3271 - val_categorical_accuracy: 0.9045 - val_precision: 0.9250 - val_recall: 0.8888 - lr: 1.2500e-05\n",
      "Epoch 19/50\n",
      "176/176 [==============================] - 13s 72ms/step - loss: 0.0372 - categorical_accuracy: 0.9915 - precision: 0.9923 - recall: 0.9898 - val_loss: 0.3289 - val_categorical_accuracy: 0.9045 - val_precision: 0.9269 - val_recall: 0.8867 - lr: 1.2500e-05\n",
      "Epoch 20/50\n",
      "176/176 [==============================] - 14s 74ms/step - loss: 0.0345 - categorical_accuracy: 0.9940 - precision: 0.9947 - recall: 0.9923 - val_loss: 0.3256 - val_categorical_accuracy: 0.9034 - val_precision: 0.9280 - val_recall: 0.8885 - lr: 1.2500e-05\n",
      "Epoch 21/50\n",
      "176/176 [==============================] - 13s 73ms/step - loss: 0.0324 - categorical_accuracy: 0.9941 - precision: 0.9949 - recall: 0.9924 - val_loss: 0.3230 - val_categorical_accuracy: 0.9027 - val_precision: 0.9246 - val_recall: 0.8878 - lr: 6.2500e-06\n",
      "Epoch 22/50\n",
      "176/176 [==============================] - 13s 72ms/step - loss: 0.0318 - categorical_accuracy: 0.9929 - precision: 0.9943 - recall: 0.9916 - val_loss: 0.3249 - val_categorical_accuracy: 0.9020 - val_precision: 0.9241 - val_recall: 0.8867 - lr: 6.2500e-06\n",
      "Epoch 23/50\n",
      "176/176 [==============================] - 13s 71ms/step - loss: 0.0309 - categorical_accuracy: 0.9935 - precision: 0.9940 - recall: 0.9923 - val_loss: 0.3249 - val_categorical_accuracy: 0.9002 - val_precision: 0.9253 - val_recall: 0.8885 - lr: 3.1250e-06\n",
      "Epoch 24/50\n",
      "176/176 [==============================] - 13s 72ms/step - loss: 0.0292 - categorical_accuracy: 0.9946 - precision: 0.9948 - recall: 0.9938 - val_loss: 0.3226 - val_categorical_accuracy: 0.9020 - val_precision: 0.9256 - val_recall: 0.8881 - lr: 3.1250e-06\n",
      "Epoch 25/50\n",
      "176/176 [==============================] - 13s 72ms/step - loss: 0.0305 - categorical_accuracy: 0.9949 - precision: 0.9953 - recall: 0.9933 - val_loss: 0.3225 - val_categorical_accuracy: 0.9009 - val_precision: 0.9270 - val_recall: 0.8881 - lr: 1.5625e-06\n",
      "Epoch 26/50\n",
      "176/176 [==============================] - 13s 69ms/step - loss: 0.0303 - categorical_accuracy: 0.9939 - precision: 0.9947 - recall: 0.9925 - val_loss: 0.3224 - val_categorical_accuracy: 0.9013 - val_precision: 0.9259 - val_recall: 0.8878 - lr: 3.9062e-07\n",
      "Epoch 30/50\n",
      "176/176 [==============================] - 13s 68ms/step - loss: 0.0288 - categorical_accuracy: 0.9944 - precision: 0.9949 - recall: 0.9933 - val_loss: 0.3224 - val_categorical_accuracy: 0.9013 - val_precision: 0.9259 - val_recall: 0.8878 - lr: 3.9062e-07\n",
      "Epoch 31/50\n",
      "176/176 [==============================] - 13s 69ms/step - loss: 0.0285 - categorical_accuracy: 0.9941 - precision: 0.9949 - recall: 0.9933 - val_loss: 0.3222 - val_categorical_accuracy: 0.9013 - val_precision: 0.9257 - val_recall: 0.8888 - lr: 1.9531e-07\n",
      "Epoch 32/50\n",
      "176/176 [==============================] - 13s 71ms/step - loss: 0.0294 - categorical_accuracy: 0.9947 - precision: 0.9956 - recall: 0.9934 - val_loss: 0.3223 - val_categorical_accuracy: 0.9006 - val_precision: 0.9260 - val_recall: 0.8881 - lr: 1.9531e-07\n",
      "Epoch 33/50\n",
      "176/176 [==============================] - 13s 71ms/step - loss: 0.0292 - categorical_accuracy: 0.9941 - precision: 0.9948 - recall: 0.9930 - val_loss: 0.3216 - val_categorical_accuracy: 0.9016 - val_precision: 0.9256 - val_recall: 0.8885 - lr: 9.7656e-08\n",
      "Epoch 34/50\n",
      "176/176 [==============================] - 13s 72ms/step - loss: 0.0293 - categorical_accuracy: 0.9955 - precision: 0.9963 - recall: 0.9947 - val_loss: 0.3222 - val_categorical_accuracy: 0.9013 - val_precision: 0.9249 - val_recall: 0.8874 - lr: 9.7656e-08\n",
      "Epoch 35/50\n",
      "176/176 [==============================] - 14s 74ms/step - loss: 0.0284 - categorical_accuracy: 0.9942 - precision: 0.9945 - recall: 0.9933 - val_loss: 0.3223 - val_categorical_accuracy: 0.9016 - val_precision: 0.9252 - val_recall: 0.8878 - lr: 4.8828e-08\n",
      "Epoch 36/50\n",
      "176/176 [==============================] - 13s 72ms/step - loss: 0.0294 - categorical_accuracy: 0.9947 - precision: 0.9950 - recall: 0.9938 - val_loss: 0.3223 - val_categorical_accuracy: 0.9013 - val_precision: 0.9245 - val_recall: 0.8867 - lr: 4.8828e-08\n",
      "Epoch 37/50\n",
      "176/176 [==============================] - 13s 72ms/step - loss: 0.0302 - categorical_accuracy: 0.9941 - precision: 0.9945 - recall: 0.9932 - val_loss: 0.3224 - val_categorical_accuracy: 0.9009 - val_precision: 0.9259 - val_recall: 0.8871 - lr: 2.4414e-08\n",
      "Epoch 38/50\n",
      "176/176 [==============================] - 13s 73ms/step - loss: 0.0292 - categorical_accuracy: 0.9946 - precision: 0.9949 - recall: 0.9933 - val_loss: 0.3226 - val_categorical_accuracy: 0.9020 - val_precision: 0.9255 - val_recall: 0.8871 - lr: 2.4414e-08\n",
      "Epoch 39/50\n",
      "176/176 [==============================] - 14s 75ms/step - loss: 0.0289 - categorical_accuracy: 0.9947 - precision: 0.9954 - recall: 0.9941 - val_loss: 0.3226 - val_categorical_accuracy: 0.9013 - val_precision: 0.9249 - val_recall: 0.8874 - lr: 1.2207e-08\n",
      "Epoch 40/50\n",
      "176/176 [==============================] - 13s 73ms/step - loss: 0.0296 - categorical_accuracy: 0.9941 - precision: 0.9948 - recall: 0.9928 - val_loss: 0.3225 - val_categorical_accuracy: 0.9013 - val_precision: 0.9259 - val_recall: 0.8874 - lr: 1.2207e-08\n",
      "Epoch 41/50\n",
      "176/176 [==============================] - 13s 72ms/step - loss: 0.0291 - categorical_accuracy: 0.9944 - precision: 0.9953 - recall: 0.9936 - val_loss: 0.3225 - val_categorical_accuracy: 0.9020 - val_precision: 0.9252 - val_recall: 0.8874 - lr: 1.0000e-08\n",
      "Epoch 42/50\n",
      "176/176 [==============================] - 13s 72ms/step - loss: 0.0296 - categorical_accuracy: 0.9943 - precision: 0.9947 - recall: 0.9925 - val_loss: 0.3223 - val_categorical_accuracy: 0.9020 - val_precision: 0.9256 - val_recall: 0.8878 - lr: 1.0000e-08\n",
      "Epoch 43/50\n",
      "176/176 [==============================] - 14s 74ms/step - loss: 0.0293 - categorical_accuracy: 0.9944 - precision: 0.9949 - recall: 0.9929 - val_loss: 0.3222 - val_categorical_accuracy: 0.9013 - val_precision: 0.9246 - val_recall: 0.8878 - lr: 1.0000e-08\n",
      "Epoch 44/50\n",
      "176/176 [==============================] - 13s 72ms/step - loss: 0.0291 - categorical_accuracy: 0.9947 - precision: 0.9950 - recall: 0.9936 - val_loss: 0.3224 - val_categorical_accuracy: 0.9013 - val_precision: 0.9259 - val_recall: 0.8874 - lr: 1.0000e-08\n",
      "Epoch 45/50\n",
      "176/176 [==============================] - 13s 72ms/step - loss: 0.0299 - categorical_accuracy: 0.9945 - precision: 0.9948 - recall: 0.9934 - val_loss: 0.3219 - val_categorical_accuracy: 0.9013 - val_precision: 0.9253 - val_recall: 0.8881 - lr: 1.0000e-08\n",
      "Epoch 46/50\n",
      "176/176 [==============================] - 13s 73ms/step - loss: 0.0296 - categorical_accuracy: 0.9947 - precision: 0.9951 - recall: 0.9936 - val_loss: 0.3223 - val_categorical_accuracy: 0.9009 - val_precision: 0.9249 - val_recall: 0.8874 - lr: 1.0000e-08\n",
      "Epoch 47/50\n",
      "176/176 [==============================] - 13s 72ms/step - loss: 0.0293 - categorical_accuracy: 0.9948 - precision: 0.9957 - recall: 0.9935 - val_loss: 0.3222 - val_categorical_accuracy: 0.9013 - val_precision: 0.9248 - val_recall: 0.8871 - lr: 1.0000e-08\n",
      "Epoch 48/50\n",
      "176/176 [==============================] - 13s 73ms/step - loss: 0.0284 - categorical_accuracy: 0.9939 - precision: 0.9948 - recall: 0.9927 - val_loss: 0.3222 - val_categorical_accuracy: 0.9020 - val_precision: 0.9262 - val_recall: 0.8871 - lr: 1.0000e-08\n",
      "Epoch 49/50\n",
      "176/176 [==============================] - 13s 73ms/step - loss: 0.0301 - categorical_accuracy: 0.9940 - precision: 0.9948 - recall: 0.9930 - val_loss: 0.3224 - val_categorical_accuracy: 0.9016 - val_precision: 0.9252 - val_recall: 0.8878 - lr: 1.0000e-08\n",
      "Epoch 50/50\n",
      "176/176 [==============================] - 14s 74ms/step - loss: 0.0311 - categorical_accuracy: 0.9938 - precision: 0.9946 - recall: 0.9925 - val_loss: 0.3225 - val_categorical_accuracy: 0.9020 - val_precision: 0.9255 - val_recall: 0.8871 - lr: 1.0000e-08\n"
     ]
    }
   ],
   "source": [
    "# Train Model\n",
    "log_dir = \"../Running result/0.75/0.75\"\n",
    "tensorboard_callback = tf.keras.callbacks.TensorBoard(log_dir=log_dir, histogram_freq=1)\n",
    "lr_scheduler = tf.keras.callbacks.ReduceLROnPlateau(monitor='val_categorical_accuracy', factor=0.5, patience=2, min_lr=1e-8)\n",
    "\n",
    "history = model.fit(train_ds, epochs=EPOCHS, validation_data=vaild_ds, callbacks=[lr_scheduler, tensorboard_callback])"
   ]
  },
  {
   "cell_type": "code",
   "execution_count": 15,
   "metadata": {},
   "outputs": [
    {
     "name": "stdout",
     "output_type": "stream",
     "text": [
      "Training history saved to: ../Running result/0.75/0.75/0.75.xlsx\n"
     ]
    },
    {
     "name": "stderr",
     "output_type": "stream",
     "text": [
      "/root/anaconda3/lib/python3.11/site-packages/keras/src/engine/training.py:3103: UserWarning: You are saving your model as an HDF5 file via `model.save()`. This file format is considered legacy. We recommend using instead the native Keras format, e.g. `model.save('my_model.keras')`.\n",
      "  saving_api.save_model(\n"
     ]
    },
    {
     "name": "stdout",
     "output_type": "stream",
     "text": [
      "Model saved to: ../Running result/0.75/0.75/0.75.h5\n"
     ]
    }
   ],
   "source": [
    "import pandas as pd  # Import Pandas library\n",
    "import os\n",
    "\n",
    "# Define save path\n",
    "model_dir = \"../Running result/0.75/0.75\"\n",
    "excel_file_path = os.path.join(model_dir, \"0.75.xlsx\")  # Path to save the Excel file\n",
    "model_file_path = os.path.join(model_dir, \"0.75.h5\")  # Path to save the model\n",
    "\n",
    "# Check if the save directory exists; create it if it does not\n",
    "if not os.path.exists(model_dir):\n",
    "    os.makedirs(model_dir)\n",
    "\n",
    "# Save training history to an Excel file\n",
    "history_df = pd.DataFrame(history.history)  \n",
    "history_df.to_excel(excel_file_path, index=False)\n",
    "print(f\"Training history saved to: {excel_file_path}\")\n",
    "\n",
    "# Save the model to the specified path\n",
    "model.save(model_file_path)\n",
    "print(f\"Model saved to: {model_file_path}\")\n"
   ]
  },
  {
   "cell_type": "code",
   "execution_count": null,
   "metadata": {},
   "outputs": [],
   "source": []
  },
  {
   "cell_type": "code",
   "execution_count": null,
   "metadata": {},
   "outputs": [],
   "source": []
  }
 ],
 "metadata": {
  "accelerator": "GPU",
  "colab": {
   "provenance": []
  },
  "kernelspec": {
   "display_name": "Python 3 (ipykernel)",
   "language": "python",
   "name": "python3"
  },
  "language_info": {
   "codemirror_mode": {
    "name": "ipython",
    "version": 3
   },
   "file_extension": ".py",
   "mimetype": "text/x-python",
   "name": "python",
   "nbconvert_exporter": "python",
   "pygments_lexer": "ipython3",
   "version": "3.11.7"
  }
 },
 "nbformat": 4,
 "nbformat_minor": 4
}
