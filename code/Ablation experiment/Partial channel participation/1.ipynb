{
 "cells": [
  {
   "cell_type": "code",
   "execution_count": 3,
   "metadata": {
    "tags": []
   },
   "outputs": [],
   "source": [
    "import tensorflow as tf  \n",
    "import numpy as np       \n",
    "import pandas as pd       \n",
    "from matplotlib import pyplot as plt   \n",
    "import seaborn as sns  \n",
    "import time          \n",
    "from tensorflow.keras.callbacks import History, ReduceLROnPlateau, TensorBoard       \n",
    "from tensorflow.keras import metrics          \n",
    "from sklearn.metrics import confusion_matrix          \n",
    "import pickle\n",
    "from tensorflow.keras.applications import MobileNet\n",
    "from tensorflow.keras.layers import GlobalAveragePooling2D, Reshape, multiply, add, Dense, Conv2D, GlobalMaxPooling2D, Activation\n",
    "from tensorflow.keras import backend as K\n",
    "import platform\n",
    "import os\n",
    "from tensorflow.keras.layers import GlobalAveragePooling2D, Multiply, Dense\n",
    "from keras.layers import GlobalAveragePooling2D, Dense, Multiply\n",
    "import platform\n",
    "import os"
   ]
  },
  {
   "cell_type": "code",
   "execution_count": 4,
   "metadata": {
    "tags": []
   },
   "outputs": [],
   "source": [
    "# Display Settings\n",
    "pd.options.display.max_columns = None\n",
    "pd.options.display.max_rows = None\n",
    "sns.set()"
   ]
  },
  {
   "cell_type": "code",
   "execution_count": 5,
   "metadata": {
    "tags": []
   },
   "outputs": [
    {
     "name": "stdout",
     "output_type": "stream",
     "text": [
      "Python version:  3.11.7\n",
      "TensorFlow version:  2.15.0\n",
      "Current working directory:  /root/.jupyter/张彤/消融实验\n",
      "Linux w3q2ulc9.vm 5.15.0-60-generic #66-Ubuntu SMP Fri Jan 20 14:29:49 UTC 2023 x86_64 x86_64 x86_64 GNU/Linux\n",
      "Sun Oct 27 19:40:12 2024       \n",
      "+---------------------------------------------------------------------------------------+\n",
      "| NVIDIA-SMI 545.23.08              Driver Version: 545.23.08    CUDA Version: 12.3     |\n",
      "|-----------------------------------------+----------------------+----------------------+\n",
      "| GPU  Name                 Persistence-M | Bus-Id        Disp.A | Volatile Uncorr. ECC |\n",
      "| Fan  Temp   Perf          Pwr:Usage/Cap |         Memory-Usage | GPU-Util  Compute M. |\n",
      "|                                         |                      |               MIG M. |\n",
      "|=========================================+======================+======================|\n",
      "|   0  NVIDIA GeForce RTX 4090        On  | 00000000:09:00.0 Off |                  Off |\n",
      "|  0%   26C    P8              11W / 450W |      3MiB / 24564MiB |      0%      Default |\n",
      "|                                         |                      |                  N/A |\n",
      "+-----------------------------------------+----------------------+----------------------+\n",
      "|   1  NVIDIA GeForce RTX 4090        On  | 00000000:0B:00.0 Off |                  Off |\n",
      "|  0%   27C    P8               3W / 450W |      3MiB / 24564MiB |      0%      Default |\n",
      "|                                         |                      |                  N/A |\n",
      "+-----------------------------------------+----------------------+----------------------+\n",
      "                                                                                         \n",
      "+---------------------------------------------------------------------------------------+\n",
      "| Processes:                                                                            |\n",
      "|  GPU   GI   CI        PID   Type   Process name                            GPU Memory |\n",
      "|        ID   ID                                                             Usage      |\n",
      "|=======================================================================================|\n",
      "|  No running processes found                                                           |\n",
      "+---------------------------------------------------------------------------------------+\n"
     ]
    }
   ],
   "source": [
    "# System Information Print the Python version\n",
    "print(\"Python version: \", platform.python_version())\n",
    "print(\"TensorFlow version: \", tf.__version__)\n",
    "print(\"Current working directory: \", os.getcwd())\n",
    "!uname -a\n",
    "!nvidia-smi"
   ]
  },
  {
   "cell_type": "code",
   "execution_count": 6,
   "metadata": {
    "tags": []
   },
   "outputs": [],
   "source": [
    "# Hyperparameter Settings\n",
    "EPOCHS = 50\n",
    "IMAGE_SIZE = (224, 224)\n",
    "IMAGE_PATH = \"../data\"\n",
    "LEARNING_RATE = 1e-4\n",
    "BATCH_SIZE = 64"
   ]
  },
  {
   "cell_type": "code",
   "execution_count": 7,
   "metadata": {
    "tags": []
   },
   "outputs": [
    {
     "name": "stdout",
     "output_type": "stream",
     "text": [
      "Found 14080 files belonging to 100 classes.\n",
      "Using 11264 files for training.\n"
     ]
    },
    {
     "name": "stderr",
     "output_type": "stream",
     "text": [
      "2024-10-27 19:40:14.683321: I external/local_xla/xla/stream_executor/cuda/cuda_executor.cc:901] successful NUMA node read from SysFS had negative value (-1), but there must be at least one NUMA node, so returning NUMA node zero. See more at https://github.com/torvalds/linux/blob/v6.0/Documentation/ABI/testing/sysfs-bus-pci#L344-L355\n",
      "2024-10-27 19:40:14.683677: I external/local_xla/xla/stream_executor/cuda/cuda_executor.cc:901] successful NUMA node read from SysFS had negative value (-1), but there must be at least one NUMA node, so returning NUMA node zero. See more at https://github.com/torvalds/linux/blob/v6.0/Documentation/ABI/testing/sysfs-bus-pci#L344-L355\n",
      "2024-10-27 19:40:14.807242: I external/local_xla/xla/stream_executor/cuda/cuda_executor.cc:901] successful NUMA node read from SysFS had negative value (-1), but there must be at least one NUMA node, so returning NUMA node zero. See more at https://github.com/torvalds/linux/blob/v6.0/Documentation/ABI/testing/sysfs-bus-pci#L344-L355\n",
      "2024-10-27 19:40:14.807549: I external/local_xla/xla/stream_executor/cuda/cuda_executor.cc:901] successful NUMA node read from SysFS had negative value (-1), but there must be at least one NUMA node, so returning NUMA node zero. See more at https://github.com/torvalds/linux/blob/v6.0/Documentation/ABI/testing/sysfs-bus-pci#L344-L355\n",
      "2024-10-27 19:40:14.807724: I external/local_xla/xla/stream_executor/cuda/cuda_executor.cc:901] successful NUMA node read from SysFS had negative value (-1), but there must be at least one NUMA node, so returning NUMA node zero. See more at https://github.com/torvalds/linux/blob/v6.0/Documentation/ABI/testing/sysfs-bus-pci#L344-L355\n",
      "2024-10-27 19:40:14.807879: I external/local_xla/xla/stream_executor/cuda/cuda_executor.cc:901] successful NUMA node read from SysFS had negative value (-1), but there must be at least one NUMA node, so returning NUMA node zero. See more at https://github.com/torvalds/linux/blob/v6.0/Documentation/ABI/testing/sysfs-bus-pci#L344-L355\n",
      "2024-10-27 19:40:14.987828: I external/local_xla/xla/stream_executor/cuda/cuda_executor.cc:901] successful NUMA node read from SysFS had negative value (-1), but there must be at least one NUMA node, so returning NUMA node zero. See more at https://github.com/torvalds/linux/blob/v6.0/Documentation/ABI/testing/sysfs-bus-pci#L344-L355\n",
      "2024-10-27 19:40:14.988117: I external/local_xla/xla/stream_executor/cuda/cuda_executor.cc:901] successful NUMA node read from SysFS had negative value (-1), but there must be at least one NUMA node, so returning NUMA node zero. See more at https://github.com/torvalds/linux/blob/v6.0/Documentation/ABI/testing/sysfs-bus-pci#L344-L355\n",
      "2024-10-27 19:40:14.988333: I external/local_xla/xla/stream_executor/cuda/cuda_executor.cc:901] successful NUMA node read from SysFS had negative value (-1), but there must be at least one NUMA node, so returning NUMA node zero. See more at https://github.com/torvalds/linux/blob/v6.0/Documentation/ABI/testing/sysfs-bus-pci#L344-L355\n",
      "2024-10-27 19:40:14.988489: I external/local_xla/xla/stream_executor/cuda/cuda_executor.cc:901] successful NUMA node read from SysFS had negative value (-1), but there must be at least one NUMA node, so returning NUMA node zero. See more at https://github.com/torvalds/linux/blob/v6.0/Documentation/ABI/testing/sysfs-bus-pci#L344-L355\n",
      "2024-10-27 19:40:14.988642: I external/local_xla/xla/stream_executor/cuda/cuda_executor.cc:901] successful NUMA node read from SysFS had negative value (-1), but there must be at least one NUMA node, so returning NUMA node zero. See more at https://github.com/torvalds/linux/blob/v6.0/Documentation/ABI/testing/sysfs-bus-pci#L344-L355\n",
      "2024-10-27 19:40:14.988795: I external/local_xla/xla/stream_executor/cuda/cuda_executor.cc:901] successful NUMA node read from SysFS had negative value (-1), but there must be at least one NUMA node, so returning NUMA node zero. See more at https://github.com/torvalds/linux/blob/v6.0/Documentation/ABI/testing/sysfs-bus-pci#L344-L355\n",
      "2024-10-27 19:40:15.006144: I external/local_xla/xla/stream_executor/cuda/cuda_executor.cc:901] successful NUMA node read from SysFS had negative value (-1), but there must be at least one NUMA node, so returning NUMA node zero. See more at https://github.com/torvalds/linux/blob/v6.0/Documentation/ABI/testing/sysfs-bus-pci#L344-L355\n",
      "2024-10-27 19:40:15.006503: I external/local_xla/xla/stream_executor/cuda/cuda_executor.cc:901] successful NUMA node read from SysFS had negative value (-1), but there must be at least one NUMA node, so returning NUMA node zero. See more at https://github.com/torvalds/linux/blob/v6.0/Documentation/ABI/testing/sysfs-bus-pci#L344-L355\n",
      "2024-10-27 19:40:15.006694: I external/local_xla/xla/stream_executor/cuda/cuda_executor.cc:901] successful NUMA node read from SysFS had negative value (-1), but there must be at least one NUMA node, so returning NUMA node zero. See more at https://github.com/torvalds/linux/blob/v6.0/Documentation/ABI/testing/sysfs-bus-pci#L344-L355\n",
      "2024-10-27 19:40:15.006864: I external/local_xla/xla/stream_executor/cuda/cuda_executor.cc:901] successful NUMA node read from SysFS had negative value (-1), but there must be at least one NUMA node, so returning NUMA node zero. See more at https://github.com/torvalds/linux/blob/v6.0/Documentation/ABI/testing/sysfs-bus-pci#L344-L355\n",
      "2024-10-27 19:40:15.007037: I external/local_xla/xla/stream_executor/cuda/cuda_executor.cc:901] successful NUMA node read from SysFS had negative value (-1), but there must be at least one NUMA node, so returning NUMA node zero. See more at https://github.com/torvalds/linux/blob/v6.0/Documentation/ABI/testing/sysfs-bus-pci#L344-L355\n",
      "2024-10-27 19:40:15.007172: I tensorflow/core/common_runtime/gpu/gpu_device.cc:1929] Created device /job:localhost/replica:0/task:0/device:GPU:0 with 22287 MB memory:  -> device: 0, name: NVIDIA GeForce RTX 4090, pci bus id: 0000:09:00.0, compute capability: 8.9\n",
      "2024-10-27 19:40:15.007913: I external/local_xla/xla/stream_executor/cuda/cuda_executor.cc:901] successful NUMA node read from SysFS had negative value (-1), but there must be at least one NUMA node, so returning NUMA node zero. See more at https://github.com/torvalds/linux/blob/v6.0/Documentation/ABI/testing/sysfs-bus-pci#L344-L355\n",
      "2024-10-27 19:40:15.008073: I tensorflow/core/common_runtime/gpu/gpu_device.cc:1929] Created device /job:localhost/replica:0/task:0/device:GPU:1 with 22287 MB memory:  -> device: 1, name: NVIDIA GeForce RTX 4090, pci bus id: 0000:0b:00.0, compute capability: 8.9\n",
      "2024-10-27 19:40:15.679505: I external/local_tsl/tsl/platform/default/subprocess.cc:304] Start cannot spawn child process: No such file or directory\n"
     ]
    },
    {
     "name": "stdout",
     "output_type": "stream",
     "text": [
      "Found 14080 files belonging to 100 classes.\n",
      "Using 2816 files for validation.\n"
     ]
    }
   ],
   "source": [
    "# Load Dataset\n",
    "train_ds = tf.keras.utils.image_dataset_from_directory(\n",
    "    IMAGE_PATH,\n",
    "    validation_split=0.2,\n",
    "    subset=\"training\",    \n",
    "    seed=123,\n",
    "    image_size=IMAGE_SIZE,\n",
    "    batch_size=BATCH_SIZE\n",
    ")\n",
    "\n",
    "vaild_ds = tf.keras.utils.image_dataset_from_directory(\n",
    "    IMAGE_PATH,\n",
    "    validation_split=0.2,\n",
    "    subset=\"validation\",\n",
    "    seed=123,\n",
    "    image_size=IMAGE_SIZE,\n",
    "    batch_size=BATCH_SIZE\n",
    ")"
   ]
  },
  {
   "cell_type": "code",
   "execution_count": 8,
   "metadata": {
    "tags": []
   },
   "outputs": [],
   "source": [
    "# Image Normalization\n",
    "mean = [0.485, 0.456, 0.406]\n",
    "std = [0.229, 0.224, 0.225]\n",
    "\n",
    "def normalize_image(image):\n",
    "    return (image - mean_tensor) / std_tensor\n"
   ]
  },
  {
   "cell_type": "code",
   "execution_count": 9,
   "metadata": {
    "tags": []
   },
   "outputs": [],
   "source": [
    "# Data Augmentation\n",
    "train_image_augment = tf.keras.Sequential([\n",
    "    tf.keras.layers.Rescaling(1 / 255.0),\n",
    "    tf.keras.layers.RandomRotation(factor=0.2),\n",
    "    tf.keras.layers.RandomFlip(),\n",
    "])\n",
    "\n",
    "valid_image_augment = tf.keras.Sequential([\n",
    "    tf.keras.layers.Rescaling(1 / 255.0),\n",
    "])"
   ]
  },
  {
   "cell_type": "code",
   "execution_count": 10,
   "metadata": {
    "tags": []
   },
   "outputs": [],
   "source": [
    "# Input Processing\n",
    "def process_train_input(images, labels):\n",
    "    return train_image_augment(images), labels\n",
    "\n",
    "def process_valid_input(images, labels):\n",
    "    return valid_image_augment(images), labels\n"
   ]
  },
  {
   "cell_type": "code",
   "execution_count": 11,
   "metadata": {
    "tags": []
   },
   "outputs": [],
   "source": [
    "# Data Preprocessing\n",
    "def convert_types_and_encode(x, y):\n",
    "    y = tf.cast(y, tf.int32)  \n",
    "    y_one_hot = tf.one_hot(y, 100)  \n",
    "    return x, y_one_hot"
   ]
  },
  {
   "cell_type": "code",
   "execution_count": 12,
   "metadata": {
    "tags": []
   },
   "outputs": [],
   "source": [
    "# Apply Data Preprocessing\n",
    "train_ds = train_ds.map(convert_types_and_encode)\n",
    "train_ds = train_ds.map(process_train_input, num_parallel_calls=tf.data.AUTOTUNE)\n",
    "train_ds = train_ds.prefetch(tf.data.AUTOTUNE)\n",
    "\n",
    "vaild_ds = vaild_ds.map(convert_types_and_encode)\n",
    "vaild_ds = vaild_ds.map(process_valid_input, num_parallel_calls=tf.data.AUTOTUNE)\n",
    "vaild_ds = vaild_ds.prefetch(tf.data.AUTOTUNE)"
   ]
  },
  {
   "cell_type": "code",
   "execution_count": 13,
   "metadata": {
    "tags": []
   },
   "outputs": [],
   "source": [
    "import tensorflow as tf\n",
    "from tensorflow.keras.layers import Conv2D, GlobalAveragePooling2D, Multiply, Dense\n",
    "import tensorflow.keras.backend as K\n",
    "\n",
    "# Define the ECA layer, applying attention to all channels\n",
    "def eca_layer(input_tensor, k_size=3):\n",
    "    \"\"\"Efficient Channel Attention (ECA) for all channels.\n",
    "    \n",
    "    Args:\n",
    "        input_tensor: The input feature map (batch_size, height, width, channels).\n",
    "        k_size: Kernel size for the 1D convolution used in ECA.\n",
    "    \n",
    "    Returns:\n",
    "        The output tensor after applying ECA on all channels.\n",
    "    \"\"\"\n",
    "    channels = input_tensor.shape[-1]  # Get the total number of channels\n",
    "\n",
    "    # Apply global average pooling to all channels\n",
    "    avg_pool = tf.reduce_mean(input_tensor, axis=[1, 2], keepdims=True)  # Global average pooling over all channels\n",
    "    \n",
    "    # Apply 1D convolution (as Conv2D with (k_size, 1) kernel) to capture cross-channel dependencies\n",
    "    conv = Conv2D(filters=channels, kernel_size=(k_size, 1), padding='same', activation='sigmoid')(avg_pool)\n",
    "    \n",
    "    # Multiply the attention map with the input feature maps (for all channels)\n",
    "    output = Multiply()([input_tensor, conv])  # Apply attention to all channels\n",
    "\n",
    "    return output\n",
    "\n",
    "# Create MobileNet base model (or any other backbone)\n",
    "base_model = tf.keras.applications.MobileNet(input_shape=(224, 224, 3), include_top=False, weights='imagenet')\n",
    "feature_maps = base_model.output\n",
    "\n",
    "# Apply ECA to all channels (partial_ratio=1.00)\n",
    "eca_feature_maps = eca_layer(feature_maps, k_size=5)\n",
    "\n",
    "# Add global average pooling\n",
    "x = GlobalAveragePooling2D()(eca_feature_maps)\n",
    "\n",
    "# Add fully connected layers\n",
    "x = Dense(1024, activation='relu')(x)\n",
    "outputs = Dense(100, activation='softmax')(x)  # Adjust the number of classes as needed\n",
    "\n",
    "# Create the final model\n",
    "model = tf.keras.Model(inputs=base_model.input, outputs=outputs)\n",
    "\n",
    "# Compile the model\n",
    "model.compile(optimizer='adam', loss='categorical_crossentropy', metrics=['accuracy'])\n"
   ]
  },
  {
   "cell_type": "code",
   "execution_count": 14,
   "metadata": {},
   "outputs": [],
   "source": [
    "# Compile Model\n",
    "optimizer = tf.keras.optimizers.Adam(learning_rate=LEARNING_RATE)\n",
    "loss_fn = tf.keras.losses.CategoricalCrossentropy()\n",
    "metrics = [\n",
    "    tf.keras.metrics.CategoricalAccuracy(),\n",
    "    tf.keras.metrics.Precision(),\n",
    "    tf.keras.metrics.Recall(),\n",
    "]\n",
    "\n",
    "model.compile(optimizer=optimizer, loss=loss_fn, metrics=metrics)"
   ]
  },
  {
   "cell_type": "code",
   "execution_count": 15,
   "metadata": {
    "tags": []
   },
   "outputs": [
    {
     "name": "stdout",
     "output_type": "stream",
     "text": [
      "Epoch 1/50\n"
     ]
    },
    {
     "name": "stderr",
     "output_type": "stream",
     "text": [
      "2024-10-27 19:40:27.915898: I external/local_xla/xla/stream_executor/cuda/cuda_dnn.cc:454] Loaded cuDNN version 8904\n",
      "2024-10-27 19:40:28.139993: I external/local_tsl/tsl/platform/default/subprocess.cc:304] Start cannot spawn child process: No such file or directory\n",
      "2024-10-27 19:40:29.358347: I external/local_xla/xla/service/service.cc:168] XLA service 0x7f52ecaa00c0 initialized for platform CUDA (this does not guarantee that XLA will be used). Devices:\n",
      "2024-10-27 19:40:29.358421: I external/local_xla/xla/service/service.cc:176]   StreamExecutor device (0): NVIDIA GeForce RTX 4090, Compute Capability 8.9\n",
      "2024-10-27 19:40:29.358439: I external/local_xla/xla/service/service.cc:176]   StreamExecutor device (1): NVIDIA GeForce RTX 4090, Compute Capability 8.9\n",
      "2024-10-27 19:40:29.382000: I tensorflow/compiler/mlir/tensorflow/utils/dump_mlir_util.cc:269] disabling MLIR crash reproducer, set env var `MLIR_CRASH_REPRODUCER_DIRECTORY` to enable.\n",
      "WARNING: All log messages before absl::InitializeLog() is called are written to STDERR\n",
      "I0000 00:00:1730029229.601892    1679 device_compiler.h:186] Compiled cluster using XLA!  This line is logged at most once for the lifetime of the process.\n"
     ]
    },
    {
     "name": "stdout",
     "output_type": "stream",
     "text": [
      "176/176 [==============================] - 34s 79ms/step - loss: 2.5809 - categorical_accuracy: 0.4423 - precision: 0.8867 - recall: 0.1958 - val_loss: 1.5888 - val_categorical_accuracy: 0.5845 - val_precision: 0.8481 - val_recall: 0.3530 - lr: 1.0000e-04\n",
      "Epoch 2/50\n",
      "176/176 [==============================] - 13s 72ms/step - loss: 0.8879 - categorical_accuracy: 0.7637 - precision: 0.9070 - recall: 0.6199 - val_loss: 0.7998 - val_categorical_accuracy: 0.7720 - val_precision: 0.8951 - val_recall: 0.6637 - lr: 1.0000e-04\n",
      "Epoch 3/50\n",
      "176/176 [==============================] - 13s 71ms/step - loss: 0.5482 - categorical_accuracy: 0.8510 - precision: 0.9288 - recall: 0.7671 - val_loss: 0.6499 - val_categorical_accuracy: 0.8136 - val_precision: 0.8967 - val_recall: 0.7433 - lr: 1.0000e-04\n",
      "Epoch 4/50\n",
      "176/176 [==============================] - 13s 72ms/step - loss: 0.3790 - categorical_accuracy: 0.8959 - precision: 0.9472 - recall: 0.8433 - val_loss: 0.5574 - val_categorical_accuracy: 0.8366 - val_precision: 0.9030 - val_recall: 0.7901 - lr: 1.0000e-04\n",
      "Epoch 5/50\n",
      "176/176 [==============================] - 13s 71ms/step - loss: 0.2874 - categorical_accuracy: 0.9181 - precision: 0.9534 - recall: 0.8834 - val_loss: 0.4757 - val_categorical_accuracy: 0.8533 - val_precision: 0.9128 - val_recall: 0.8178 - lr: 1.0000e-04\n",
      "Epoch 6/50\n",
      "176/176 [==============================] - 13s 71ms/step - loss: 0.2311 - categorical_accuracy: 0.9351 - precision: 0.9623 - recall: 0.9077 - val_loss: 0.4614 - val_categorical_accuracy: 0.8633 - val_precision: 0.9050 - val_recall: 0.8324 - lr: 1.0000e-04\n",
      "Epoch 7/50\n",
      "176/176 [==============================] - 13s 71ms/step - loss: 0.1813 - categorical_accuracy: 0.9480 - precision: 0.9662 - recall: 0.9287 - val_loss: 0.4323 - val_categorical_accuracy: 0.8725 - val_precision: 0.9147 - val_recall: 0.8452 - lr: 1.0000e-04\n",
      "Epoch 8/50\n",
      "176/176 [==============================] - 13s 71ms/step - loss: 0.1393 - categorical_accuracy: 0.9620 - precision: 0.9745 - recall: 0.9467 - val_loss: 0.3990 - val_categorical_accuracy: 0.8881 - val_precision: 0.9259 - val_recall: 0.8651 - lr: 1.0000e-04\n",
      "Epoch 9/50\n",
      "176/176 [==============================] - 13s 71ms/step - loss: 0.1163 - categorical_accuracy: 0.9685 - precision: 0.9787 - recall: 0.9569 - val_loss: 0.4123 - val_categorical_accuracy: 0.8835 - val_precision: 0.9147 - val_recall: 0.8643 - lr: 1.0000e-04\n",
      "Epoch 10/50\n",
      "176/176 [==============================] - 13s 72ms/step - loss: 0.0964 - categorical_accuracy: 0.9736 - precision: 0.9800 - recall: 0.9648 - val_loss: 0.4281 - val_categorical_accuracy: 0.8750 - val_precision: 0.9075 - val_recall: 0.8601 - lr: 1.0000e-04\n",
      "Epoch 11/50\n",
      "176/176 [==============================] - 13s 72ms/step - loss: 0.0660 - categorical_accuracy: 0.9847 - precision: 0.9882 - recall: 0.9790 - val_loss: 0.3472 - val_categorical_accuracy: 0.8995 - val_precision: 0.9305 - val_recall: 0.8849 - lr: 5.0000e-05\n",
      "Epoch 12/50\n",
      "176/176 [==============================] - 13s 71ms/step - loss: 0.0562 - categorical_accuracy: 0.9870 - precision: 0.9893 - recall: 0.9826 - val_loss: 0.3606 - val_categorical_accuracy: 0.8991 - val_precision: 0.9236 - val_recall: 0.8846 - lr: 5.0000e-05\n",
      "Epoch 13/50\n",
      "176/176 [==============================] - 13s 72ms/step - loss: 0.0497 - categorical_accuracy: 0.9888 - precision: 0.9909 - recall: 0.9854 - val_loss: 0.3456 - val_categorical_accuracy: 0.9041 - val_precision: 0.9340 - val_recall: 0.8945 - lr: 5.0000e-05\n",
      "Epoch 14/50\n",
      "176/176 [==============================] - 13s 71ms/step - loss: 0.0471 - categorical_accuracy: 0.9884 - precision: 0.9899 - recall: 0.9855 - val_loss: 0.3433 - val_categorical_accuracy: 0.9062 - val_precision: 0.9354 - val_recall: 0.8942 - lr: 5.0000e-05\n",
      "Epoch 15/50\n",
      "176/176 [==============================] - 13s 70ms/step - loss: 0.0445 - categorical_accuracy: 0.9894 - precision: 0.9906 - recall: 0.9864 - val_loss: 0.3387 - val_categorical_accuracy: 0.9041 - val_precision: 0.9320 - val_recall: 0.8913 - lr: 5.0000e-05\n",
      "Epoch 16/50\n",
      "176/176 [==============================] - 13s 71ms/step - loss: 0.0390 - categorical_accuracy: 0.9909 - precision: 0.9919 - recall: 0.9884 - val_loss: 0.3342 - val_categorical_accuracy: 0.9080 - val_precision: 0.9326 - val_recall: 0.8938 - lr: 5.0000e-05\n",
      "Epoch 17/50\n",
      "176/176 [==============================] - 13s 71ms/step - loss: 0.0350 - categorical_accuracy: 0.9924 - precision: 0.9929 - recall: 0.9910 - val_loss: 0.3422 - val_categorical_accuracy: 0.9027 - val_precision: 0.9255 - val_recall: 0.8906 - lr: 5.0000e-05\n",
      "Epoch 18/50\n",
      "176/176 [==============================] - 13s 70ms/step - loss: 0.0338 - categorical_accuracy: 0.9928 - precision: 0.9933 - recall: 0.9914 - val_loss: 0.3408 - val_categorical_accuracy: 0.9045 - val_precision: 0.9269 - val_recall: 0.8917 - lr: 5.0000e-05\n",
      "Epoch 19/50\n",
      "176/176 [==============================] - 13s 71ms/step - loss: 0.0291 - categorical_accuracy: 0.9928 - precision: 0.9937 - recall: 0.9919 - val_loss: 0.3251 - val_categorical_accuracy: 0.9084 - val_precision: 0.9285 - val_recall: 0.8991 - lr: 2.5000e-05\n",
      "Epoch 20/50\n",
      "176/176 [==============================] - 13s 71ms/step - loss: 0.0257 - categorical_accuracy: 0.9935 - precision: 0.9943 - recall: 0.9929 - val_loss: 0.3283 - val_categorical_accuracy: 0.9070 - val_precision: 0.9297 - val_recall: 0.8974 - lr: 2.5000e-05\n",
      "Epoch 21/50\n",
      "176/176 [==============================] - 13s 71ms/step - loss: 0.0250 - categorical_accuracy: 0.9939 - precision: 0.9947 - recall: 0.9932 - val_loss: 0.3363 - val_categorical_accuracy: 0.9048 - val_precision: 0.9303 - val_recall: 0.8952 - lr: 2.5000e-05\n",
      "Epoch 22/50\n",
      "176/176 [==============================] - 13s 71ms/step - loss: 0.0232 - categorical_accuracy: 0.9943 - precision: 0.9948 - recall: 0.9936 - val_loss: 0.3250 - val_categorical_accuracy: 0.9059 - val_precision: 0.9302 - val_recall: 0.8945 - lr: 1.2500e-05\n",
      "Epoch 23/50\n",
      "176/176 [==============================] - 13s 71ms/step - loss: 0.0218 - categorical_accuracy: 0.9952 - precision: 0.9954 - recall: 0.9947 - val_loss: 0.3235 - val_categorical_accuracy: 0.9084 - val_precision: 0.9310 - val_recall: 0.8967 - lr: 1.2500e-05\n",
      "Epoch 24/50\n",
      "176/176 [==============================] - 13s 70ms/step - loss: 0.0215 - categorical_accuracy: 0.9941 - precision: 0.9945 - recall: 0.9937 - val_loss: 0.3213 - val_categorical_accuracy: 0.9087 - val_precision: 0.9314 - val_recall: 0.8974 - lr: 6.2500e-06\n",
      "Epoch 25/50\n",
      "176/176 [==============================] - 13s 70ms/step - loss: 0.0212 - categorical_accuracy: 0.9937 - precision: 0.9938 - recall: 0.9932 - val_loss: 0.3224 - val_categorical_accuracy: 0.9084 - val_precision: 0.9311 - val_recall: 0.8974 - lr: 6.2500e-06\n",
      "Epoch 26/50\n",
      "176/176 [==============================] - 13s 71ms/step - loss: 0.0219 - categorical_accuracy: 0.9945 - precision: 0.9946 - recall: 0.9939 - val_loss: 0.3212 - val_categorical_accuracy: 0.9105 - val_precision: 0.9309 - val_recall: 0.8988 - lr: 6.2500e-06\n",
      "Epoch 27/50\n",
      "176/176 [==============================] - 13s 71ms/step - loss: 0.0202 - categorical_accuracy: 0.9941 - precision: 0.9945 - recall: 0.9933 - val_loss: 0.3199 - val_categorical_accuracy: 0.9098 - val_precision: 0.9304 - val_recall: 0.8967 - lr: 6.2500e-06\n",
      "Epoch 28/50\n",
      "176/176 [==============================] - 13s 71ms/step - loss: 0.0196 - categorical_accuracy: 0.9949 - precision: 0.9952 - recall: 0.9942 - val_loss: 0.3221 - val_categorical_accuracy: 0.9087 - val_precision: 0.9315 - val_recall: 0.8988 - lr: 6.2500e-06\n",
      "Epoch 29/50\n",
      "176/176 [==============================] - 13s 71ms/step - loss: 0.0190 - categorical_accuracy: 0.9949 - precision: 0.9954 - recall: 0.9947 - val_loss: 0.3196 - val_categorical_accuracy: 0.9066 - val_precision: 0.9287 - val_recall: 0.8970 - lr: 3.1250e-06\n",
      "Epoch 30/50\n",
      "176/176 [==============================] - 13s 71ms/step - loss: 0.0196 - categorical_accuracy: 0.9944 - precision: 0.9946 - recall: 0.9940 - val_loss: 0.3217 - val_categorical_accuracy: 0.9073 - val_precision: 0.9279 - val_recall: 0.8963 - lr: 3.1250e-06\n",
      "Epoch 31/50\n",
      "176/176 [==============================] - 13s 71ms/step - loss: 0.0179 - categorical_accuracy: 0.9951 - precision: 0.9954 - recall: 0.9949 - val_loss: 0.3205 - val_categorical_accuracy: 0.9073 - val_precision: 0.9293 - val_recall: 0.8963 - lr: 1.5625e-06\n",
      "Epoch 32/50\n",
      "176/176 [==============================] - 13s 70ms/step - loss: 0.0183 - categorical_accuracy: 0.9954 - precision: 0.9955 - recall: 0.9948 - val_loss: 0.3211 - val_categorical_accuracy: 0.9055 - val_precision: 0.9296 - val_recall: 0.8960 - lr: 1.5625e-06\n",
      "Epoch 33/50\n",
      "176/176 [==============================] - 13s 71ms/step - loss: 0.0179 - categorical_accuracy: 0.9956 - precision: 0.9956 - recall: 0.9955 - val_loss: 0.3202 - val_categorical_accuracy: 0.9066 - val_precision: 0.9307 - val_recall: 0.8970 - lr: 7.8125e-07\n",
      "Epoch 34/50\n",
      "176/176 [==============================] - 13s 72ms/step - loss: 0.0186 - categorical_accuracy: 0.9951 - precision: 0.9956 - recall: 0.9949 - val_loss: 0.3209 - val_categorical_accuracy: 0.9059 - val_precision: 0.9293 - val_recall: 0.8967 - lr: 7.8125e-07\n",
      "Epoch 35/50\n",
      "176/176 [==============================] - 13s 71ms/step - loss: 0.0179 - categorical_accuracy: 0.9958 - precision: 0.9959 - recall: 0.9955 - val_loss: 0.3206 - val_categorical_accuracy: 0.9070 - val_precision: 0.9297 - val_recall: 0.8967 - lr: 3.9062e-07\n",
      "Epoch 36/50\n",
      "176/176 [==============================] - 13s 71ms/step - loss: 0.0189 - categorical_accuracy: 0.9949 - precision: 0.9953 - recall: 0.9944 - val_loss: 0.3200 - val_categorical_accuracy: 0.9070 - val_precision: 0.9290 - val_recall: 0.8970 - lr: 3.9062e-07\n",
      "Epoch 37/50\n",
      "176/176 [==============================] - 13s 71ms/step - loss: 0.0175 - categorical_accuracy: 0.9962 - precision: 0.9964 - recall: 0.9959 - val_loss: 0.3202 - val_categorical_accuracy: 0.9070 - val_precision: 0.9297 - val_recall: 0.8974 - lr: 1.9531e-07\n",
      "Epoch 38/50\n",
      "176/176 [==============================] - 13s 71ms/step - loss: 0.0171 - categorical_accuracy: 0.9952 - precision: 0.9956 - recall: 0.9950 - val_loss: 0.3203 - val_categorical_accuracy: 0.9077 - val_precision: 0.9301 - val_recall: 0.8974 - lr: 1.9531e-07\n",
      "Epoch 39/50\n",
      "176/176 [==============================] - 13s 72ms/step - loss: 0.0178 - categorical_accuracy: 0.9952 - precision: 0.9954 - recall: 0.9952 - val_loss: 0.3202 - val_categorical_accuracy: 0.9080 - val_precision: 0.9291 - val_recall: 0.8977 - lr: 9.7656e-08\n",
      "Epoch 40/50\n",
      "176/176 [==============================] - 13s 70ms/step - loss: 0.0181 - categorical_accuracy: 0.9950 - precision: 0.9952 - recall: 0.9947 - val_loss: 0.3199 - val_categorical_accuracy: 0.9077 - val_precision: 0.9297 - val_recall: 0.8970 - lr: 9.7656e-08\n",
      "Epoch 41/50\n",
      "176/176 [==============================] - 13s 71ms/step - loss: 0.0173 - categorical_accuracy: 0.9955 - precision: 0.9957 - recall: 0.9951 - val_loss: 0.3203 - val_categorical_accuracy: 0.9073 - val_precision: 0.9300 - val_recall: 0.8967 - lr: 4.8828e-08\n",
      "Epoch 42/50\n",
      "176/176 [==============================] - 13s 71ms/step - loss: 0.0178 - categorical_accuracy: 0.9954 - precision: 0.9956 - recall: 0.9953 - val_loss: 0.3202 - val_categorical_accuracy: 0.9077 - val_precision: 0.9294 - val_recall: 0.8970 - lr: 4.8828e-08\n",
      "Epoch 43/50\n",
      "176/176 [==============================] - 13s 72ms/step - loss: 0.0171 - categorical_accuracy: 0.9960 - precision: 0.9961 - recall: 0.9956 - val_loss: 0.3207 - val_categorical_accuracy: 0.9084 - val_precision: 0.9297 - val_recall: 0.8970 - lr: 2.4414e-08\n",
      "Epoch 44/50\n",
      "176/176 [==============================] - 13s 71ms/step - loss: 0.0167 - categorical_accuracy: 0.9962 - precision: 0.9963 - recall: 0.9956 - val_loss: 0.3207 - val_categorical_accuracy: 0.9077 - val_precision: 0.9293 - val_recall: 0.8967 - lr: 2.4414e-08\n",
      "Epoch 45/50\n",
      "176/176 [==============================] - 13s 71ms/step - loss: 0.0182 - categorical_accuracy: 0.9954 - precision: 0.9955 - recall: 0.9953 - val_loss: 0.3199 - val_categorical_accuracy: 0.9077 - val_precision: 0.9293 - val_recall: 0.8967 - lr: 1.2207e-08\n",
      "Epoch 46/50\n",
      "176/176 [==============================] - 13s 71ms/step - loss: 0.0181 - categorical_accuracy: 0.9955 - precision: 0.9956 - recall: 0.9952 - val_loss: 0.3203 - val_categorical_accuracy: 0.9070 - val_precision: 0.9290 - val_recall: 0.8974 - lr: 1.2207e-08\n",
      "Epoch 47/50\n",
      "176/176 [==============================] - 13s 70ms/step - loss: 0.0178 - categorical_accuracy: 0.9956 - precision: 0.9959 - recall: 0.9954 - val_loss: 0.3204 - val_categorical_accuracy: 0.9080 - val_precision: 0.9298 - val_recall: 0.8977 - lr: 1.0000e-08\n",
      "Epoch 48/50\n",
      "176/176 [==============================] - 13s 71ms/step - loss: 0.0170 - categorical_accuracy: 0.9958 - precision: 0.9960 - recall: 0.9957 - val_loss: 0.3201 - val_categorical_accuracy: 0.9084 - val_precision: 0.9301 - val_recall: 0.8977 - lr: 1.0000e-08\n",
      "Epoch 49/50\n",
      "176/176 [==============================] - 13s 71ms/step - loss: 0.0182 - categorical_accuracy: 0.9953 - precision: 0.9956 - recall: 0.9950 - val_loss: 0.3203 - val_categorical_accuracy: 0.9077 - val_precision: 0.9294 - val_recall: 0.8970 - lr: 1.0000e-08\n",
      "Epoch 50/50\n",
      "176/176 [==============================] - 13s 70ms/step - loss: 0.0186 - categorical_accuracy: 0.9952 - precision: 0.9956 - recall: 0.9948 - val_loss: 0.3203 - val_categorical_accuracy: 0.9084 - val_precision: 0.9301 - val_recall: 0.8981 - lr: 1.0000e-08\n"
     ]
    }
   ],
   "source": [
    "# Train Model\n",
    "log_dir = \"../Running result/ECA/ECA1\"\n",
    "tensorboard_callback = tf.keras.callbacks.TensorBoard(log_dir=log_dir, histogram_freq=1)\n",
    "lr_scheduler = tf.keras.callbacks.ReduceLROnPlateau(monitor='val_categorical_accuracy', factor=0.5, patience=2, min_lr=1e-8)\n",
    "\n",
    "history = model.fit(train_ds, epochs=EPOCHS, validation_data=vaild_ds, callbacks=[lr_scheduler, tensorboard_callback])"
   ]
  },
  {
   "cell_type": "code",
   "execution_count": 16,
   "metadata": {},
   "outputs": [
    {
     "name": "stdout",
     "output_type": "stream",
     "text": [
      "Training history saved to: ../Running result/1/1/1.xlsx\n"
     ]
    },
    {
     "name": "stderr",
     "output_type": "stream",
     "text": [
      "/root/anaconda3/lib/python3.11/site-packages/keras/src/engine/training.py:3103: UserWarning: You are saving your model as an HDF5 file via `model.save()`. This file format is considered legacy. We recommend using instead the native Keras format, e.g. `model.save('my_model.keras')`.\n",
      "  saving_api.save_model(\n"
     ]
    },
    {
     "name": "stdout",
     "output_type": "stream",
     "text": [
      "Model saved to: ../Running result/1/1/1.h5\n"
     ]
    }
   ],
   "source": [
    "import pandas as pd  # Import Pandas library\n",
    "import os\n",
    "\n",
    "# Define save path\n",
    "model_dir = \"../Running result/1/1\"\n",
    "excel_file_path = os.path.join(model_dir, \"1.xlsx\")  # Path to save the Excel file\n",
    "model_file_path = os.path.join(model_dir, \"1.h5\")  # Path to save the model\n",
    "\n",
    "# Check if the save directory exists; create it if it does not\n",
    "if not os.path.exists(model_dir):\n",
    "    os.makedirs(model_dir)\n",
    "\n",
    "# Save training history to an Excel file\n",
    "history_df = pd.DataFrame(history.history)  \n",
    "history_df.to_excel(excel_file_path, index=False)\n",
    "print(f\"Training history saved to: {excel_file_path}\")\n",
    "\n",
    "# Save the model to the specified path\n",
    "model.save(model_file_path)\n",
    "print(f\"Model saved to: {model_file_path}\")\n"
   ]
  },
  {
   "cell_type": "code",
   "execution_count": null,
   "metadata": {},
   "outputs": [],
   "source": []
  }
 ],
 "metadata": {
  "accelerator": "GPU",
  "colab": {
   "provenance": []
  },
  "kernelspec": {
   "display_name": "Python 3 (ipykernel)",
   "language": "python",
   "name": "python3"
  },
  "language_info": {
   "codemirror_mode": {
    "name": "ipython",
    "version": 3
   },
   "file_extension": ".py",
   "mimetype": "text/x-python",
   "name": "python",
   "nbconvert_exporter": "python",
   "pygments_lexer": "ipython3",
   "version": "3.11.7"
  }
 },
 "nbformat": 4,
 "nbformat_minor": 4
}
