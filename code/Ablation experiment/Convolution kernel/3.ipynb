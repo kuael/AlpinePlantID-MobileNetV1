{
 "cells": [
  {
   "cell_type": "code",
   "execution_count": 1,
   "metadata": {},
   "outputs": [],
   "source": [
    "import tensorflow as tf  \n",
    "import numpy as np       \n",
    "import pandas as pd       \n",
    "from matplotlib import pyplot as plt   \n",
    "import seaborn as sns  \n",
    "import time          \n",
    "from tensorflow.keras.callbacks import History, ReduceLROnPlateau, TensorBoard       \n",
    "from tensorflow.keras import metrics          \n",
    "from sklearn.metrics import confusion_matrix          \n",
    "import pickle\n",
    "from tensorflow.keras.applications import MobileNet\n",
    "from tensorflow.keras.layers import GlobalAveragePooling2D, Reshape, multiply, add, Dense, Conv2D, GlobalMaxPooling2D, Activation\n",
    "from tensorflow.keras import backend as K\n",
    "import platform\n",
    "import os\n",
    "from tensorflow.keras.layers import GlobalAveragePooling2D, Multiply, Dense\n",
    "from keras.layers import GlobalAveragePooling2D, Dense, Multiply\n",
    "import platform\n",
    "import os"
   ]
  },
  {
   "cell_type": "code",
   "execution_count": 2,
   "metadata": {},
   "outputs": [],
   "source": [
    "# Display Settings\n",
    "pd.options.display.max_columns = None\n",
    "pd.options.display.max_rows = None\n",
    "sns.set()"
   ]
  },
  {
   "cell_type": "code",
   "execution_count": 3,
   "metadata": {},
   "outputs": [
    {
     "name": "stdout",
     "output_type": "stream",
     "text": [
      "Python version:  3.11.7\n",
      "TensorFlow version:  2.15.0\n",
      "Current working directory:  /root/.jupyter/张彤/消融实验\n",
      "Linux w3q2ulc9.vm 5.15.0-60-generic #66-Ubuntu SMP Fri Jan 20 14:29:49 UTC 2023 x86_64 x86_64 x86_64 GNU/Linux\n",
      "Sun Oct 27 16:11:08 2024       \n",
      "+---------------------------------------------------------------------------------------+\n",
      "| NVIDIA-SMI 545.23.08              Driver Version: 545.23.08    CUDA Version: 12.3     |\n",
      "|-----------------------------------------+----------------------+----------------------+\n",
      "| GPU  Name                 Persistence-M | Bus-Id        Disp.A | Volatile Uncorr. ECC |\n",
      "| Fan  Temp   Perf          Pwr:Usage/Cap |         Memory-Usage | GPU-Util  Compute M. |\n",
      "|                                         |                      |               MIG M. |\n",
      "|=========================================+======================+======================|\n",
      "|   0  NVIDIA GeForce RTX 4090        On  | 00000000:09:00.0 Off |                  Off |\n",
      "|  0%   24C    P8               8W / 450W |      3MiB / 24564MiB |      0%      Default |\n",
      "|                                         |                      |                  N/A |\n",
      "+-----------------------------------------+----------------------+----------------------+\n",
      "|   1  NVIDIA GeForce RTX 4090        On  | 00000000:0B:00.0 Off |                  Off |\n",
      "|  0%   25C    P8               3W / 450W |      3MiB / 24564MiB |      0%      Default |\n",
      "|                                         |                      |                  N/A |\n",
      "+-----------------------------------------+----------------------+----------------------+\n",
      "                                                                                         \n",
      "+---------------------------------------------------------------------------------------+\n",
      "| Processes:                                                                            |\n",
      "|  GPU   GI   CI        PID   Type   Process name                            GPU Memory |\n",
      "|        ID   ID                                                             Usage      |\n",
      "|=======================================================================================|\n",
      "|  No running processes found                                                           |\n",
      "+---------------------------------------------------------------------------------------+\n"
     ]
    }
   ],
   "source": [
    "# System Information Print the Python version\n",
    "print(\"Python version: \", platform.python_version())\n",
    "print(\"TensorFlow version: \", tf.__version__)\n",
    "print(\"Current working directory: \", os.getcwd())\n",
    "!uname -a\n",
    "!nvidia-smi"
   ]
  },
  {
   "cell_type": "code",
   "execution_count": 4,
   "metadata": {},
   "outputs": [],
   "source": [
    "# Hyperparameter Settings\n",
    "EPOCHS = 50\n",
    "IMAGE_SIZE = (224, 224)\n",
    "IMAGE_PATH = \"../data\"\n",
    "LEARNING_RATE = 1e-4\n",
    "BATCH_SIZE = 64"
   ]
  },
  {
   "cell_type": "code",
   "execution_count": 5,
   "metadata": {},
   "outputs": [
    {
     "name": "stdout",
     "output_type": "stream",
     "text": [
      "Found 14080 files belonging to 100 classes.\n",
      "Using 11264 files for training.\n"
     ]
    },
    {
     "name": "stderr",
     "output_type": "stream",
     "text": [
      "2024-10-27 16:11:10.564041: I external/local_xla/xla/stream_executor/cuda/cuda_executor.cc:901] successful NUMA node read from SysFS had negative value (-1), but there must be at least one NUMA node, so returning NUMA node zero. See more at https://github.com/torvalds/linux/blob/v6.0/Documentation/ABI/testing/sysfs-bus-pci#L344-L355\n",
      "2024-10-27 16:11:10.564423: I external/local_xla/xla/stream_executor/cuda/cuda_executor.cc:901] successful NUMA node read from SysFS had negative value (-1), but there must be at least one NUMA node, so returning NUMA node zero. See more at https://github.com/torvalds/linux/blob/v6.0/Documentation/ABI/testing/sysfs-bus-pci#L344-L355\n",
      "2024-10-27 16:11:10.680285: I external/local_xla/xla/stream_executor/cuda/cuda_executor.cc:901] successful NUMA node read from SysFS had negative value (-1), but there must be at least one NUMA node, so returning NUMA node zero. See more at https://github.com/torvalds/linux/blob/v6.0/Documentation/ABI/testing/sysfs-bus-pci#L344-L355\n",
      "2024-10-27 16:11:10.680554: I external/local_xla/xla/stream_executor/cuda/cuda_executor.cc:901] successful NUMA node read from SysFS had negative value (-1), but there must be at least one NUMA node, so returning NUMA node zero. See more at https://github.com/torvalds/linux/blob/v6.0/Documentation/ABI/testing/sysfs-bus-pci#L344-L355\n",
      "2024-10-27 16:11:10.680721: I external/local_xla/xla/stream_executor/cuda/cuda_executor.cc:901] successful NUMA node read from SysFS had negative value (-1), but there must be at least one NUMA node, so returning NUMA node zero. See more at https://github.com/torvalds/linux/blob/v6.0/Documentation/ABI/testing/sysfs-bus-pci#L344-L355\n",
      "2024-10-27 16:11:10.680878: I external/local_xla/xla/stream_executor/cuda/cuda_executor.cc:901] successful NUMA node read from SysFS had negative value (-1), but there must be at least one NUMA node, so returning NUMA node zero. See more at https://github.com/torvalds/linux/blob/v6.0/Documentation/ABI/testing/sysfs-bus-pci#L344-L355\n",
      "2024-10-27 16:11:10.844418: I external/local_xla/xla/stream_executor/cuda/cuda_executor.cc:901] successful NUMA node read from SysFS had negative value (-1), but there must be at least one NUMA node, so returning NUMA node zero. See more at https://github.com/torvalds/linux/blob/v6.0/Documentation/ABI/testing/sysfs-bus-pci#L344-L355\n",
      "2024-10-27 16:11:10.844656: I external/local_xla/xla/stream_executor/cuda/cuda_executor.cc:901] successful NUMA node read from SysFS had negative value (-1), but there must be at least one NUMA node, so returning NUMA node zero. See more at https://github.com/torvalds/linux/blob/v6.0/Documentation/ABI/testing/sysfs-bus-pci#L344-L355\n",
      "2024-10-27 16:11:10.844828: I external/local_xla/xla/stream_executor/cuda/cuda_executor.cc:901] successful NUMA node read from SysFS had negative value (-1), but there must be at least one NUMA node, so returning NUMA node zero. See more at https://github.com/torvalds/linux/blob/v6.0/Documentation/ABI/testing/sysfs-bus-pci#L344-L355\n",
      "2024-10-27 16:11:10.844985: I external/local_xla/xla/stream_executor/cuda/cuda_executor.cc:901] successful NUMA node read from SysFS had negative value (-1), but there must be at least one NUMA node, so returning NUMA node zero. See more at https://github.com/torvalds/linux/blob/v6.0/Documentation/ABI/testing/sysfs-bus-pci#L344-L355\n",
      "2024-10-27 16:11:10.845137: I external/local_xla/xla/stream_executor/cuda/cuda_executor.cc:901] successful NUMA node read from SysFS had negative value (-1), but there must be at least one NUMA node, so returning NUMA node zero. See more at https://github.com/torvalds/linux/blob/v6.0/Documentation/ABI/testing/sysfs-bus-pci#L344-L355\n",
      "2024-10-27 16:11:10.845290: I external/local_xla/xla/stream_executor/cuda/cuda_executor.cc:901] successful NUMA node read from SysFS had negative value (-1), but there must be at least one NUMA node, so returning NUMA node zero. See more at https://github.com/torvalds/linux/blob/v6.0/Documentation/ABI/testing/sysfs-bus-pci#L344-L355\n",
      "2024-10-27 16:11:10.860391: I external/local_xla/xla/stream_executor/cuda/cuda_executor.cc:901] successful NUMA node read from SysFS had negative value (-1), but there must be at least one NUMA node, so returning NUMA node zero. See more at https://github.com/torvalds/linux/blob/v6.0/Documentation/ABI/testing/sysfs-bus-pci#L344-L355\n",
      "2024-10-27 16:11:10.860627: I external/local_xla/xla/stream_executor/cuda/cuda_executor.cc:901] successful NUMA node read from SysFS had negative value (-1), but there must be at least one NUMA node, so returning NUMA node zero. See more at https://github.com/torvalds/linux/blob/v6.0/Documentation/ABI/testing/sysfs-bus-pci#L344-L355\n",
      "2024-10-27 16:11:10.860800: I external/local_xla/xla/stream_executor/cuda/cuda_executor.cc:901] successful NUMA node read from SysFS had negative value (-1), but there must be at least one NUMA node, so returning NUMA node zero. See more at https://github.com/torvalds/linux/blob/v6.0/Documentation/ABI/testing/sysfs-bus-pci#L344-L355\n",
      "2024-10-27 16:11:10.860967: I external/local_xla/xla/stream_executor/cuda/cuda_executor.cc:901] successful NUMA node read from SysFS had negative value (-1), but there must be at least one NUMA node, so returning NUMA node zero. See more at https://github.com/torvalds/linux/blob/v6.0/Documentation/ABI/testing/sysfs-bus-pci#L344-L355\n",
      "2024-10-27 16:11:10.861136: I external/local_xla/xla/stream_executor/cuda/cuda_executor.cc:901] successful NUMA node read from SysFS had negative value (-1), but there must be at least one NUMA node, so returning NUMA node zero. See more at https://github.com/torvalds/linux/blob/v6.0/Documentation/ABI/testing/sysfs-bus-pci#L344-L355\n",
      "2024-10-27 16:11:10.861272: I tensorflow/core/common_runtime/gpu/gpu_device.cc:1929] Created device /job:localhost/replica:0/task:0/device:GPU:0 with 22287 MB memory:  -> device: 0, name: NVIDIA GeForce RTX 4090, pci bus id: 0000:09:00.0, compute capability: 8.9\n",
      "2024-10-27 16:11:10.862009: I external/local_xla/xla/stream_executor/cuda/cuda_executor.cc:901] successful NUMA node read from SysFS had negative value (-1), but there must be at least one NUMA node, so returning NUMA node zero. See more at https://github.com/torvalds/linux/blob/v6.0/Documentation/ABI/testing/sysfs-bus-pci#L344-L355\n",
      "2024-10-27 16:11:10.862160: I tensorflow/core/common_runtime/gpu/gpu_device.cc:1929] Created device /job:localhost/replica:0/task:0/device:GPU:1 with 22287 MB memory:  -> device: 1, name: NVIDIA GeForce RTX 4090, pci bus id: 0000:0b:00.0, compute capability: 8.9\n",
      "2024-10-27 16:11:11.475650: I external/local_tsl/tsl/platform/default/subprocess.cc:304] Start cannot spawn child process: No such file or directory\n"
     ]
    },
    {
     "name": "stdout",
     "output_type": "stream",
     "text": [
      "Found 14080 files belonging to 100 classes.\n",
      "Using 2816 files for validation.\n"
     ]
    }
   ],
   "source": [
    "# Load Dataset\n",
    "train_ds = tf.keras.utils.image_dataset_from_directory(\n",
    "    IMAGE_PATH,\n",
    "    validation_split=0.2,\n",
    "    subset=\"training\",    \n",
    "    seed=123,\n",
    "    image_size=IMAGE_SIZE,\n",
    "    batch_size=BATCH_SIZE\n",
    ")\n",
    "\n",
    "vaild_ds = tf.keras.utils.image_dataset_from_directory(\n",
    "    IMAGE_PATH,\n",
    "    validation_split=0.2,\n",
    "    subset=\"validation\",\n",
    "    seed=123,\n",
    "    image_size=IMAGE_SIZE,\n",
    "    batch_size=BATCH_SIZE\n",
    ")"
   ]
  },
  {
   "cell_type": "code",
   "execution_count": 6,
   "metadata": {},
   "outputs": [],
   "source": [
    "# Image Normalization\n",
    "mean = [0.485, 0.456, 0.406]\n",
    "std = [0.229, 0.224, 0.225]\n",
    "\n",
    "def normalize_image(image):\n",
    "    return (image - mean_tensor) / std_tensor\n"
   ]
  },
  {
   "cell_type": "code",
   "execution_count": 7,
   "metadata": {},
   "outputs": [],
   "source": [
    "# Data Augmentation\n",
    "train_image_augment = tf.keras.Sequential([\n",
    "    tf.keras.layers.Rescaling(1 / 255.0),\n",
    "    tf.keras.layers.RandomRotation(factor=0.2),\n",
    "    tf.keras.layers.RandomFlip(),\n",
    "])\n",
    "\n",
    "valid_image_augment = tf.keras.Sequential([\n",
    "    tf.keras.layers.Rescaling(1 / 255.0),\n",
    "])"
   ]
  },
  {
   "cell_type": "code",
   "execution_count": 8,
   "metadata": {},
   "outputs": [],
   "source": [
    "# Input Processing\n",
    "def process_train_input(images, labels):\n",
    "    return train_image_augment(images), labels\n",
    "\n",
    "def process_valid_input(images, labels):\n",
    "    return valid_image_augment(images), labels\n"
   ]
  },
  {
   "cell_type": "code",
   "execution_count": 9,
   "metadata": {},
   "outputs": [],
   "source": [
    "# Data Preprocessing\n",
    "def convert_types_and_encode(x, y):\n",
    "    y = tf.cast(y, tf.int32)  \n",
    "    y_one_hot = tf.one_hot(y, 100)  \n",
    "    return x, y_one_hot"
   ]
  },
  {
   "cell_type": "code",
   "execution_count": 10,
   "metadata": {},
   "outputs": [],
   "source": [
    "# Apply Data Preprocessing\n",
    "train_ds = train_ds.map(convert_types_and_encode)\n",
    "train_ds = train_ds.map(process_train_input, num_parallel_calls=tf.data.AUTOTUNE)\n",
    "train_ds = train_ds.prefetch(tf.data.AUTOTUNE)\n",
    "\n",
    "vaild_ds = vaild_ds.map(convert_types_and_encode)\n",
    "vaild_ds = vaild_ds.map(process_valid_input, num_parallel_calls=tf.data.AUTOTUNE)\n",
    "vaild_ds = vaild_ds.prefetch(tf.data.AUTOTUNE)"
   ]
  },
  {
   "cell_type": "code",
   "execution_count": 11,
   "metadata": {},
   "outputs": [],
   "source": [
    "# Define the ECA layer\n",
    "def eca_layer(input_tensor, k_size=3):\n",
    "    # Apply average pooling across the spatial dimensions\n",
    "    avg_pool = K.mean(input_tensor, axis=[1, 2], keepdims=True)\n",
    "    # Apply Conv2D instead of Conv1D for 2D spatial data\n",
    "    conv = Conv2D(filters=1, kernel_size=(k_size, 1), padding='same', activation='sigmoid')(avg_pool)\n",
    "    # Multiply the attention map with the input feature maps\n",
    "    weighted_input = Multiply()([input_tensor, conv])  \n",
    "    return weighted_input\n",
    "\n",
    "# Create MobileNet base model\n",
    "base_model = MobileNet(input_shape=(224, 224, 3), include_top=False, weights='imagenet')\n",
    "feature_maps = base_model.output\n",
    "\n",
    "# Add ECA layer\n",
    "eca_feature_maps = eca_layer(feature_maps)\n",
    "\n",
    "# Add global average pooling\n",
    "x = GlobalAveragePooling2D()(eca_feature_maps)\n",
    "\n",
    "# Add fully connected layers\n",
    "x = Dense(1024, activation='relu')(x)\n",
    "outputs = Dense(100, activation='softmax')(x)\n",
    "\n",
    "# Create the final model\n",
    "model = tf.keras.Model(inputs=base_model.input, outputs=outputs)\n",
    "\n",
    "# Compile the model\n",
    "model.compile(optimizer='adam', loss='categorical_crossentropy', metrics=['accuracy'])\n"
   ]
  },
  {
   "cell_type": "code",
   "execution_count": 12,
   "metadata": {},
   "outputs": [],
   "source": [
    "# Compile Model\n",
    "optimizer = tf.keras.optimizers.Adam(learning_rate=LEARNING_RATE)\n",
    "loss_fn = tf.keras.losses.CategoricalCrossentropy()\n",
    "metrics = [\n",
    "    tf.keras.metrics.CategoricalAccuracy(),\n",
    "    tf.keras.metrics.Precision(),\n",
    "    tf.keras.metrics.Recall(),\n",
    "]\n",
    "\n",
    "model.compile(optimizer=optimizer, loss=loss_fn, metrics=metrics)"
   ]
  },
  {
   "cell_type": "code",
   "execution_count": 13,
   "metadata": {},
   "outputs": [
    {
     "name": "stdout",
     "output_type": "stream",
     "text": [
      "Epoch 1/50\n"
     ]
    },
    {
     "name": "stderr",
     "output_type": "stream",
     "text": [
      "2024-10-27 16:11:25.791755: I external/local_xla/xla/stream_executor/cuda/cuda_dnn.cc:454] Loaded cuDNN version 8904\n",
      "2024-10-27 16:11:26.010528: I external/local_tsl/tsl/platform/default/subprocess.cc:304] Start cannot spawn child process: No such file or directory\n",
      "2024-10-27 16:11:27.202888: I external/local_xla/xla/service/service.cc:168] XLA service 0xc9b9570 initialized for platform CUDA (this does not guarantee that XLA will be used). Devices:\n",
      "2024-10-27 16:11:27.202963: I external/local_xla/xla/service/service.cc:176]   StreamExecutor device (0): NVIDIA GeForce RTX 4090, Compute Capability 8.9\n",
      "2024-10-27 16:11:27.202985: I external/local_xla/xla/service/service.cc:176]   StreamExecutor device (1): NVIDIA GeForce RTX 4090, Compute Capability 8.9\n",
      "2024-10-27 16:11:27.226287: I tensorflow/compiler/mlir/tensorflow/utils/dump_mlir_util.cc:269] disabling MLIR crash reproducer, set env var `MLIR_CRASH_REPRODUCER_DIRECTORY` to enable.\n",
      "WARNING: All log messages before absl::InitializeLog() is called are written to STDERR\n",
      "I0000 00:00:1730016687.479263    1701 device_compiler.h:186] Compiled cluster using XLA!  This line is logged at most once for the lifetime of the process.\n"
     ]
    },
    {
     "name": "stdout",
     "output_type": "stream",
     "text": [
      "176/176 [==============================] - 34s 79ms/step - loss: 2.5141 - categorical_accuracy: 0.4374 - precision: 0.8895 - recall: 0.2173 - val_loss: 1.5374 - val_categorical_accuracy: 0.5916 - val_precision: 0.8379 - val_recall: 0.3782 - lr: 1.0000e-04\n",
      "Epoch 2/50\n",
      "176/176 [==============================] - 13s 70ms/step - loss: 0.8843 - categorical_accuracy: 0.7648 - precision: 0.9090 - recall: 0.6255 - val_loss: 0.8338 - val_categorical_accuracy: 0.7702 - val_precision: 0.8945 - val_recall: 0.6506 - lr: 1.0000e-04\n",
      "Epoch 3/50\n",
      "176/176 [==============================] - 13s 72ms/step - loss: 0.5623 - categorical_accuracy: 0.8478 - precision: 0.9271 - recall: 0.7651 - val_loss: 0.6488 - val_categorical_accuracy: 0.8143 - val_precision: 0.9093 - val_recall: 0.7404 - lr: 1.0000e-04\n",
      "Epoch 4/50\n",
      "176/176 [==============================] - 13s 71ms/step - loss: 0.3928 - categorical_accuracy: 0.8949 - precision: 0.9451 - recall: 0.8379 - val_loss: 0.5514 - val_categorical_accuracy: 0.8487 - val_precision: 0.9168 - val_recall: 0.7788 - lr: 1.0000e-04\n",
      "Epoch 5/50\n",
      "176/176 [==============================] - 13s 71ms/step - loss: 0.2906 - categorical_accuracy: 0.9213 - precision: 0.9574 - recall: 0.8782 - val_loss: 0.4920 - val_categorical_accuracy: 0.8544 - val_precision: 0.9131 - val_recall: 0.8139 - lr: 1.0000e-04\n",
      "Epoch 6/50\n",
      "176/176 [==============================] - 13s 72ms/step - loss: 0.2398 - categorical_accuracy: 0.9338 - precision: 0.9626 - recall: 0.9037 - val_loss: 0.4636 - val_categorical_accuracy: 0.8576 - val_precision: 0.9065 - val_recall: 0.8267 - lr: 1.0000e-04\n",
      "Epoch 7/50\n",
      "176/176 [==============================] - 13s 72ms/step - loss: 0.1830 - categorical_accuracy: 0.9517 - precision: 0.9703 - recall: 0.9262 - val_loss: 0.4311 - val_categorical_accuracy: 0.8736 - val_precision: 0.9165 - val_recall: 0.8381 - lr: 1.0000e-04\n",
      "Epoch 8/50\n",
      "176/176 [==============================] - 13s 71ms/step - loss: 0.1450 - categorical_accuracy: 0.9626 - precision: 0.9756 - recall: 0.9465 - val_loss: 0.3967 - val_categorical_accuracy: 0.8853 - val_precision: 0.9236 - val_recall: 0.8626 - lr: 1.0000e-04\n",
      "Epoch 9/50\n",
      "176/176 [==============================] - 13s 71ms/step - loss: 0.1255 - categorical_accuracy: 0.9674 - precision: 0.9779 - recall: 0.9546 - val_loss: 0.4120 - val_categorical_accuracy: 0.8817 - val_precision: 0.9116 - val_recall: 0.8572 - lr: 1.0000e-04\n",
      "Epoch 10/50\n",
      "176/176 [==============================] - 13s 72ms/step - loss: 0.1058 - categorical_accuracy: 0.9723 - precision: 0.9807 - recall: 0.9608 - val_loss: 0.4155 - val_categorical_accuracy: 0.8832 - val_precision: 0.9150 - val_recall: 0.8604 - lr: 1.0000e-04\n",
      "Epoch 11/50\n",
      "176/176 [==============================] - 13s 71ms/step - loss: 0.0721 - categorical_accuracy: 0.9839 - precision: 0.9875 - recall: 0.9773 - val_loss: 0.3411 - val_categorical_accuracy: 0.9048 - val_precision: 0.9341 - val_recall: 0.8810 - lr: 5.0000e-05\n",
      "Epoch 12/50\n",
      "176/176 [==============================] - 13s 71ms/step - loss: 0.0577 - categorical_accuracy: 0.9876 - precision: 0.9899 - recall: 0.9833 - val_loss: 0.3416 - val_categorical_accuracy: 0.9009 - val_precision: 0.9288 - val_recall: 0.8849 - lr: 5.0000e-05\n",
      "Epoch 13/50\n",
      "176/176 [==============================] - 13s 70ms/step - loss: 0.0533 - categorical_accuracy: 0.9885 - precision: 0.9905 - recall: 0.9838 - val_loss: 0.3372 - val_categorical_accuracy: 0.9020 - val_precision: 0.9316 - val_recall: 0.8849 - lr: 5.0000e-05\n",
      "Epoch 14/50\n",
      "176/176 [==============================] - 13s 72ms/step - loss: 0.0456 - categorical_accuracy: 0.9909 - precision: 0.9924 - recall: 0.9874 - val_loss: 0.3215 - val_categorical_accuracy: 0.9084 - val_precision: 0.9312 - val_recall: 0.8896 - lr: 2.5000e-05\n",
      "Epoch 15/50\n",
      "176/176 [==============================] - 13s 73ms/step - loss: 0.0435 - categorical_accuracy: 0.9901 - precision: 0.9913 - recall: 0.9869 - val_loss: 0.3230 - val_categorical_accuracy: 0.9080 - val_precision: 0.9335 - val_recall: 0.8920 - lr: 2.5000e-05\n",
      "Epoch 16/50\n",
      "176/176 [==============================] - 13s 72ms/step - loss: 0.0400 - categorical_accuracy: 0.9920 - precision: 0.9932 - recall: 0.9889 - val_loss: 0.3214 - val_categorical_accuracy: 0.9105 - val_precision: 0.9326 - val_recall: 0.8949 - lr: 2.5000e-05\n",
      "Epoch 17/50\n",
      "176/176 [==============================] - 13s 72ms/step - loss: 0.0366 - categorical_accuracy: 0.9927 - precision: 0.9934 - recall: 0.9908 - val_loss: 0.3164 - val_categorical_accuracy: 0.9123 - val_precision: 0.9341 - val_recall: 0.8967 - lr: 2.5000e-05\n",
      "Epoch 18/50\n",
      "176/176 [==============================] - 13s 72ms/step - loss: 0.0364 - categorical_accuracy: 0.9924 - precision: 0.9928 - recall: 0.9907 - val_loss: 0.3269 - val_categorical_accuracy: 0.9112 - val_precision: 0.9320 - val_recall: 0.8960 - lr: 2.5000e-05\n",
      "Epoch 19/50\n",
      "176/176 [==============================] - 13s 72ms/step - loss: 0.0354 - categorical_accuracy: 0.9923 - precision: 0.9931 - recall: 0.9905 - val_loss: 0.3257 - val_categorical_accuracy: 0.9087 - val_precision: 0.9330 - val_recall: 0.8945 - lr: 2.5000e-05\n",
      "Epoch 20/50\n",
      "176/176 [==============================] - 13s 71ms/step - loss: 0.0314 - categorical_accuracy: 0.9936 - precision: 0.9943 - recall: 0.9920 - val_loss: 0.3137 - val_categorical_accuracy: 0.9130 - val_precision: 0.9372 - val_recall: 0.9006 - lr: 1.2500e-05\n",
      "Epoch 21/50\n",
      "176/176 [==============================] - 13s 73ms/step - loss: 0.0274 - categorical_accuracy: 0.9954 - precision: 0.9960 - recall: 0.9944 - val_loss: 0.3126 - val_categorical_accuracy: 0.9116 - val_precision: 0.9363 - val_recall: 0.8977 - lr: 1.2500e-05\n",
      "Epoch 22/50\n",
      "176/176 [==============================] - 13s 73ms/step - loss: 0.0285 - categorical_accuracy: 0.9943 - precision: 0.9951 - recall: 0.9935 - val_loss: 0.3192 - val_categorical_accuracy: 0.9077 - val_precision: 0.9323 - val_recall: 0.8949 - lr: 1.2500e-05\n",
      "Epoch 23/50\n",
      "176/176 [==============================] - 13s 72ms/step - loss: 0.0277 - categorical_accuracy: 0.9949 - precision: 0.9949 - recall: 0.9941 - val_loss: 0.3145 - val_categorical_accuracy: 0.9112 - val_precision: 0.9333 - val_recall: 0.8988 - lr: 6.2500e-06\n",
      "Epoch 24/50\n",
      "176/176 [==============================] - 13s 72ms/step - loss: 0.0271 - categorical_accuracy: 0.9942 - precision: 0.9948 - recall: 0.9931 - val_loss: 0.3118 - val_categorical_accuracy: 0.9119 - val_precision: 0.9337 - val_recall: 0.8995 - lr: 6.2500e-06\n",
      "Epoch 25/50\n",
      "176/176 [==============================] - 13s 72ms/step - loss: 0.0263 - categorical_accuracy: 0.9945 - precision: 0.9947 - recall: 0.9937 - val_loss: 0.3111 - val_categorical_accuracy: 0.9130 - val_precision: 0.9331 - val_recall: 0.9009 - lr: 3.1250e-06\n",
      "Epoch 26/50\n",
      "176/176 [==============================] - 13s 72ms/step - loss: 0.0249 - categorical_accuracy: 0.9949 - precision: 0.9950 - recall: 0.9941 - val_loss: 0.3093 - val_categorical_accuracy: 0.9123 - val_precision: 0.9327 - val_recall: 0.9002 - lr: 3.1250e-06\n",
      "Epoch 27/50\n",
      "176/176 [==============================] - 13s 72ms/step - loss: 0.0248 - categorical_accuracy: 0.9953 - precision: 0.9954 - recall: 0.9945 - val_loss: 0.3085 - val_categorical_accuracy: 0.9123 - val_precision: 0.9308 - val_recall: 0.8984 - lr: 1.5625e-06\n",
      "Epoch 28/50\n",
      "176/176 [==============================] - 13s 73ms/step - loss: 0.0243 - categorical_accuracy: 0.9951 - precision: 0.9956 - recall: 0.9943 - val_loss: 0.3078 - val_categorical_accuracy: 0.9126 - val_precision: 0.9323 - val_recall: 0.8995 - lr: 1.5625e-06\n",
      "Epoch 29/50\n",
      "176/176 [==============================] - 13s 72ms/step - loss: 0.0241 - categorical_accuracy: 0.9949 - precision: 0.9952 - recall: 0.9941 - val_loss: 0.3082 - val_categorical_accuracy: 0.9126 - val_precision: 0.9323 - val_recall: 0.8995 - lr: 7.8125e-07\n",
      "Epoch 30/50\n",
      "176/176 [==============================] - 14s 73ms/step - loss: 0.0240 - categorical_accuracy: 0.9949 - precision: 0.9954 - recall: 0.9944 - val_loss: 0.3076 - val_categorical_accuracy: 0.9126 - val_precision: 0.9323 - val_recall: 0.8999 - lr: 7.8125e-07\n",
      "Epoch 31/50\n",
      "176/176 [==============================] - 13s 71ms/step - loss: 0.0233 - categorical_accuracy: 0.9954 - precision: 0.9956 - recall: 0.9948 - val_loss: 0.3079 - val_categorical_accuracy: 0.9130 - val_precision: 0.9313 - val_recall: 0.9002 - lr: 3.9062e-07\n",
      "Epoch 32/50\n",
      "176/176 [==============================] - 13s 73ms/step - loss: 0.0239 - categorical_accuracy: 0.9949 - precision: 0.9951 - recall: 0.9943 - val_loss: 0.3086 - val_categorical_accuracy: 0.9126 - val_precision: 0.9313 - val_recall: 0.9006 - lr: 3.9062e-07\n",
      "Epoch 33/50\n",
      "176/176 [==============================] - 13s 72ms/step - loss: 0.0241 - categorical_accuracy: 0.9949 - precision: 0.9953 - recall: 0.9942 - val_loss: 0.3084 - val_categorical_accuracy: 0.9123 - val_precision: 0.9317 - val_recall: 0.9009 - lr: 1.9531e-07\n",
      "Epoch 34/50\n",
      "176/176 [==============================] - 13s 73ms/step - loss: 0.0244 - categorical_accuracy: 0.9953 - precision: 0.9955 - recall: 0.9947 - val_loss: 0.3084 - val_categorical_accuracy: 0.9123 - val_precision: 0.9320 - val_recall: 0.9002 - lr: 1.9531e-07\n",
      "Epoch 35/50\n",
      "176/176 [==============================] - 13s 73ms/step - loss: 0.0229 - categorical_accuracy: 0.9959 - precision: 0.9963 - recall: 0.9953 - val_loss: 0.3082 - val_categorical_accuracy: 0.9123 - val_precision: 0.9317 - val_recall: 0.9006 - lr: 9.7656e-08\n",
      "Epoch 36/50\n",
      "176/176 [==============================] - 13s 72ms/step - loss: 0.0235 - categorical_accuracy: 0.9953 - precision: 0.9956 - recall: 0.9948 - val_loss: 0.3085 - val_categorical_accuracy: 0.9123 - val_precision: 0.9320 - val_recall: 0.8999 - lr: 9.7656e-08\n",
      "Epoch 37/50\n",
      "176/176 [==============================] - 13s 72ms/step - loss: 0.0246 - categorical_accuracy: 0.9945 - precision: 0.9951 - recall: 0.9935 - val_loss: 0.3084 - val_categorical_accuracy: 0.9123 - val_precision: 0.9320 - val_recall: 0.9002 - lr: 4.8828e-08\n",
      "Epoch 38/50\n",
      "176/176 [==============================] - 13s 71ms/step - loss: 0.0234 - categorical_accuracy: 0.9950 - precision: 0.9952 - recall: 0.9948 - val_loss: 0.3086 - val_categorical_accuracy: 0.9126 - val_precision: 0.9317 - val_recall: 0.9006 - lr: 4.8828e-08\n",
      "Epoch 39/50\n",
      "176/176 [==============================] - 13s 72ms/step - loss: 0.0248 - categorical_accuracy: 0.9938 - precision: 0.9944 - recall: 0.9928 - val_loss: 0.3084 - val_categorical_accuracy: 0.9130 - val_precision: 0.9316 - val_recall: 0.8999 - lr: 2.4414e-08\n",
      "Epoch 40/50\n",
      "176/176 [==============================] - 13s 73ms/step - loss: 0.0232 - categorical_accuracy: 0.9954 - precision: 0.9956 - recall: 0.9949 - val_loss: 0.3079 - val_categorical_accuracy: 0.9126 - val_precision: 0.9316 - val_recall: 0.8995 - lr: 2.4414e-08\n",
      "Epoch 41/50\n",
      "176/176 [==============================] - 13s 70ms/step - loss: 0.0239 - categorical_accuracy: 0.9954 - precision: 0.9956 - recall: 0.9944 - val_loss: 0.3082 - val_categorical_accuracy: 0.9130 - val_precision: 0.9316 - val_recall: 0.8999 - lr: 1.2207e-08\n",
      "Epoch 42/50\n",
      "176/176 [==============================] - 13s 73ms/step - loss: 0.0226 - categorical_accuracy: 0.9955 - precision: 0.9957 - recall: 0.9949 - val_loss: 0.3081 - val_categorical_accuracy: 0.9130 - val_precision: 0.9313 - val_recall: 0.9002 - lr: 1.2207e-08\n",
      "Epoch 43/50\n",
      "176/176 [==============================] - 13s 72ms/step - loss: 0.0233 - categorical_accuracy: 0.9958 - precision: 0.9961 - recall: 0.9952 - val_loss: 0.3083 - val_categorical_accuracy: 0.9126 - val_precision: 0.9320 - val_recall: 0.9002 - lr: 1.0000e-08\n",
      "Epoch 44/50\n",
      "176/176 [==============================] - 13s 72ms/step - loss: 0.0236 - categorical_accuracy: 0.9949 - precision: 0.9951 - recall: 0.9941 - val_loss: 0.3080 - val_categorical_accuracy: 0.9126 - val_precision: 0.9317 - val_recall: 0.9006 - lr: 1.0000e-08\n",
      "Epoch 45/50\n",
      "176/176 [==============================] - 13s 71ms/step - loss: 0.0256 - categorical_accuracy: 0.9939 - precision: 0.9943 - recall: 0.9933 - val_loss: 0.3081 - val_categorical_accuracy: 0.9126 - val_precision: 0.9320 - val_recall: 0.8999 - lr: 1.0000e-08\n",
      "Epoch 46/50\n",
      "176/176 [==============================] - 13s 72ms/step - loss: 0.0243 - categorical_accuracy: 0.9945 - precision: 0.9950 - recall: 0.9935 - val_loss: 0.3084 - val_categorical_accuracy: 0.9119 - val_precision: 0.9313 - val_recall: 0.8999 - lr: 1.0000e-08\n",
      "Epoch 47/50\n",
      "176/176 [==============================] - 13s 72ms/step - loss: 0.0249 - categorical_accuracy: 0.9943 - precision: 0.9948 - recall: 0.9936 - val_loss: 0.3082 - val_categorical_accuracy: 0.9130 - val_precision: 0.9316 - val_recall: 0.9002 - lr: 1.0000e-08\n",
      "Epoch 48/50\n",
      "176/176 [==============================] - 13s 72ms/step - loss: 0.0240 - categorical_accuracy: 0.9952 - precision: 0.9956 - recall: 0.9947 - val_loss: 0.3083 - val_categorical_accuracy: 0.9126 - val_precision: 0.9316 - val_recall: 0.9002 - lr: 1.0000e-08\n",
      "Epoch 49/50\n",
      "176/176 [==============================] - 13s 72ms/step - loss: 0.0243 - categorical_accuracy: 0.9941 - precision: 0.9948 - recall: 0.9933 - val_loss: 0.3083 - val_categorical_accuracy: 0.9126 - val_precision: 0.9317 - val_recall: 0.9006 - lr: 1.0000e-08\n",
      "Epoch 50/50\n",
      "176/176 [==============================] - 13s 73ms/step - loss: 0.0237 - categorical_accuracy: 0.9953 - precision: 0.9954 - recall: 0.9947 - val_loss: 0.3079 - val_categorical_accuracy: 0.9123 - val_precision: 0.9320 - val_recall: 0.8999 - lr: 1.0000e-08\n"
     ]
    }
   ],
   "source": [
    "# Train Model\n",
    "log_dir = \"../Running result/3/3\"\n",
    "tensorboard_callback = tf.keras.callbacks.TensorBoard(log_dir=log_dir, histogram_freq=1)\n",
    "lr_scheduler = tf.keras.callbacks.ReduceLROnPlateau(monitor='val_categorical_accuracy', factor=0.5, patience=2, min_lr=1e-8)\n",
    "\n",
    "history = model.fit(train_ds, epochs=EPOCHS, validation_data=vaild_ds, callbacks=[lr_scheduler, tensorboard_callback])"
   ]
  },
  {
   "cell_type": "code",
   "execution_count": 14,
   "metadata": {},
   "outputs": [
    {
     "name": "stdout",
     "output_type": "stream",
     "text": [
      "Training history saved to: ../Running result/3/3/3.xlsx\n"
     ]
    },
    {
     "name": "stderr",
     "output_type": "stream",
     "text": [
      "/root/anaconda3/lib/python3.11/site-packages/keras/src/engine/training.py:3103: UserWarning: You are saving your model as an HDF5 file via `model.save()`. This file format is considered legacy. We recommend using instead the native Keras format, e.g. `model.save('my_model.keras')`.\n",
      "  saving_api.save_model(\n"
     ]
    },
    {
     "name": "stdout",
     "output_type": "stream",
     "text": [
      "Model saved to: ../Running result/3/3/3.h5\n"
     ]
    }
   ],
   "source": [
    "import pandas as pd  # Import Pandas library\n",
    "import os\n",
    "\n",
    "# Define save path\n",
    "model_dir = \"../Running result/3/3\"\n",
    "excel_file_path = os.path.join(model_dir, \"3.xlsx\")  # Path to save the Excel file\n",
    "model_file_path = os.path.join(model_dir, \"3.h5\")  # Path to save the model\n",
    "\n",
    "# Check if the save directory exists; create it if it does not\n",
    "if not os.path.exists(model_dir):\n",
    "    os.makedirs(model_dir)\n",
    "\n",
    "# Save training history to an Excel file\n",
    "history_df = pd.DataFrame(history.history)  \n",
    "history_df.to_excel(excel_file_path, index=False)\n",
    "print(f\"Training history saved to: {excel_file_path}\")\n",
    "\n",
    "# Save the model to the specified path\n",
    "model.save(model_file_path)\n",
    "print(f\"Model saved to: {model_file_path}\")\n"
   ]
  },
  {
   "cell_type": "code",
   "execution_count": null,
   "metadata": {},
   "outputs": [],
   "source": []
  },
  {
   "cell_type": "code",
   "execution_count": null,
   "metadata": {},
   "outputs": [],
   "source": []
  }
 ],
 "metadata": {
  "accelerator": "GPU",
  "colab": {
   "provenance": []
  },
  "kernelspec": {
   "display_name": "Python 3 (ipykernel)",
   "language": "python",
   "name": "python3"
  },
  "language_info": {
   "codemirror_mode": {
    "name": "ipython",
    "version": 3
   },
   "file_extension": ".py",
   "mimetype": "text/x-python",
   "name": "python",
   "nbconvert_exporter": "python",
   "pygments_lexer": "ipython3",
   "version": "3.11.7"
  }
 },
 "nbformat": 4,
 "nbformat_minor": 4
}
